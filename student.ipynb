{
 "cells": [
  {
   "cell_type": "markdown",
   "metadata": {},
   "source": [
    "## Final Project Submission\n",
    "\n",
    "Please fill out:\n",
    "* Student name: Qilun Chen, Evan Serrano \n",
    "* Student pace: full time\n",
    "* Scheduled project review date/time: \n",
    "* Instructor name: Praveen Gowtham, Joe Comeaux\n",
    "* Blog post URL:https://github.com/SerranoEvan/dsc-phase-2-project-v2-3\n"
   ]
  },
  {
   "cell_type": "code",
   "execution_count": 1,
   "metadata": {},
   "outputs": [],
   "source": [
    "import numpy as np\n",
    "import pandas as pd\n",
    "import seaborn as sns\n",
    "import matplotlib.pyplot as plt\n",
    "from matplotlib import style\n",
    "from sklearn.linear_model import LinearRegression\n",
    "from sklearn.model_selection import train_test_split\n",
    "from sklearn.metrics import mean_absolute_error\n",
    "from sklearn.metrics import mean_squared_error\n",
    "import statsmodels.api as sm\n",
    "from statsmodels.formula.api import ols\n",
    "\n",
    "%matplotlib inline"
   ]
  },
  {
   "cell_type": "markdown",
   "metadata": {},
   "source": [
    "# Data cleaning"
   ]
  },
  {
   "cell_type": "code",
   "execution_count": 2,
   "metadata": {},
   "outputs": [
    {
     "data": {
      "text/html": [
       "<div>\n",
       "<style scoped>\n",
       "    .dataframe tbody tr th:only-of-type {\n",
       "        vertical-align: middle;\n",
       "    }\n",
       "\n",
       "    .dataframe tbody tr th {\n",
       "        vertical-align: top;\n",
       "    }\n",
       "\n",
       "    .dataframe thead th {\n",
       "        text-align: right;\n",
       "    }\n",
       "</style>\n",
       "<table border=\"1\" class=\"dataframe\">\n",
       "  <thead>\n",
       "    <tr style=\"text-align: right;\">\n",
       "      <th></th>\n",
       "      <th>id</th>\n",
       "      <th>date</th>\n",
       "      <th>price</th>\n",
       "      <th>bedrooms</th>\n",
       "      <th>bathrooms</th>\n",
       "      <th>sqft_living</th>\n",
       "      <th>sqft_lot</th>\n",
       "      <th>floors</th>\n",
       "      <th>waterfront</th>\n",
       "      <th>view</th>\n",
       "      <th>...</th>\n",
       "      <th>grade</th>\n",
       "      <th>sqft_above</th>\n",
       "      <th>sqft_basement</th>\n",
       "      <th>yr_built</th>\n",
       "      <th>yr_renovated</th>\n",
       "      <th>zipcode</th>\n",
       "      <th>lat</th>\n",
       "      <th>long</th>\n",
       "      <th>sqft_living15</th>\n",
       "      <th>sqft_lot15</th>\n",
       "    </tr>\n",
       "  </thead>\n",
       "  <tbody>\n",
       "    <tr>\n",
       "      <th>0</th>\n",
       "      <td>7129300520</td>\n",
       "      <td>10/13/2014</td>\n",
       "      <td>221900.0</td>\n",
       "      <td>3</td>\n",
       "      <td>1.00</td>\n",
       "      <td>1180</td>\n",
       "      <td>5650</td>\n",
       "      <td>1.0</td>\n",
       "      <td>NaN</td>\n",
       "      <td>NONE</td>\n",
       "      <td>...</td>\n",
       "      <td>7 Average</td>\n",
       "      <td>1180</td>\n",
       "      <td>0.0</td>\n",
       "      <td>1955</td>\n",
       "      <td>0.0</td>\n",
       "      <td>98178</td>\n",
       "      <td>47.5112</td>\n",
       "      <td>-122.257</td>\n",
       "      <td>1340</td>\n",
       "      <td>5650</td>\n",
       "    </tr>\n",
       "    <tr>\n",
       "      <th>1</th>\n",
       "      <td>6414100192</td>\n",
       "      <td>12/9/2014</td>\n",
       "      <td>538000.0</td>\n",
       "      <td>3</td>\n",
       "      <td>2.25</td>\n",
       "      <td>2570</td>\n",
       "      <td>7242</td>\n",
       "      <td>2.0</td>\n",
       "      <td>NO</td>\n",
       "      <td>NONE</td>\n",
       "      <td>...</td>\n",
       "      <td>7 Average</td>\n",
       "      <td>2170</td>\n",
       "      <td>400.0</td>\n",
       "      <td>1951</td>\n",
       "      <td>1991.0</td>\n",
       "      <td>98125</td>\n",
       "      <td>47.7210</td>\n",
       "      <td>-122.319</td>\n",
       "      <td>1690</td>\n",
       "      <td>7639</td>\n",
       "    </tr>\n",
       "    <tr>\n",
       "      <th>2</th>\n",
       "      <td>5631500400</td>\n",
       "      <td>2/25/2015</td>\n",
       "      <td>180000.0</td>\n",
       "      <td>2</td>\n",
       "      <td>1.00</td>\n",
       "      <td>770</td>\n",
       "      <td>10000</td>\n",
       "      <td>1.0</td>\n",
       "      <td>NO</td>\n",
       "      <td>NONE</td>\n",
       "      <td>...</td>\n",
       "      <td>6 Low Average</td>\n",
       "      <td>770</td>\n",
       "      <td>0.0</td>\n",
       "      <td>1933</td>\n",
       "      <td>NaN</td>\n",
       "      <td>98028</td>\n",
       "      <td>47.7379</td>\n",
       "      <td>-122.233</td>\n",
       "      <td>2720</td>\n",
       "      <td>8062</td>\n",
       "    </tr>\n",
       "    <tr>\n",
       "      <th>3</th>\n",
       "      <td>2487200875</td>\n",
       "      <td>12/9/2014</td>\n",
       "      <td>604000.0</td>\n",
       "      <td>4</td>\n",
       "      <td>3.00</td>\n",
       "      <td>1960</td>\n",
       "      <td>5000</td>\n",
       "      <td>1.0</td>\n",
       "      <td>NO</td>\n",
       "      <td>NONE</td>\n",
       "      <td>...</td>\n",
       "      <td>7 Average</td>\n",
       "      <td>1050</td>\n",
       "      <td>910.0</td>\n",
       "      <td>1965</td>\n",
       "      <td>0.0</td>\n",
       "      <td>98136</td>\n",
       "      <td>47.5208</td>\n",
       "      <td>-122.393</td>\n",
       "      <td>1360</td>\n",
       "      <td>5000</td>\n",
       "    </tr>\n",
       "    <tr>\n",
       "      <th>4</th>\n",
       "      <td>1954400510</td>\n",
       "      <td>2/18/2015</td>\n",
       "      <td>510000.0</td>\n",
       "      <td>3</td>\n",
       "      <td>2.00</td>\n",
       "      <td>1680</td>\n",
       "      <td>8080</td>\n",
       "      <td>1.0</td>\n",
       "      <td>NO</td>\n",
       "      <td>NONE</td>\n",
       "      <td>...</td>\n",
       "      <td>8 Good</td>\n",
       "      <td>1680</td>\n",
       "      <td>0.0</td>\n",
       "      <td>1987</td>\n",
       "      <td>0.0</td>\n",
       "      <td>98074</td>\n",
       "      <td>47.6168</td>\n",
       "      <td>-122.045</td>\n",
       "      <td>1800</td>\n",
       "      <td>7503</td>\n",
       "    </tr>\n",
       "  </tbody>\n",
       "</table>\n",
       "<p>5 rows × 21 columns</p>\n",
       "</div>"
      ],
      "text/plain": [
       "           id        date     price  bedrooms  bathrooms  sqft_living  \\\n",
       "0  7129300520  10/13/2014  221900.0         3       1.00         1180   \n",
       "1  6414100192   12/9/2014  538000.0         3       2.25         2570   \n",
       "2  5631500400   2/25/2015  180000.0         2       1.00          770   \n",
       "3  2487200875   12/9/2014  604000.0         4       3.00         1960   \n",
       "4  1954400510   2/18/2015  510000.0         3       2.00         1680   \n",
       "\n",
       "   sqft_lot  floors waterfront  view  ...          grade sqft_above  \\\n",
       "0      5650     1.0        NaN  NONE  ...      7 Average       1180   \n",
       "1      7242     2.0         NO  NONE  ...      7 Average       2170   \n",
       "2     10000     1.0         NO  NONE  ...  6 Low Average        770   \n",
       "3      5000     1.0         NO  NONE  ...      7 Average       1050   \n",
       "4      8080     1.0         NO  NONE  ...         8 Good       1680   \n",
       "\n",
       "   sqft_basement yr_built  yr_renovated  zipcode      lat     long  \\\n",
       "0            0.0     1955           0.0    98178  47.5112 -122.257   \n",
       "1          400.0     1951        1991.0    98125  47.7210 -122.319   \n",
       "2            0.0     1933           NaN    98028  47.7379 -122.233   \n",
       "3          910.0     1965           0.0    98136  47.5208 -122.393   \n",
       "4            0.0     1987           0.0    98074  47.6168 -122.045   \n",
       "\n",
       "   sqft_living15  sqft_lot15  \n",
       "0           1340        5650  \n",
       "1           1690        7639  \n",
       "2           2720        8062  \n",
       "3           1360        5000  \n",
       "4           1800        7503  \n",
       "\n",
       "[5 rows x 21 columns]"
      ]
     },
     "execution_count": 2,
     "metadata": {},
     "output_type": "execute_result"
    }
   ],
   "source": [
    "data = pd.read_csv('data/kc_house_data.csv')\n",
    "data.head()"
   ]
  },
  {
   "cell_type": "code",
   "execution_count": 3,
   "metadata": {},
   "outputs": [
    {
     "data": {
      "text/plain": [
       "id                  0\n",
       "date                0\n",
       "price               0\n",
       "bedrooms            0\n",
       "bathrooms           0\n",
       "sqft_living         0\n",
       "sqft_lot            0\n",
       "floors              0\n",
       "waterfront       2376\n",
       "view               63\n",
       "condition           0\n",
       "grade               0\n",
       "sqft_above          0\n",
       "sqft_basement       0\n",
       "yr_built            0\n",
       "yr_renovated     3842\n",
       "zipcode             0\n",
       "lat                 0\n",
       "long                0\n",
       "sqft_living15       0\n",
       "sqft_lot15          0\n",
       "dtype: int64"
      ]
     },
     "execution_count": 3,
     "metadata": {},
     "output_type": "execute_result"
    }
   ],
   "source": [
    "data.isna().sum()"
   ]
  },
  {
   "cell_type": "code",
   "execution_count": 4,
   "metadata": {},
   "outputs": [
    {
     "data": {
      "text/plain": [
       "id                 int64\n",
       "date              object\n",
       "price            float64\n",
       "bedrooms           int64\n",
       "bathrooms        float64\n",
       "sqft_living        int64\n",
       "sqft_lot           int64\n",
       "floors           float64\n",
       "waterfront        object\n",
       "view              object\n",
       "condition         object\n",
       "grade             object\n",
       "sqft_above         int64\n",
       "sqft_basement     object\n",
       "yr_built           int64\n",
       "yr_renovated     float64\n",
       "zipcode            int64\n",
       "lat              float64\n",
       "long             float64\n",
       "sqft_living15      int64\n",
       "sqft_lot15         int64\n",
       "dtype: object"
      ]
     },
     "execution_count": 4,
     "metadata": {},
     "output_type": "execute_result"
    }
   ],
   "source": [
    "data.dtypes"
   ]
  },
  {
   "cell_type": "markdown",
   "metadata": {},
   "source": [
    "change sqft_basement from object to float"
   ]
  },
  {
   "cell_type": "code",
   "execution_count": 5,
   "metadata": {},
   "outputs": [],
   "source": [
    "data.loc[:, 'sqft_basement'] = data['sqft_basement'].str.replace(\"?\",\"0.0\")\n",
    "data.loc[:, 'sqft_basement'] = data['sqft_basement'].astype('float64')"
   ]
  },
  {
   "cell_type": "markdown",
   "metadata": {},
   "source": [
    "replace NaN in view to NONE"
   ]
  },
  {
   "cell_type": "code",
   "execution_count": 6,
   "metadata": {},
   "outputs": [],
   "source": [
    "data['view'] = data['view'].fillna('NONE')"
   ]
  },
  {
   "cell_type": "markdown",
   "metadata": {},
   "source": [
    "replace NaN in waterfront to NO"
   ]
  },
  {
   "cell_type": "code",
   "execution_count": 7,
   "metadata": {},
   "outputs": [],
   "source": [
    "data['waterfront'] = data['waterfront'].fillna('NO')"
   ]
  },
  {
   "cell_type": "markdown",
   "metadata": {},
   "source": [
    "replace NaN in yr_renovated to 0"
   ]
  },
  {
   "cell_type": "code",
   "execution_count": 8,
   "metadata": {},
   "outputs": [],
   "source": [
    "data['yr_renovated'] = data['yr_renovated'].fillna(0)"
   ]
  },
  {
   "cell_type": "markdown",
   "metadata": {},
   "source": [
    "check how many NaN in data"
   ]
  },
  {
   "cell_type": "code",
   "execution_count": 9,
   "metadata": {},
   "outputs": [
    {
     "data": {
      "text/plain": [
       "0"
      ]
     },
     "execution_count": 9,
     "metadata": {},
     "output_type": "execute_result"
    }
   ],
   "source": [
    "data.isna().sum().sum()"
   ]
  },
  {
   "cell_type": "markdown",
   "metadata": {},
   "source": [
    "drop lat column and long column in data"
   ]
  },
  {
   "cell_type": "code",
   "execution_count": 10,
   "metadata": {},
   "outputs": [],
   "source": [
    "data.drop(columns = 'lat', inplace = True)"
   ]
  },
  {
   "cell_type": "code",
   "execution_count": 11,
   "metadata": {},
   "outputs": [],
   "source": [
    "data.drop(columns = 'long', inplace = True)"
   ]
  },
  {
   "cell_type": "markdown",
   "metadata": {},
   "source": [
    "chreate new columns propertyTaxPerYear, livingAreaRatio, year_sold, houseAge, pricePerSqft"
   ]
  },
  {
   "cell_type": "code",
   "execution_count": 12,
   "metadata": {},
   "outputs": [],
   "source": [
    "data['propertyTaxPerYear'] = data['price'] * 0.0101"
   ]
  },
  {
   "cell_type": "code",
   "execution_count": 13,
   "metadata": {},
   "outputs": [],
   "source": [
    "data['livingAreaRatio'] = data['sqft_living'] / data['sqft_lot']"
   ]
  },
  {
   "cell_type": "code",
   "execution_count": 14,
   "metadata": {},
   "outputs": [],
   "source": [
    "data['date'] = pd.to_datetime(data['date'])\n",
    "data['year_sold'] = data['date'].dt.year"
   ]
  },
  {
   "cell_type": "code",
   "execution_count": 15,
   "metadata": {},
   "outputs": [],
   "source": [
    "data['houseAge'] = data['year_sold'] - data['yr_built']"
   ]
  },
  {
   "cell_type": "code",
   "execution_count": 16,
   "metadata": {},
   "outputs": [],
   "source": [
    "data['pricePerSqft'] = data['price'] / data['sqft_lot']"
   ]
  },
  {
   "cell_type": "markdown",
   "metadata": {},
   "source": [
    "change columns waterfront, view, condition, grade to Ordinal encoding"
   ]
  },
  {
   "cell_type": "code",
   "execution_count": 17,
   "metadata": {},
   "outputs": [],
   "source": [
    "data['waterfront'] = pd.get_dummies(data['waterfront'], drop_first = True)"
   ]
  },
  {
   "cell_type": "code",
   "execution_count": 18,
   "metadata": {},
   "outputs": [],
   "source": [
    "data['view'] = data['view'].astype('category')"
   ]
  },
  {
   "cell_type": "code",
   "execution_count": 19,
   "metadata": {},
   "outputs": [],
   "source": [
    "data['view'] = data['view'].cat.reorder_categories(['NONE', 'FAIR', 'AVERAGE', 'GOOD', 'EXCELLENT'])\n"
   ]
  },
  {
   "cell_type": "code",
   "execution_count": 20,
   "metadata": {},
   "outputs": [],
   "source": [
    "data['view'] = data['view'].cat.codes\n"
   ]
  },
  {
   "cell_type": "code",
   "execution_count": 21,
   "metadata": {},
   "outputs": [],
   "source": [
    "data['condition'] = data['condition'].astype('category')"
   ]
  },
  {
   "cell_type": "code",
   "execution_count": 22,
   "metadata": {},
   "outputs": [],
   "source": [
    "data['condition'] = data['condition'].cat.codes"
   ]
  },
  {
   "cell_type": "code",
   "execution_count": 23,
   "metadata": {},
   "outputs": [],
   "source": [
    "data['grade'] = data['grade'].astype('category')"
   ]
  },
  {
   "cell_type": "code",
   "execution_count": 24,
   "metadata": {},
   "outputs": [],
   "source": [
    "data['grade'] = data['grade'].cat.codes\n"
   ]
  },
  {
   "cell_type": "markdown",
   "metadata": {},
   "source": [
    "# how home rebuilt might increase the estimated value of their homes, and by what amount."
   ]
  },
  {
   "cell_type": "markdown",
   "metadata": {},
   "source": [
    "## Understand factors affecting price"
   ]
  },
  {
   "cell_type": "code",
   "execution_count": 25,
   "metadata": {},
   "outputs": [
    {
     "data": {
      "text/plain": [
       "Index(['id', 'date', 'price', 'bedrooms', 'bathrooms', 'sqft_living',\n",
       "       'sqft_lot', 'floors', 'waterfront', 'view', 'condition', 'grade',\n",
       "       'sqft_above', 'sqft_basement', 'yr_built', 'yr_renovated', 'zipcode',\n",
       "       'sqft_living15', 'sqft_lot15', 'propertyTaxPerYear', 'livingAreaRatio',\n",
       "       'year_sold', 'houseAge', 'pricePerSqft'],\n",
       "      dtype='object')"
      ]
     },
     "execution_count": 25,
     "metadata": {},
     "output_type": "execute_result"
    }
   ],
   "source": [
    "data.columns"
   ]
  },
  {
   "cell_type": "markdown",
   "metadata": {},
   "source": [
    "drop some too obviously correlated columns."
   ]
  },
  {
   "cell_type": "code",
   "execution_count": 26,
   "metadata": {},
   "outputs": [],
   "source": [
    "df = data.drop(columns= ['id', 'date', 'propertyTaxPerYear', 'pricePerSqft', 'zipcode','year_sold','yr_built','yr_renovated' ])"
   ]
  },
  {
   "cell_type": "markdown",
   "metadata": {},
   "source": [
    "only looking for brand new houses."
   ]
  },
  {
   "cell_type": "code",
   "execution_count": 27,
   "metadata": {},
   "outputs": [],
   "source": [
    "df = df[df['houseAge'] < 1]"
   ]
  },
  {
   "cell_type": "code",
   "execution_count": 28,
   "metadata": {},
   "outputs": [
    {
     "name": "stdout",
     "output_type": "stream",
     "text": [
      "<class 'pandas.core.frame.DataFrame'>\n",
      "Int64Index: 442 entries, 42 to 21589\n",
      "Data columns (total 16 columns):\n",
      " #   Column           Non-Null Count  Dtype  \n",
      "---  ------           --------------  -----  \n",
      " 0   price            442 non-null    float64\n",
      " 1   bedrooms         442 non-null    int64  \n",
      " 2   bathrooms        442 non-null    float64\n",
      " 3   sqft_living      442 non-null    int64  \n",
      " 4   sqft_lot         442 non-null    int64  \n",
      " 5   floors           442 non-null    float64\n",
      " 6   waterfront       442 non-null    uint8  \n",
      " 7   view             442 non-null    int8   \n",
      " 8   condition        442 non-null    int8   \n",
      " 9   grade            442 non-null    int8   \n",
      " 10  sqft_above       442 non-null    int64  \n",
      " 11  sqft_basement    442 non-null    float64\n",
      " 12  sqft_living15    442 non-null    int64  \n",
      " 13  sqft_lot15       442 non-null    int64  \n",
      " 14  livingAreaRatio  442 non-null    float64\n",
      " 15  houseAge         442 non-null    int64  \n",
      "dtypes: float64(5), int64(7), int8(3), uint8(1)\n",
      "memory usage: 46.6 KB\n"
     ]
    }
   ],
   "source": [
    "df.info()"
   ]
  },
  {
   "cell_type": "markdown",
   "metadata": {},
   "source": [
    "X is now our feature matrix\n",
    "y is a vector of targets our outcomes."
   ]
  },
  {
   "cell_type": "code",
   "execution_count": 29,
   "metadata": {},
   "outputs": [],
   "source": [
    "X = df.drop(columns = ['price'])\n",
    "Y = df['price']"
   ]
  },
  {
   "cell_type": "code",
   "execution_count": 30,
   "metadata": {},
   "outputs": [
    {
     "data": {
      "text/html": [
       "<div>\n",
       "<style scoped>\n",
       "    .dataframe tbody tr th:only-of-type {\n",
       "        vertical-align: middle;\n",
       "    }\n",
       "\n",
       "    .dataframe tbody tr th {\n",
       "        vertical-align: top;\n",
       "    }\n",
       "\n",
       "    .dataframe thead th {\n",
       "        text-align: right;\n",
       "    }\n",
       "</style>\n",
       "<table border=\"1\" class=\"dataframe\">\n",
       "  <thead>\n",
       "    <tr style=\"text-align: right;\">\n",
       "      <th></th>\n",
       "      <th>bedrooms</th>\n",
       "      <th>bathrooms</th>\n",
       "      <th>sqft_living</th>\n",
       "      <th>sqft_lot</th>\n",
       "      <th>floors</th>\n",
       "      <th>waterfront</th>\n",
       "      <th>view</th>\n",
       "      <th>condition</th>\n",
       "      <th>grade</th>\n",
       "      <th>sqft_above</th>\n",
       "      <th>sqft_basement</th>\n",
       "      <th>sqft_living15</th>\n",
       "      <th>sqft_lot15</th>\n",
       "      <th>livingAreaRatio</th>\n",
       "      <th>houseAge</th>\n",
       "    </tr>\n",
       "  </thead>\n",
       "  <tbody>\n",
       "    <tr>\n",
       "      <th>42</th>\n",
       "      <td>5</td>\n",
       "      <td>2.75</td>\n",
       "      <td>3595</td>\n",
       "      <td>5639</td>\n",
       "      <td>2.0</td>\n",
       "      <td>0</td>\n",
       "      <td>0</td>\n",
       "      <td>0</td>\n",
       "      <td>10</td>\n",
       "      <td>3595</td>\n",
       "      <td>0.0</td>\n",
       "      <td>3625</td>\n",
       "      <td>5639</td>\n",
       "      <td>0.637524</td>\n",
       "      <td>0</td>\n",
       "    </tr>\n",
       "    <tr>\n",
       "      <th>63</th>\n",
       "      <td>3</td>\n",
       "      <td>1.75</td>\n",
       "      <td>1540</td>\n",
       "      <td>1044</td>\n",
       "      <td>3.0</td>\n",
       "      <td>0</td>\n",
       "      <td>0</td>\n",
       "      <td>0</td>\n",
       "      <td>9</td>\n",
       "      <td>1540</td>\n",
       "      <td>0.0</td>\n",
       "      <td>1580</td>\n",
       "      <td>3090</td>\n",
       "      <td>1.475096</td>\n",
       "      <td>0</td>\n",
       "    </tr>\n",
       "    <tr>\n",
       "      <th>133</th>\n",
       "      <td>3</td>\n",
       "      <td>2.50</td>\n",
       "      <td>2010</td>\n",
       "      <td>2287</td>\n",
       "      <td>2.0</td>\n",
       "      <td>0</td>\n",
       "      <td>0</td>\n",
       "      <td>0</td>\n",
       "      <td>9</td>\n",
       "      <td>1390</td>\n",
       "      <td>620.0</td>\n",
       "      <td>1690</td>\n",
       "      <td>1662</td>\n",
       "      <td>0.878881</td>\n",
       "      <td>0</td>\n",
       "    </tr>\n",
       "    <tr>\n",
       "      <th>139</th>\n",
       "      <td>3</td>\n",
       "      <td>2.25</td>\n",
       "      <td>1170</td>\n",
       "      <td>1249</td>\n",
       "      <td>3.0</td>\n",
       "      <td>0</td>\n",
       "      <td>0</td>\n",
       "      <td>0</td>\n",
       "      <td>9</td>\n",
       "      <td>1170</td>\n",
       "      <td>0.0</td>\n",
       "      <td>1350</td>\n",
       "      <td>1310</td>\n",
       "      <td>0.936749</td>\n",
       "      <td>0</td>\n",
       "    </tr>\n",
       "    <tr>\n",
       "      <th>211</th>\n",
       "      <td>3</td>\n",
       "      <td>2.25</td>\n",
       "      <td>1270</td>\n",
       "      <td>1566</td>\n",
       "      <td>2.0</td>\n",
       "      <td>0</td>\n",
       "      <td>0</td>\n",
       "      <td>0</td>\n",
       "      <td>9</td>\n",
       "      <td>1060</td>\n",
       "      <td>210.0</td>\n",
       "      <td>1160</td>\n",
       "      <td>1327</td>\n",
       "      <td>0.810983</td>\n",
       "      <td>0</td>\n",
       "    </tr>\n",
       "    <tr>\n",
       "      <th>...</th>\n",
       "      <td>...</td>\n",
       "      <td>...</td>\n",
       "      <td>...</td>\n",
       "      <td>...</td>\n",
       "      <td>...</td>\n",
       "      <td>...</td>\n",
       "      <td>...</td>\n",
       "      <td>...</td>\n",
       "      <td>...</td>\n",
       "      <td>...</td>\n",
       "      <td>...</td>\n",
       "      <td>...</td>\n",
       "      <td>...</td>\n",
       "      <td>...</td>\n",
       "      <td>...</td>\n",
       "    </tr>\n",
       "    <tr>\n",
       "      <th>21575</th>\n",
       "      <td>4</td>\n",
       "      <td>2.75</td>\n",
       "      <td>2770</td>\n",
       "      <td>3852</td>\n",
       "      <td>2.0</td>\n",
       "      <td>0</td>\n",
       "      <td>0</td>\n",
       "      <td>0</td>\n",
       "      <td>9</td>\n",
       "      <td>2770</td>\n",
       "      <td>0.0</td>\n",
       "      <td>1810</td>\n",
       "      <td>5641</td>\n",
       "      <td>0.719107</td>\n",
       "      <td>0</td>\n",
       "    </tr>\n",
       "    <tr>\n",
       "      <th>21580</th>\n",
       "      <td>5</td>\n",
       "      <td>2.75</td>\n",
       "      <td>3600</td>\n",
       "      <td>9437</td>\n",
       "      <td>2.0</td>\n",
       "      <td>0</td>\n",
       "      <td>0</td>\n",
       "      <td>0</td>\n",
       "      <td>10</td>\n",
       "      <td>3600</td>\n",
       "      <td>0.0</td>\n",
       "      <td>3550</td>\n",
       "      <td>9421</td>\n",
       "      <td>0.381477</td>\n",
       "      <td>0</td>\n",
       "    </tr>\n",
       "    <tr>\n",
       "      <th>21582</th>\n",
       "      <td>4</td>\n",
       "      <td>2.50</td>\n",
       "      <td>3118</td>\n",
       "      <td>7866</td>\n",
       "      <td>2.0</td>\n",
       "      <td>0</td>\n",
       "      <td>2</td>\n",
       "      <td>0</td>\n",
       "      <td>10</td>\n",
       "      <td>3118</td>\n",
       "      <td>0.0</td>\n",
       "      <td>2673</td>\n",
       "      <td>6500</td>\n",
       "      <td>0.396390</td>\n",
       "      <td>0</td>\n",
       "    </tr>\n",
       "    <tr>\n",
       "      <th>21586</th>\n",
       "      <td>3</td>\n",
       "      <td>1.75</td>\n",
       "      <td>1500</td>\n",
       "      <td>11968</td>\n",
       "      <td>1.0</td>\n",
       "      <td>0</td>\n",
       "      <td>0</td>\n",
       "      <td>0</td>\n",
       "      <td>7</td>\n",
       "      <td>1500</td>\n",
       "      <td>0.0</td>\n",
       "      <td>1320</td>\n",
       "      <td>11303</td>\n",
       "      <td>0.125334</td>\n",
       "      <td>0</td>\n",
       "    </tr>\n",
       "    <tr>\n",
       "      <th>21589</th>\n",
       "      <td>4</td>\n",
       "      <td>2.50</td>\n",
       "      <td>2520</td>\n",
       "      <td>6023</td>\n",
       "      <td>2.0</td>\n",
       "      <td>0</td>\n",
       "      <td>0</td>\n",
       "      <td>0</td>\n",
       "      <td>10</td>\n",
       "      <td>2520</td>\n",
       "      <td>0.0</td>\n",
       "      <td>2520</td>\n",
       "      <td>6023</td>\n",
       "      <td>0.418396</td>\n",
       "      <td>0</td>\n",
       "    </tr>\n",
       "  </tbody>\n",
       "</table>\n",
       "<p>442 rows × 15 columns</p>\n",
       "</div>"
      ],
      "text/plain": [
       "       bedrooms  bathrooms  sqft_living  sqft_lot  floors  waterfront  view  \\\n",
       "42            5       2.75         3595      5639     2.0           0     0   \n",
       "63            3       1.75         1540      1044     3.0           0     0   \n",
       "133           3       2.50         2010      2287     2.0           0     0   \n",
       "139           3       2.25         1170      1249     3.0           0     0   \n",
       "211           3       2.25         1270      1566     2.0           0     0   \n",
       "...         ...        ...          ...       ...     ...         ...   ...   \n",
       "21575         4       2.75         2770      3852     2.0           0     0   \n",
       "21580         5       2.75         3600      9437     2.0           0     0   \n",
       "21582         4       2.50         3118      7866     2.0           0     2   \n",
       "21586         3       1.75         1500     11968     1.0           0     0   \n",
       "21589         4       2.50         2520      6023     2.0           0     0   \n",
       "\n",
       "       condition  grade  sqft_above  sqft_basement  sqft_living15  sqft_lot15  \\\n",
       "42             0     10        3595            0.0           3625        5639   \n",
       "63             0      9        1540            0.0           1580        3090   \n",
       "133            0      9        1390          620.0           1690        1662   \n",
       "139            0      9        1170            0.0           1350        1310   \n",
       "211            0      9        1060          210.0           1160        1327   \n",
       "...          ...    ...         ...            ...            ...         ...   \n",
       "21575          0      9        2770            0.0           1810        5641   \n",
       "21580          0     10        3600            0.0           3550        9421   \n",
       "21582          0     10        3118            0.0           2673        6500   \n",
       "21586          0      7        1500            0.0           1320       11303   \n",
       "21589          0     10        2520            0.0           2520        6023   \n",
       "\n",
       "       livingAreaRatio  houseAge  \n",
       "42            0.637524         0  \n",
       "63            1.475096         0  \n",
       "133           0.878881         0  \n",
       "139           0.936749         0  \n",
       "211           0.810983         0  \n",
       "...                ...       ...  \n",
       "21575         0.719107         0  \n",
       "21580         0.381477         0  \n",
       "21582         0.396390         0  \n",
       "21586         0.125334         0  \n",
       "21589         0.418396         0  \n",
       "\n",
       "[442 rows x 15 columns]"
      ]
     },
     "execution_count": 30,
     "metadata": {},
     "output_type": "execute_result"
    }
   ],
   "source": [
    "X"
   ]
  },
  {
   "cell_type": "markdown",
   "metadata": {},
   "source": [
    "Checking for collinearity through the correlation matrix"
   ]
  },
  {
   "cell_type": "code",
   "execution_count": 31,
   "metadata": {},
   "outputs": [
    {
     "data": {
      "text/html": [
       "<div>\n",
       "<style scoped>\n",
       "    .dataframe tbody tr th:only-of-type {\n",
       "        vertical-align: middle;\n",
       "    }\n",
       "\n",
       "    .dataframe tbody tr th {\n",
       "        vertical-align: top;\n",
       "    }\n",
       "\n",
       "    .dataframe thead th {\n",
       "        text-align: right;\n",
       "    }\n",
       "</style>\n",
       "<table border=\"1\" class=\"dataframe\">\n",
       "  <thead>\n",
       "    <tr style=\"text-align: right;\">\n",
       "      <th></th>\n",
       "      <th>bedrooms</th>\n",
       "      <th>bathrooms</th>\n",
       "      <th>sqft_living</th>\n",
       "      <th>sqft_lot</th>\n",
       "      <th>floors</th>\n",
       "      <th>waterfront</th>\n",
       "      <th>view</th>\n",
       "      <th>condition</th>\n",
       "      <th>grade</th>\n",
       "      <th>sqft_above</th>\n",
       "      <th>sqft_basement</th>\n",
       "      <th>sqft_living15</th>\n",
       "      <th>sqft_lot15</th>\n",
       "      <th>livingAreaRatio</th>\n",
       "      <th>houseAge</th>\n",
       "    </tr>\n",
       "  </thead>\n",
       "  <tbody>\n",
       "    <tr>\n",
       "      <th>bedrooms</th>\n",
       "      <td>1.000000</td>\n",
       "      <td>0.579423</td>\n",
       "      <td>0.707657</td>\n",
       "      <td>0.276501</td>\n",
       "      <td>-0.248584</td>\n",
       "      <td>-0.058851</td>\n",
       "      <td>0.074252</td>\n",
       "      <td>NaN</td>\n",
       "      <td>-0.087943</td>\n",
       "      <td>0.697206</td>\n",
       "      <td>0.086949</td>\n",
       "      <td>0.534356</td>\n",
       "      <td>0.264687</td>\n",
       "      <td>-0.500899</td>\n",
       "      <td>0.096395</td>\n",
       "    </tr>\n",
       "    <tr>\n",
       "      <th>bathrooms</th>\n",
       "      <td>0.579423</td>\n",
       "      <td>1.000000</td>\n",
       "      <td>0.711370</td>\n",
       "      <td>0.327647</td>\n",
       "      <td>-0.166322</td>\n",
       "      <td>0.085994</td>\n",
       "      <td>0.190201</td>\n",
       "      <td>NaN</td>\n",
       "      <td>-0.330452</td>\n",
       "      <td>0.608755</td>\n",
       "      <td>0.345810</td>\n",
       "      <td>0.462372</td>\n",
       "      <td>0.292468</td>\n",
       "      <td>-0.374677</td>\n",
       "      <td>0.087670</td>\n",
       "    </tr>\n",
       "    <tr>\n",
       "      <th>sqft_living</th>\n",
       "      <td>0.707657</td>\n",
       "      <td>0.711370</td>\n",
       "      <td>1.000000</td>\n",
       "      <td>0.474060</td>\n",
       "      <td>-0.236272</td>\n",
       "      <td>0.105931</td>\n",
       "      <td>0.304155</td>\n",
       "      <td>NaN</td>\n",
       "      <td>-0.313127</td>\n",
       "      <td>0.937606</td>\n",
       "      <td>0.255272</td>\n",
       "      <td>0.743208</td>\n",
       "      <td>0.441135</td>\n",
       "      <td>-0.545118</td>\n",
       "      <td>0.078584</td>\n",
       "    </tr>\n",
       "    <tr>\n",
       "      <th>sqft_lot</th>\n",
       "      <td>0.276501</td>\n",
       "      <td>0.327647</td>\n",
       "      <td>0.474060</td>\n",
       "      <td>1.000000</td>\n",
       "      <td>-0.194044</td>\n",
       "      <td>0.025984</td>\n",
       "      <td>0.098258</td>\n",
       "      <td>NaN</td>\n",
       "      <td>-0.210978</td>\n",
       "      <td>0.477177</td>\n",
       "      <td>0.040824</td>\n",
       "      <td>0.372969</td>\n",
       "      <td>0.929182</td>\n",
       "      <td>-0.489977</td>\n",
       "      <td>0.039175</td>\n",
       "    </tr>\n",
       "    <tr>\n",
       "      <th>floors</th>\n",
       "      <td>-0.248584</td>\n",
       "      <td>-0.166322</td>\n",
       "      <td>-0.236272</td>\n",
       "      <td>-0.194044</td>\n",
       "      <td>1.000000</td>\n",
       "      <td>-0.022918</td>\n",
       "      <td>-0.025207</td>\n",
       "      <td>NaN</td>\n",
       "      <td>0.025322</td>\n",
       "      <td>-0.187346</td>\n",
       "      <td>-0.176686</td>\n",
       "      <td>-0.223660</td>\n",
       "      <td>-0.171912</td>\n",
       "      <td>0.521961</td>\n",
       "      <td>-0.068353</td>\n",
       "    </tr>\n",
       "    <tr>\n",
       "      <th>waterfront</th>\n",
       "      <td>-0.058851</td>\n",
       "      <td>0.085994</td>\n",
       "      <td>0.105931</td>\n",
       "      <td>0.025984</td>\n",
       "      <td>-0.022918</td>\n",
       "      <td>1.000000</td>\n",
       "      <td>0.564074</td>\n",
       "      <td>NaN</td>\n",
       "      <td>-0.158994</td>\n",
       "      <td>0.050681</td>\n",
       "      <td>0.165940</td>\n",
       "      <td>0.104012</td>\n",
       "      <td>-0.000945</td>\n",
       "      <td>-0.029351</td>\n",
       "      <td>0.011263</td>\n",
       "    </tr>\n",
       "    <tr>\n",
       "      <th>view</th>\n",
       "      <td>0.074252</td>\n",
       "      <td>0.190201</td>\n",
       "      <td>0.304155</td>\n",
       "      <td>0.098258</td>\n",
       "      <td>-0.025207</td>\n",
       "      <td>0.564074</td>\n",
       "      <td>1.000000</td>\n",
       "      <td>NaN</td>\n",
       "      <td>-0.243251</td>\n",
       "      <td>0.190360</td>\n",
       "      <td>0.314606</td>\n",
       "      <td>0.281716</td>\n",
       "      <td>0.076188</td>\n",
       "      <td>-0.037313</td>\n",
       "      <td>-0.028815</td>\n",
       "    </tr>\n",
       "    <tr>\n",
       "      <th>condition</th>\n",
       "      <td>NaN</td>\n",
       "      <td>NaN</td>\n",
       "      <td>NaN</td>\n",
       "      <td>NaN</td>\n",
       "      <td>NaN</td>\n",
       "      <td>NaN</td>\n",
       "      <td>NaN</td>\n",
       "      <td>NaN</td>\n",
       "      <td>NaN</td>\n",
       "      <td>NaN</td>\n",
       "      <td>NaN</td>\n",
       "      <td>NaN</td>\n",
       "      <td>NaN</td>\n",
       "      <td>NaN</td>\n",
       "      <td>NaN</td>\n",
       "    </tr>\n",
       "    <tr>\n",
       "      <th>grade</th>\n",
       "      <td>-0.087943</td>\n",
       "      <td>-0.330452</td>\n",
       "      <td>-0.313127</td>\n",
       "      <td>-0.210978</td>\n",
       "      <td>0.025322</td>\n",
       "      <td>-0.158994</td>\n",
       "      <td>-0.243251</td>\n",
       "      <td>NaN</td>\n",
       "      <td>1.000000</td>\n",
       "      <td>-0.266339</td>\n",
       "      <td>-0.139315</td>\n",
       "      <td>-0.153827</td>\n",
       "      <td>-0.261389</td>\n",
       "      <td>0.146853</td>\n",
       "      <td>0.032093</td>\n",
       "    </tr>\n",
       "    <tr>\n",
       "      <th>sqft_above</th>\n",
       "      <td>0.697206</td>\n",
       "      <td>0.608755</td>\n",
       "      <td>0.937606</td>\n",
       "      <td>0.477177</td>\n",
       "      <td>-0.187346</td>\n",
       "      <td>0.050681</td>\n",
       "      <td>0.190360</td>\n",
       "      <td>NaN</td>\n",
       "      <td>-0.266339</td>\n",
       "      <td>1.000000</td>\n",
       "      <td>-0.089875</td>\n",
       "      <td>0.745605</td>\n",
       "      <td>0.448726</td>\n",
       "      <td>-0.612846</td>\n",
       "      <td>0.107616</td>\n",
       "    </tr>\n",
       "    <tr>\n",
       "      <th>sqft_basement</th>\n",
       "      <td>0.086949</td>\n",
       "      <td>0.345810</td>\n",
       "      <td>0.255272</td>\n",
       "      <td>0.040824</td>\n",
       "      <td>-0.176686</td>\n",
       "      <td>0.165940</td>\n",
       "      <td>0.314606</td>\n",
       "      <td>NaN</td>\n",
       "      <td>-0.139315</td>\n",
       "      <td>-0.089875</td>\n",
       "      <td>1.000000</td>\n",
       "      <td>0.063868</td>\n",
       "      <td>0.024842</td>\n",
       "      <td>0.116943</td>\n",
       "      <td>-0.024789</td>\n",
       "    </tr>\n",
       "    <tr>\n",
       "      <th>sqft_living15</th>\n",
       "      <td>0.534356</td>\n",
       "      <td>0.462372</td>\n",
       "      <td>0.743208</td>\n",
       "      <td>0.372969</td>\n",
       "      <td>-0.223660</td>\n",
       "      <td>0.104012</td>\n",
       "      <td>0.281716</td>\n",
       "      <td>NaN</td>\n",
       "      <td>-0.153827</td>\n",
       "      <td>0.745605</td>\n",
       "      <td>0.063868</td>\n",
       "      <td>1.000000</td>\n",
       "      <td>0.357388</td>\n",
       "      <td>-0.438589</td>\n",
       "      <td>0.103552</td>\n",
       "    </tr>\n",
       "    <tr>\n",
       "      <th>sqft_lot15</th>\n",
       "      <td>0.264687</td>\n",
       "      <td>0.292468</td>\n",
       "      <td>0.441135</td>\n",
       "      <td>0.929182</td>\n",
       "      <td>-0.171912</td>\n",
       "      <td>-0.000945</td>\n",
       "      <td>0.076188</td>\n",
       "      <td>NaN</td>\n",
       "      <td>-0.261389</td>\n",
       "      <td>0.448726</td>\n",
       "      <td>0.024842</td>\n",
       "      <td>0.357388</td>\n",
       "      <td>1.000000</td>\n",
       "      <td>-0.448043</td>\n",
       "      <td>0.005787</td>\n",
       "    </tr>\n",
       "    <tr>\n",
       "      <th>livingAreaRatio</th>\n",
       "      <td>-0.500899</td>\n",
       "      <td>-0.374677</td>\n",
       "      <td>-0.545118</td>\n",
       "      <td>-0.489977</td>\n",
       "      <td>0.521961</td>\n",
       "      <td>-0.029351</td>\n",
       "      <td>-0.037313</td>\n",
       "      <td>NaN</td>\n",
       "      <td>0.146853</td>\n",
       "      <td>-0.612846</td>\n",
       "      <td>0.116943</td>\n",
       "      <td>-0.438589</td>\n",
       "      <td>-0.448043</td>\n",
       "      <td>1.000000</td>\n",
       "      <td>-0.070055</td>\n",
       "    </tr>\n",
       "    <tr>\n",
       "      <th>houseAge</th>\n",
       "      <td>0.096395</td>\n",
       "      <td>0.087670</td>\n",
       "      <td>0.078584</td>\n",
       "      <td>0.039175</td>\n",
       "      <td>-0.068353</td>\n",
       "      <td>0.011263</td>\n",
       "      <td>-0.028815</td>\n",
       "      <td>NaN</td>\n",
       "      <td>0.032093</td>\n",
       "      <td>0.107616</td>\n",
       "      <td>-0.024789</td>\n",
       "      <td>0.103552</td>\n",
       "      <td>0.005787</td>\n",
       "      <td>-0.070055</td>\n",
       "      <td>1.000000</td>\n",
       "    </tr>\n",
       "  </tbody>\n",
       "</table>\n",
       "</div>"
      ],
      "text/plain": [
       "                 bedrooms  bathrooms  sqft_living  sqft_lot    floors  \\\n",
       "bedrooms         1.000000   0.579423     0.707657  0.276501 -0.248584   \n",
       "bathrooms        0.579423   1.000000     0.711370  0.327647 -0.166322   \n",
       "sqft_living      0.707657   0.711370     1.000000  0.474060 -0.236272   \n",
       "sqft_lot         0.276501   0.327647     0.474060  1.000000 -0.194044   \n",
       "floors          -0.248584  -0.166322    -0.236272 -0.194044  1.000000   \n",
       "waterfront      -0.058851   0.085994     0.105931  0.025984 -0.022918   \n",
       "view             0.074252   0.190201     0.304155  0.098258 -0.025207   \n",
       "condition             NaN        NaN          NaN       NaN       NaN   \n",
       "grade           -0.087943  -0.330452    -0.313127 -0.210978  0.025322   \n",
       "sqft_above       0.697206   0.608755     0.937606  0.477177 -0.187346   \n",
       "sqft_basement    0.086949   0.345810     0.255272  0.040824 -0.176686   \n",
       "sqft_living15    0.534356   0.462372     0.743208  0.372969 -0.223660   \n",
       "sqft_lot15       0.264687   0.292468     0.441135  0.929182 -0.171912   \n",
       "livingAreaRatio -0.500899  -0.374677    -0.545118 -0.489977  0.521961   \n",
       "houseAge         0.096395   0.087670     0.078584  0.039175 -0.068353   \n",
       "\n",
       "                 waterfront      view  condition     grade  sqft_above  \\\n",
       "bedrooms          -0.058851  0.074252        NaN -0.087943    0.697206   \n",
       "bathrooms          0.085994  0.190201        NaN -0.330452    0.608755   \n",
       "sqft_living        0.105931  0.304155        NaN -0.313127    0.937606   \n",
       "sqft_lot           0.025984  0.098258        NaN -0.210978    0.477177   \n",
       "floors            -0.022918 -0.025207        NaN  0.025322   -0.187346   \n",
       "waterfront         1.000000  0.564074        NaN -0.158994    0.050681   \n",
       "view               0.564074  1.000000        NaN -0.243251    0.190360   \n",
       "condition               NaN       NaN        NaN       NaN         NaN   \n",
       "grade             -0.158994 -0.243251        NaN  1.000000   -0.266339   \n",
       "sqft_above         0.050681  0.190360        NaN -0.266339    1.000000   \n",
       "sqft_basement      0.165940  0.314606        NaN -0.139315   -0.089875   \n",
       "sqft_living15      0.104012  0.281716        NaN -0.153827    0.745605   \n",
       "sqft_lot15        -0.000945  0.076188        NaN -0.261389    0.448726   \n",
       "livingAreaRatio   -0.029351 -0.037313        NaN  0.146853   -0.612846   \n",
       "houseAge           0.011263 -0.028815        NaN  0.032093    0.107616   \n",
       "\n",
       "                 sqft_basement  sqft_living15  sqft_lot15  livingAreaRatio  \\\n",
       "bedrooms              0.086949       0.534356    0.264687        -0.500899   \n",
       "bathrooms             0.345810       0.462372    0.292468        -0.374677   \n",
       "sqft_living           0.255272       0.743208    0.441135        -0.545118   \n",
       "sqft_lot              0.040824       0.372969    0.929182        -0.489977   \n",
       "floors               -0.176686      -0.223660   -0.171912         0.521961   \n",
       "waterfront            0.165940       0.104012   -0.000945        -0.029351   \n",
       "view                  0.314606       0.281716    0.076188        -0.037313   \n",
       "condition                  NaN            NaN         NaN              NaN   \n",
       "grade                -0.139315      -0.153827   -0.261389         0.146853   \n",
       "sqft_above           -0.089875       0.745605    0.448726        -0.612846   \n",
       "sqft_basement         1.000000       0.063868    0.024842         0.116943   \n",
       "sqft_living15         0.063868       1.000000    0.357388        -0.438589   \n",
       "sqft_lot15            0.024842       0.357388    1.000000        -0.448043   \n",
       "livingAreaRatio       0.116943      -0.438589   -0.448043         1.000000   \n",
       "houseAge             -0.024789       0.103552    0.005787        -0.070055   \n",
       "\n",
       "                 houseAge  \n",
       "bedrooms         0.096395  \n",
       "bathrooms        0.087670  \n",
       "sqft_living      0.078584  \n",
       "sqft_lot         0.039175  \n",
       "floors          -0.068353  \n",
       "waterfront       0.011263  \n",
       "view            -0.028815  \n",
       "condition             NaN  \n",
       "grade            0.032093  \n",
       "sqft_above       0.107616  \n",
       "sqft_basement   -0.024789  \n",
       "sqft_living15    0.103552  \n",
       "sqft_lot15       0.005787  \n",
       "livingAreaRatio -0.070055  \n",
       "houseAge         1.000000  "
      ]
     },
     "execution_count": 31,
     "metadata": {},
     "output_type": "execute_result"
    }
   ],
   "source": [
    "X.corr()"
   ]
  },
  {
   "cell_type": "code",
   "execution_count": 32,
   "metadata": {},
   "outputs": [
    {
     "data": {
      "image/png": "[encoded data removed]",
      "text/plain": [
       "<Figure size 1008x432 with 2 Axes>"
      ]
     },
     "metadata": {
      "needs_background": "light"
     },
     "output_type": "display_data"
    }
   ],
   "source": [
    "plt.figure(figsize = (14, 6))\n",
    "sns.heatmap(X.corr(), annot = True)\n",
    "\n",
    "plt.title('Correlation Matrix for Features')\n",
    "plt.savefig(\"corrmat.jpg\" , dpi=300)\n",
    "plt.show()"
   ]
  },
  {
   "cell_type": "markdown",
   "metadata": {},
   "source": [
    "Highly correlated variables:\n",
    "bathrooms vs sqft_living\n",
    "bedrooms vs sqft_living\n",
    "sqft_lot vs sqft_lot15\n",
    "sqft_living vs sqft_living15\n",
    "sqft_above vs sqft_living\n",
    "getting rid of:\n",
    "sqft_above\n",
    "condition\n",
    "sqft_lot15\n",
    "sqft_living15\n",
    "houseAge"
   ]
  },
  {
   "cell_type": "code",
   "execution_count": 33,
   "metadata": {},
   "outputs": [
    {
     "data": {
      "text/html": [
       "<div>\n",
       "<style scoped>\n",
       "    .dataframe tbody tr th:only-of-type {\n",
       "        vertical-align: middle;\n",
       "    }\n",
       "\n",
       "    .dataframe tbody tr th {\n",
       "        vertical-align: top;\n",
       "    }\n",
       "\n",
       "    .dataframe thead th {\n",
       "        text-align: right;\n",
       "    }\n",
       "</style>\n",
       "<table border=\"1\" class=\"dataframe\">\n",
       "  <thead>\n",
       "    <tr style=\"text-align: right;\">\n",
       "      <th></th>\n",
       "      <th>bedrooms</th>\n",
       "      <th>bathrooms</th>\n",
       "      <th>sqft_living</th>\n",
       "      <th>sqft_lot</th>\n",
       "      <th>floors</th>\n",
       "      <th>waterfront</th>\n",
       "      <th>view</th>\n",
       "      <th>grade</th>\n",
       "      <th>sqft_basement</th>\n",
       "      <th>livingAreaRatio</th>\n",
       "    </tr>\n",
       "  </thead>\n",
       "  <tbody>\n",
       "    <tr>\n",
       "      <th>42</th>\n",
       "      <td>5</td>\n",
       "      <td>2.75</td>\n",
       "      <td>3595</td>\n",
       "      <td>5639</td>\n",
       "      <td>2.0</td>\n",
       "      <td>0</td>\n",
       "      <td>0</td>\n",
       "      <td>10</td>\n",
       "      <td>0.0</td>\n",
       "      <td>0.637524</td>\n",
       "    </tr>\n",
       "    <tr>\n",
       "      <th>63</th>\n",
       "      <td>3</td>\n",
       "      <td>1.75</td>\n",
       "      <td>1540</td>\n",
       "      <td>1044</td>\n",
       "      <td>3.0</td>\n",
       "      <td>0</td>\n",
       "      <td>0</td>\n",
       "      <td>9</td>\n",
       "      <td>0.0</td>\n",
       "      <td>1.475096</td>\n",
       "    </tr>\n",
       "    <tr>\n",
       "      <th>133</th>\n",
       "      <td>3</td>\n",
       "      <td>2.50</td>\n",
       "      <td>2010</td>\n",
       "      <td>2287</td>\n",
       "      <td>2.0</td>\n",
       "      <td>0</td>\n",
       "      <td>0</td>\n",
       "      <td>9</td>\n",
       "      <td>620.0</td>\n",
       "      <td>0.878881</td>\n",
       "    </tr>\n",
       "    <tr>\n",
       "      <th>139</th>\n",
       "      <td>3</td>\n",
       "      <td>2.25</td>\n",
       "      <td>1170</td>\n",
       "      <td>1249</td>\n",
       "      <td>3.0</td>\n",
       "      <td>0</td>\n",
       "      <td>0</td>\n",
       "      <td>9</td>\n",
       "      <td>0.0</td>\n",
       "      <td>0.936749</td>\n",
       "    </tr>\n",
       "    <tr>\n",
       "      <th>211</th>\n",
       "      <td>3</td>\n",
       "      <td>2.25</td>\n",
       "      <td>1270</td>\n",
       "      <td>1566</td>\n",
       "      <td>2.0</td>\n",
       "      <td>0</td>\n",
       "      <td>0</td>\n",
       "      <td>9</td>\n",
       "      <td>210.0</td>\n",
       "      <td>0.810983</td>\n",
       "    </tr>\n",
       "  </tbody>\n",
       "</table>\n",
       "</div>"
      ],
      "text/plain": [
       "     bedrooms  bathrooms  sqft_living  sqft_lot  floors  waterfront  view  \\\n",
       "42          5       2.75         3595      5639     2.0           0     0   \n",
       "63          3       1.75         1540      1044     3.0           0     0   \n",
       "133         3       2.50         2010      2287     2.0           0     0   \n",
       "139         3       2.25         1170      1249     3.0           0     0   \n",
       "211         3       2.25         1270      1566     2.0           0     0   \n",
       "\n",
       "     grade  sqft_basement  livingAreaRatio  \n",
       "42      10            0.0         0.637524  \n",
       "63       9            0.0         1.475096  \n",
       "133      9          620.0         0.878881  \n",
       "139      9            0.0         0.936749  \n",
       "211      9          210.0         0.810983  "
      ]
     },
     "execution_count": 33,
     "metadata": {},
     "output_type": "execute_result"
    }
   ],
   "source": [
    "X = X.drop(columns = ['condition', 'sqft_lot15', 'sqft_living15', 'houseAge', 'sqft_above'])\n",
    "X.head()"
   ]
  },
  {
   "cell_type": "markdown",
   "metadata": {},
   "source": [
    "looking the heatmap again"
   ]
  },
  {
   "cell_type": "code",
   "execution_count": 34,
   "metadata": {},
   "outputs": [
    {
     "data": {
      "image/png": "[encoded data removed]",
      "text/plain": [
       "<Figure size 864x432 with 2 Axes>"
      ]
     },
     "metadata": {
      "needs_background": "light"
     },
     "output_type": "display_data"
    }
   ],
   "source": [
    "plt.figure(figsize = (12,6))\n",
    "sns.heatmap(X.corr(), annot = True)\n",
    "\n",
    "plt.title('Correlation Matrix for Feature')\n",
    "plt.savefig(\"corrmat.jpg\" , dpi=300)\n",
    "plt.show()"
   ]
  },
  {
   "cell_type": "markdown",
   "metadata": {},
   "source": [
    "## multivariate linear regression"
   ]
  },
  {
   "cell_type": "markdown",
   "metadata": {},
   "source": [
    "Code is the exact"
   ]
  },
  {
   "cell_type": "code",
   "execution_count": 35,
   "metadata": {},
   "outputs": [
    {
     "data": {
      "text/html": [
       "<div>\n",
       "<style scoped>\n",
       "    .dataframe tbody tr th:only-of-type {\n",
       "        vertical-align: middle;\n",
       "    }\n",
       "\n",
       "    .dataframe tbody tr th {\n",
       "        vertical-align: top;\n",
       "    }\n",
       "\n",
       "    .dataframe thead th {\n",
       "        text-align: right;\n",
       "    }\n",
       "</style>\n",
       "<table border=\"1\" class=\"dataframe\">\n",
       "  <thead>\n",
       "    <tr style=\"text-align: right;\">\n",
       "      <th></th>\n",
       "      <th>const</th>\n",
       "      <th>bedrooms</th>\n",
       "      <th>bathrooms</th>\n",
       "      <th>sqft_living</th>\n",
       "      <th>sqft_lot</th>\n",
       "      <th>floors</th>\n",
       "      <th>waterfront</th>\n",
       "      <th>view</th>\n",
       "      <th>grade</th>\n",
       "      <th>sqft_basement</th>\n",
       "      <th>livingAreaRatio</th>\n",
       "    </tr>\n",
       "  </thead>\n",
       "  <tbody>\n",
       "    <tr>\n",
       "      <th>42</th>\n",
       "      <td>1.0</td>\n",
       "      <td>5</td>\n",
       "      <td>2.75</td>\n",
       "      <td>3595</td>\n",
       "      <td>5639</td>\n",
       "      <td>2.0</td>\n",
       "      <td>0</td>\n",
       "      <td>0</td>\n",
       "      <td>10</td>\n",
       "      <td>0.0</td>\n",
       "      <td>0.637524</td>\n",
       "    </tr>\n",
       "    <tr>\n",
       "      <th>63</th>\n",
       "      <td>1.0</td>\n",
       "      <td>3</td>\n",
       "      <td>1.75</td>\n",
       "      <td>1540</td>\n",
       "      <td>1044</td>\n",
       "      <td>3.0</td>\n",
       "      <td>0</td>\n",
       "      <td>0</td>\n",
       "      <td>9</td>\n",
       "      <td>0.0</td>\n",
       "      <td>1.475096</td>\n",
       "    </tr>\n",
       "    <tr>\n",
       "      <th>133</th>\n",
       "      <td>1.0</td>\n",
       "      <td>3</td>\n",
       "      <td>2.50</td>\n",
       "      <td>2010</td>\n",
       "      <td>2287</td>\n",
       "      <td>2.0</td>\n",
       "      <td>0</td>\n",
       "      <td>0</td>\n",
       "      <td>9</td>\n",
       "      <td>620.0</td>\n",
       "      <td>0.878881</td>\n",
       "    </tr>\n",
       "    <tr>\n",
       "      <th>139</th>\n",
       "      <td>1.0</td>\n",
       "      <td>3</td>\n",
       "      <td>2.25</td>\n",
       "      <td>1170</td>\n",
       "      <td>1249</td>\n",
       "      <td>3.0</td>\n",
       "      <td>0</td>\n",
       "      <td>0</td>\n",
       "      <td>9</td>\n",
       "      <td>0.0</td>\n",
       "      <td>0.936749</td>\n",
       "    </tr>\n",
       "    <tr>\n",
       "      <th>211</th>\n",
       "      <td>1.0</td>\n",
       "      <td>3</td>\n",
       "      <td>2.25</td>\n",
       "      <td>1270</td>\n",
       "      <td>1566</td>\n",
       "      <td>2.0</td>\n",
       "      <td>0</td>\n",
       "      <td>0</td>\n",
       "      <td>9</td>\n",
       "      <td>210.0</td>\n",
       "      <td>0.810983</td>\n",
       "    </tr>\n",
       "    <tr>\n",
       "      <th>...</th>\n",
       "      <td>...</td>\n",
       "      <td>...</td>\n",
       "      <td>...</td>\n",
       "      <td>...</td>\n",
       "      <td>...</td>\n",
       "      <td>...</td>\n",
       "      <td>...</td>\n",
       "      <td>...</td>\n",
       "      <td>...</td>\n",
       "      <td>...</td>\n",
       "      <td>...</td>\n",
       "    </tr>\n",
       "    <tr>\n",
       "      <th>21575</th>\n",
       "      <td>1.0</td>\n",
       "      <td>4</td>\n",
       "      <td>2.75</td>\n",
       "      <td>2770</td>\n",
       "      <td>3852</td>\n",
       "      <td>2.0</td>\n",
       "      <td>0</td>\n",
       "      <td>0</td>\n",
       "      <td>9</td>\n",
       "      <td>0.0</td>\n",
       "      <td>0.719107</td>\n",
       "    </tr>\n",
       "    <tr>\n",
       "      <th>21580</th>\n",
       "      <td>1.0</td>\n",
       "      <td>5</td>\n",
       "      <td>2.75</td>\n",
       "      <td>3600</td>\n",
       "      <td>9437</td>\n",
       "      <td>2.0</td>\n",
       "      <td>0</td>\n",
       "      <td>0</td>\n",
       "      <td>10</td>\n",
       "      <td>0.0</td>\n",
       "      <td>0.381477</td>\n",
       "    </tr>\n",
       "    <tr>\n",
       "      <th>21582</th>\n",
       "      <td>1.0</td>\n",
       "      <td>4</td>\n",
       "      <td>2.50</td>\n",
       "      <td>3118</td>\n",
       "      <td>7866</td>\n",
       "      <td>2.0</td>\n",
       "      <td>0</td>\n",
       "      <td>2</td>\n",
       "      <td>10</td>\n",
       "      <td>0.0</td>\n",
       "      <td>0.396390</td>\n",
       "    </tr>\n",
       "    <tr>\n",
       "      <th>21586</th>\n",
       "      <td>1.0</td>\n",
       "      <td>3</td>\n",
       "      <td>1.75</td>\n",
       "      <td>1500</td>\n",
       "      <td>11968</td>\n",
       "      <td>1.0</td>\n",
       "      <td>0</td>\n",
       "      <td>0</td>\n",
       "      <td>7</td>\n",
       "      <td>0.0</td>\n",
       "      <td>0.125334</td>\n",
       "    </tr>\n",
       "    <tr>\n",
       "      <th>21589</th>\n",
       "      <td>1.0</td>\n",
       "      <td>4</td>\n",
       "      <td>2.50</td>\n",
       "      <td>2520</td>\n",
       "      <td>6023</td>\n",
       "      <td>2.0</td>\n",
       "      <td>0</td>\n",
       "      <td>0</td>\n",
       "      <td>10</td>\n",
       "      <td>0.0</td>\n",
       "      <td>0.418396</td>\n",
       "    </tr>\n",
       "  </tbody>\n",
       "</table>\n",
       "<p>442 rows × 11 columns</p>\n",
       "</div>"
      ],
      "text/plain": [
       "       const  bedrooms  bathrooms  sqft_living  sqft_lot  floors  waterfront  \\\n",
       "42       1.0         5       2.75         3595      5639     2.0           0   \n",
       "63       1.0         3       1.75         1540      1044     3.0           0   \n",
       "133      1.0         3       2.50         2010      2287     2.0           0   \n",
       "139      1.0         3       2.25         1170      1249     3.0           0   \n",
       "211      1.0         3       2.25         1270      1566     2.0           0   \n",
       "...      ...       ...        ...          ...       ...     ...         ...   \n",
       "21575    1.0         4       2.75         2770      3852     2.0           0   \n",
       "21580    1.0         5       2.75         3600      9437     2.0           0   \n",
       "21582    1.0         4       2.50         3118      7866     2.0           0   \n",
       "21586    1.0         3       1.75         1500     11968     1.0           0   \n",
       "21589    1.0         4       2.50         2520      6023     2.0           0   \n",
       "\n",
       "       view  grade  sqft_basement  livingAreaRatio  \n",
       "42        0     10            0.0         0.637524  \n",
       "63        0      9            0.0         1.475096  \n",
       "133       0      9          620.0         0.878881  \n",
       "139       0      9            0.0         0.936749  \n",
       "211       0      9          210.0         0.810983  \n",
       "...     ...    ...            ...              ...  \n",
       "21575     0      9            0.0         0.719107  \n",
       "21580     0     10            0.0         0.381477  \n",
       "21582     2     10            0.0         0.396390  \n",
       "21586     0      7            0.0         0.125334  \n",
       "21589     0     10            0.0         0.418396  \n",
       "\n",
       "[442 rows x 11 columns]"
      ]
     },
     "execution_count": 35,
     "metadata": {},
     "output_type": "execute_result"
    }
   ],
   "source": [
    "X_augmented = sm.add_constant(X)\n",
    "X_augmented"
   ]
  },
  {
   "cell_type": "code",
   "execution_count": 36,
   "metadata": {},
   "outputs": [],
   "source": [
    "results = sm.OLS(Y, X_augmented).fit()"
   ]
  },
  {
   "cell_type": "markdown",
   "metadata": {},
   "source": [
    "Get the slopes for each variable and the constant term:"
   ]
  },
  {
   "cell_type": "code",
   "execution_count": 37,
   "metadata": {},
   "outputs": [
    {
     "data": {
      "text/plain": [
       "const             -2.293989e+05\n",
       "bedrooms          -4.966799e+04\n",
       "bathrooms          7.862214e+04\n",
       "sqft_living        2.554534e+02\n",
       "sqft_lot           5.641941e+00\n",
       "floors             1.101355e+05\n",
       "waterfront         1.502304e+06\n",
       "view              -7.116770e+04\n",
       "grade             -2.327080e+04\n",
       "sqft_basement      1.295782e+02\n",
       "livingAreaRatio    1.672241e+05\n",
       "dtype: float64"
      ]
     },
     "execution_count": 37,
     "metadata": {},
     "output_type": "execute_result"
    }
   ],
   "source": [
    "results.params"
   ]
  },
  {
   "cell_type": "markdown",
   "metadata": {},
   "source": [
    "Get the R square value."
   ]
  },
  {
   "cell_type": "code",
   "execution_count": 38,
   "metadata": {},
   "outputs": [
    {
     "data": {
      "text/plain": [
       "0.6500261002413503"
      ]
     },
     "execution_count": 38,
     "metadata": {},
     "output_type": "execute_result"
    }
   ],
   "source": [
    "results.rsquared"
   ]
  },
  {
   "cell_type": "code",
   "execution_count": 39,
   "metadata": {},
   "outputs": [
    {
     "data": {
      "text/plain": [
       "0.6419060561634233"
      ]
     },
     "execution_count": 39,
     "metadata": {},
     "output_type": "execute_result"
    }
   ],
   "source": [
    "results.rsquared_adj"
   ]
  },
  {
   "cell_type": "code",
   "execution_count": 40,
   "metadata": {},
   "outputs": [
    {
     "data": {
      "text/html": [
       "<div>\n",
       "<style scoped>\n",
       "    .dataframe tbody tr th:only-of-type {\n",
       "        vertical-align: middle;\n",
       "    }\n",
       "\n",
       "    .dataframe tbody tr th {\n",
       "        vertical-align: top;\n",
       "    }\n",
       "\n",
       "    .dataframe thead th {\n",
       "        text-align: right;\n",
       "    }\n",
       "</style>\n",
       "<table border=\"1\" class=\"dataframe\">\n",
       "  <thead>\n",
       "    <tr style=\"text-align: right;\">\n",
       "      <th></th>\n",
       "      <th>bedrooms</th>\n",
       "      <th>bathrooms</th>\n",
       "      <th>sqft_living</th>\n",
       "      <th>sqft_lot</th>\n",
       "      <th>floors</th>\n",
       "      <th>waterfront</th>\n",
       "      <th>view</th>\n",
       "      <th>grade</th>\n",
       "      <th>sqft_basement</th>\n",
       "      <th>livingAreaRatio</th>\n",
       "    </tr>\n",
       "  </thead>\n",
       "  <tbody>\n",
       "    <tr>\n",
       "      <th>count</th>\n",
       "      <td>442.000000</td>\n",
       "      <td>442.000000</td>\n",
       "      <td>442.000000</td>\n",
       "      <td>442.000000</td>\n",
       "      <td>442.000000</td>\n",
       "      <td>442.000000</td>\n",
       "      <td>442.000000</td>\n",
       "      <td>442.000000</td>\n",
       "      <td>442.000000</td>\n",
       "      <td>442.000000</td>\n",
       "    </tr>\n",
       "    <tr>\n",
       "      <th>mean</th>\n",
       "      <td>3.737557</td>\n",
       "      <td>2.732466</td>\n",
       "      <td>2631.117647</td>\n",
       "      <td>5524.343891</td>\n",
       "      <td>2.132353</td>\n",
       "      <td>0.004525</td>\n",
       "      <td>0.085973</td>\n",
       "      <td>8.257919</td>\n",
       "      <td>170.183258</td>\n",
       "      <td>0.690264</td>\n",
       "    </tr>\n",
       "    <tr>\n",
       "      <th>std</th>\n",
       "      <td>0.845901</td>\n",
       "      <td>0.602436</td>\n",
       "      <td>926.377305</td>\n",
       "      <td>6937.332563</td>\n",
       "      <td>0.389800</td>\n",
       "      <td>0.067191</td>\n",
       "      <td>0.468347</td>\n",
       "      <td>3.081139</td>\n",
       "      <td>319.225871</td>\n",
       "      <td>0.348565</td>\n",
       "    </tr>\n",
       "    <tr>\n",
       "      <th>min</th>\n",
       "      <td>1.000000</td>\n",
       "      <td>1.000000</td>\n",
       "      <td>710.000000</td>\n",
       "      <td>638.000000</td>\n",
       "      <td>1.000000</td>\n",
       "      <td>0.000000</td>\n",
       "      <td>0.000000</td>\n",
       "      <td>0.000000</td>\n",
       "      <td>0.000000</td>\n",
       "      <td>0.039498</td>\n",
       "    </tr>\n",
       "    <tr>\n",
       "      <th>25%</th>\n",
       "      <td>3.000000</td>\n",
       "      <td>2.500000</td>\n",
       "      <td>1760.000000</td>\n",
       "      <td>2214.500000</td>\n",
       "      <td>2.000000</td>\n",
       "      <td>0.000000</td>\n",
       "      <td>0.000000</td>\n",
       "      <td>9.000000</td>\n",
       "      <td>0.000000</td>\n",
       "      <td>0.450979</td>\n",
       "    </tr>\n",
       "    <tr>\n",
       "      <th>50%</th>\n",
       "      <td>4.000000</td>\n",
       "      <td>2.500000</td>\n",
       "      <td>2670.000000</td>\n",
       "      <td>4835.000000</td>\n",
       "      <td>2.000000</td>\n",
       "      <td>0.000000</td>\n",
       "      <td>0.000000</td>\n",
       "      <td>9.000000</td>\n",
       "      <td>0.000000</td>\n",
       "      <td>0.600987</td>\n",
       "    </tr>\n",
       "    <tr>\n",
       "      <th>75%</th>\n",
       "      <td>4.000000</td>\n",
       "      <td>3.250000</td>\n",
       "      <td>3279.250000</td>\n",
       "      <td>6539.750000</td>\n",
       "      <td>2.000000</td>\n",
       "      <td>0.000000</td>\n",
       "      <td>0.000000</td>\n",
       "      <td>10.000000</td>\n",
       "      <td>207.500000</td>\n",
       "      <td>0.861017</td>\n",
       "    </tr>\n",
       "    <tr>\n",
       "      <th>max</th>\n",
       "      <td>6.000000</td>\n",
       "      <td>5.000000</td>\n",
       "      <td>5790.000000</td>\n",
       "      <td>108865.000000</td>\n",
       "      <td>3.000000</td>\n",
       "      <td>1.000000</td>\n",
       "      <td>4.000000</td>\n",
       "      <td>10.000000</td>\n",
       "      <td>1360.000000</td>\n",
       "      <td>2.089762</td>\n",
       "    </tr>\n",
       "  </tbody>\n",
       "</table>\n",
       "</div>"
      ],
      "text/plain": [
       "         bedrooms   bathrooms  sqft_living       sqft_lot      floors  \\\n",
       "count  442.000000  442.000000   442.000000     442.000000  442.000000   \n",
       "mean     3.737557    2.732466  2631.117647    5524.343891    2.132353   \n",
       "std      0.845901    0.602436   926.377305    6937.332563    0.389800   \n",
       "min      1.000000    1.000000   710.000000     638.000000    1.000000   \n",
       "25%      3.000000    2.500000  1760.000000    2214.500000    2.000000   \n",
       "50%      4.000000    2.500000  2670.000000    4835.000000    2.000000   \n",
       "75%      4.000000    3.250000  3279.250000    6539.750000    2.000000   \n",
       "max      6.000000    5.000000  5790.000000  108865.000000    3.000000   \n",
       "\n",
       "       waterfront        view       grade  sqft_basement  livingAreaRatio  \n",
       "count  442.000000  442.000000  442.000000     442.000000       442.000000  \n",
       "mean     0.004525    0.085973    8.257919     170.183258         0.690264  \n",
       "std      0.067191    0.468347    3.081139     319.225871         0.348565  \n",
       "min      0.000000    0.000000    0.000000       0.000000         0.039498  \n",
       "25%      0.000000    0.000000    9.000000       0.000000         0.450979  \n",
       "50%      0.000000    0.000000    9.000000       0.000000         0.600987  \n",
       "75%      0.000000    0.000000   10.000000     207.500000         0.861017  \n",
       "max      1.000000    4.000000   10.000000    1360.000000         2.089762  "
      ]
     },
     "execution_count": 40,
     "metadata": {},
     "output_type": "execute_result"
    }
   ],
   "source": [
    "X.describe()"
   ]
  },
  {
   "cell_type": "code",
   "execution_count": 41,
   "metadata": {},
   "outputs": [],
   "source": [
    "def standardizer(col):\n",
    "    col_standardized = (col - col.mean())/col.std()\n",
    "    return col_standardized"
   ]
  },
  {
   "cell_type": "markdown",
   "metadata": {},
   "source": [
    "standardized the columns"
   ]
  },
  {
   "cell_type": "code",
   "execution_count": 42,
   "metadata": {},
   "outputs": [],
   "source": [
    "X_standard = X.apply(lambda x : (x-x.mean())/x.std())"
   ]
  },
  {
   "cell_type": "code",
   "execution_count": 43,
   "metadata": {},
   "outputs": [
    {
     "data": {
      "text/html": [
       "<div>\n",
       "<style scoped>\n",
       "    .dataframe tbody tr th:only-of-type {\n",
       "        vertical-align: middle;\n",
       "    }\n",
       "\n",
       "    .dataframe tbody tr th {\n",
       "        vertical-align: top;\n",
       "    }\n",
       "\n",
       "    .dataframe thead th {\n",
       "        text-align: right;\n",
       "    }\n",
       "</style>\n",
       "<table border=\"1\" class=\"dataframe\">\n",
       "  <thead>\n",
       "    <tr style=\"text-align: right;\">\n",
       "      <th></th>\n",
       "      <th>bedrooms</th>\n",
       "      <th>bathrooms</th>\n",
       "      <th>sqft_living</th>\n",
       "      <th>sqft_lot</th>\n",
       "      <th>floors</th>\n",
       "      <th>waterfront</th>\n",
       "      <th>view</th>\n",
       "      <th>grade</th>\n",
       "      <th>sqft_basement</th>\n",
       "      <th>livingAreaRatio</th>\n",
       "    </tr>\n",
       "  </thead>\n",
       "  <tbody>\n",
       "    <tr>\n",
       "      <th>count</th>\n",
       "      <td>4.420000e+02</td>\n",
       "      <td>4.420000e+02</td>\n",
       "      <td>4.420000e+02</td>\n",
       "      <td>4.420000e+02</td>\n",
       "      <td>4.420000e+02</td>\n",
       "      <td>4.420000e+02</td>\n",
       "      <td>4.420000e+02</td>\n",
       "      <td>4.420000e+02</td>\n",
       "      <td>4.420000e+02</td>\n",
       "      <td>4.420000e+02</td>\n",
       "    </tr>\n",
       "    <tr>\n",
       "      <th>mean</th>\n",
       "      <td>-4.018907e-17</td>\n",
       "      <td>-1.054963e-16</td>\n",
       "      <td>1.165483e-16</td>\n",
       "      <td>2.813235e-17</td>\n",
       "      <td>9.645377e-17</td>\n",
       "      <td>1.205672e-17</td>\n",
       "      <td>-1.607563e-17</td>\n",
       "      <td>-3.134747e-16</td>\n",
       "      <td>-8.037814e-18</td>\n",
       "      <td>3.496449e-16</td>\n",
       "    </tr>\n",
       "    <tr>\n",
       "      <th>std</th>\n",
       "      <td>1.000000e+00</td>\n",
       "      <td>1.000000e+00</td>\n",
       "      <td>1.000000e+00</td>\n",
       "      <td>1.000000e+00</td>\n",
       "      <td>1.000000e+00</td>\n",
       "      <td>1.000000e+00</td>\n",
       "      <td>1.000000e+00</td>\n",
       "      <td>1.000000e+00</td>\n",
       "      <td>1.000000e+00</td>\n",
       "      <td>1.000000e+00</td>\n",
       "    </tr>\n",
       "    <tr>\n",
       "      <th>min</th>\n",
       "      <td>-3.236263e+00</td>\n",
       "      <td>-2.875769e+00</td>\n",
       "      <td>-2.073796e+00</td>\n",
       "      <td>-7.043549e-01</td>\n",
       "      <td>-2.904958e+00</td>\n",
       "      <td>-6.734368e-02</td>\n",
       "      <td>-1.835664e-01</td>\n",
       "      <td>-2.680151e+00</td>\n",
       "      <td>-5.331124e-01</td>\n",
       "      <td>-1.866986e+00</td>\n",
       "    </tr>\n",
       "    <tr>\n",
       "      <th>25%</th>\n",
       "      <td>-8.719188e-01</td>\n",
       "      <td>-3.858769e-01</td>\n",
       "      <td>-9.403486e-01</td>\n",
       "      <td>-4.771061e-01</td>\n",
       "      <td>-3.395406e-01</td>\n",
       "      <td>-6.734368e-02</td>\n",
       "      <td>-1.835664e-01</td>\n",
       "      <td>2.408465e-01</td>\n",
       "      <td>-5.331124e-01</td>\n",
       "      <td>-6.864860e-01</td>\n",
       "    </tr>\n",
       "    <tr>\n",
       "      <th>50%</th>\n",
       "      <td>3.102533e-01</td>\n",
       "      <td>-3.858769e-01</td>\n",
       "      <td>4.197248e-02</td>\n",
       "      <td>-9.936728e-02</td>\n",
       "      <td>-3.395406e-01</td>\n",
       "      <td>-6.734368e-02</td>\n",
       "      <td>-1.835664e-01</td>\n",
       "      <td>2.408465e-01</td>\n",
       "      <td>-5.331124e-01</td>\n",
       "      <td>-2.561271e-01</td>\n",
       "    </tr>\n",
       "    <tr>\n",
       "      <th>75%</th>\n",
       "      <td>3.102533e-01</td>\n",
       "      <td>8.590691e-01</td>\n",
       "      <td>6.996419e-01</td>\n",
       "      <td>1.463684e-01</td>\n",
       "      <td>-3.395406e-01</td>\n",
       "      <td>-6.734368e-02</td>\n",
       "      <td>-1.835664e-01</td>\n",
       "      <td>5.654018e-01</td>\n",
       "      <td>1.168976e-01</td>\n",
       "      <td>4.898745e-01</td>\n",
       "    </tr>\n",
       "    <tr>\n",
       "      <th>max</th>\n",
       "      <td>2.674597e+00</td>\n",
       "      <td>3.763943e+00</td>\n",
       "      <td>3.409931e+00</td>\n",
       "      <td>1.489631e+01</td>\n",
       "      <td>2.225877e+00</td>\n",
       "      <td>1.481561e+01</td>\n",
       "      <td>8.357103e+00</td>\n",
       "      <td>5.654018e-01</td>\n",
       "      <td>3.727194e+00</td>\n",
       "      <td>4.015026e+00</td>\n",
       "    </tr>\n",
       "  </tbody>\n",
       "</table>\n",
       "</div>"
      ],
      "text/plain": [
       "           bedrooms     bathrooms   sqft_living      sqft_lot        floors  \\\n",
       "count  4.420000e+02  4.420000e+02  4.420000e+02  4.420000e+02  4.420000e+02   \n",
       "mean  -4.018907e-17 -1.054963e-16  1.165483e-16  2.813235e-17  9.645377e-17   \n",
       "std    1.000000e+00  1.000000e+00  1.000000e+00  1.000000e+00  1.000000e+00   \n",
       "min   -3.236263e+00 -2.875769e+00 -2.073796e+00 -7.043549e-01 -2.904958e+00   \n",
       "25%   -8.719188e-01 -3.858769e-01 -9.403486e-01 -4.771061e-01 -3.395406e-01   \n",
       "50%    3.102533e-01 -3.858769e-01  4.197248e-02 -9.936728e-02 -3.395406e-01   \n",
       "75%    3.102533e-01  8.590691e-01  6.996419e-01  1.463684e-01 -3.395406e-01   \n",
       "max    2.674597e+00  3.763943e+00  3.409931e+00  1.489631e+01  2.225877e+00   \n",
       "\n",
       "         waterfront          view         grade  sqft_basement  \\\n",
       "count  4.420000e+02  4.420000e+02  4.420000e+02   4.420000e+02   \n",
       "mean   1.205672e-17 -1.607563e-17 -3.134747e-16  -8.037814e-18   \n",
       "std    1.000000e+00  1.000000e+00  1.000000e+00   1.000000e+00   \n",
       "min   -6.734368e-02 -1.835664e-01 -2.680151e+00  -5.331124e-01   \n",
       "25%   -6.734368e-02 -1.835664e-01  2.408465e-01  -5.331124e-01   \n",
       "50%   -6.734368e-02 -1.835664e-01  2.408465e-01  -5.331124e-01   \n",
       "75%   -6.734368e-02 -1.835664e-01  5.654018e-01   1.168976e-01   \n",
       "max    1.481561e+01  8.357103e+00  5.654018e-01   3.727194e+00   \n",
       "\n",
       "       livingAreaRatio  \n",
       "count     4.420000e+02  \n",
       "mean      3.496449e-16  \n",
       "std       1.000000e+00  \n",
       "min      -1.866986e+00  \n",
       "25%      -6.864860e-01  \n",
       "50%      -2.561271e-01  \n",
       "75%       4.898745e-01  \n",
       "max       4.015026e+00  "
      ]
     },
     "execution_count": 43,
     "metadata": {},
     "output_type": "execute_result"
    }
   ],
   "source": [
    "X_standard.describe()"
   ]
  },
  {
   "cell_type": "markdown",
   "metadata": {},
   "source": [
    "standardize our target(Y)"
   ]
  },
  {
   "cell_type": "code",
   "execution_count": 44,
   "metadata": {},
   "outputs": [],
   "source": [
    "Y_standard = (Y - Y.mean())/Y.std()"
   ]
  },
  {
   "cell_type": "code",
   "execution_count": 45,
   "metadata": {},
   "outputs": [],
   "source": [
    "X_standard_aug = sm.add_constant(X_standard)"
   ]
  },
  {
   "cell_type": "markdown",
   "metadata": {},
   "source": [
    "Fit the model"
   ]
  },
  {
   "cell_type": "code",
   "execution_count": 46,
   "metadata": {},
   "outputs": [],
   "source": [
    "results_standardized = sm.OLS(Y_standard, X_standard_aug).fit()"
   ]
  },
  {
   "cell_type": "markdown",
   "metadata": {},
   "source": [
    "Now calculate the parameters"
   ]
  },
  {
   "cell_type": "code",
   "execution_count": 47,
   "metadata": {},
   "outputs": [
    {
     "data": {
      "text/plain": [
       "const             -6.158268e-17\n",
       "bedrooms          -1.117733e-01\n",
       "bathrooms          1.260078e-01\n",
       "sqft_living        6.295665e-01\n",
       "sqft_lot           1.041269e-01\n",
       "floors             1.142119e-01\n",
       "waterfront         2.685410e-01\n",
       "view              -8.867333e-02\n",
       "grade             -1.907500e-01\n",
       "sqft_basement      1.100454e-01\n",
       "livingAreaRatio    1.550689e-01\n",
       "dtype: float64"
      ]
     },
     "execution_count": 47,
     "metadata": {},
     "output_type": "execute_result"
    }
   ],
   "source": [
    "weights = results_standardized.params\n",
    "weights"
   ]
  },
  {
   "cell_type": "markdown",
   "metadata": {},
   "source": [
    "Visualizing the weights"
   ]
  },
  {
   "cell_type": "code",
   "execution_count": 48,
   "metadata": {},
   "outputs": [
    {
     "data": {
      "image/png": "[encoded data removed]",
      "text/plain": [
       "<Figure size 720x360 with 1 Axes>"
      ]
     },
     "metadata": {
      "needs_background": "light"
     },
     "output_type": "display_data"
    }
   ],
   "source": [
    "plt.figure(figsize=(10,5))\n",
    "sns.barplot(y=weights[1::].index, x = weights[1::].values)\n",
    "plt.title(\"Weight for factors correlating with price\")\n",
    "plt.ylabel(\"Weight\")\n",
    "plt.show()"
   ]
  },
  {
   "cell_type": "markdown",
   "metadata": {},
   "source": [
    "Evaluate R square"
   ]
  },
  {
   "cell_type": "code",
   "execution_count": 49,
   "metadata": {},
   "outputs": [
    {
     "data": {
      "text/plain": [
       "0.6500261002413503"
      ]
     },
     "execution_count": 49,
     "metadata": {},
     "output_type": "execute_result"
    }
   ],
   "source": [
    "results_standardized.rsquared"
   ]
  },
  {
   "cell_type": "markdown",
   "metadata": {},
   "source": [
    "take a look at the summary:"
   ]
  },
  {
   "cell_type": "code",
   "execution_count": 50,
   "metadata": {},
   "outputs": [
    {
     "data": {
      "text/html": [
       "<table class=\"simpletable\">\n",
       "<caption>OLS Regression Results</caption>\n",
       "<tr>\n",
       "  <th>Dep. Variable:</th>          <td>price</td>      <th>  R-squared:         </th> <td>   0.650</td>\n",
       "</tr>\n",
       "<tr>\n",
       "  <th>Model:</th>                   <td>OLS</td>       <th>  Adj. R-squared:    </th> <td>   0.642</td>\n",
       "</tr>\n",
       "<tr>\n",
       "  <th>Method:</th>             <td>Least Squares</td>  <th>  F-statistic:       </th> <td>   80.05</td>\n",
       "</tr>\n",
       "<tr>\n",
       "  <th>Date:</th>             <td>Wed, 30 Mar 2022</td> <th>  Prob (F-statistic):</th> <td>9.32e-92</td>\n",
       "</tr>\n",
       "<tr>\n",
       "  <th>Time:</th>                 <td>21:32:58</td>     <th>  Log-Likelihood:    </th> <td> -394.64</td>\n",
       "</tr>\n",
       "<tr>\n",
       "  <th>No. Observations:</th>      <td>   442</td>      <th>  AIC:               </th> <td>   811.3</td>\n",
       "</tr>\n",
       "<tr>\n",
       "  <th>Df Residuals:</th>          <td>   431</td>      <th>  BIC:               </th> <td>   856.3</td>\n",
       "</tr>\n",
       "<tr>\n",
       "  <th>Df Model:</th>              <td>    10</td>      <th>                     </th>     <td> </td>   \n",
       "</tr>\n",
       "<tr>\n",
       "  <th>Covariance Type:</th>      <td>nonrobust</td>    <th>                     </th>     <td> </td>   \n",
       "</tr>\n",
       "</table>\n",
       "<table class=\"simpletable\">\n",
       "<tr>\n",
       "         <td></td>            <th>coef</th>     <th>std err</th>      <th>t</th>      <th>P>|t|</th>  <th>[0.025</th>    <th>0.975]</th>  \n",
       "</tr>\n",
       "<tr>\n",
       "  <th>const</th>           <td>-6.158e-17</td> <td>    0.028</td> <td>-2.16e-15</td> <td> 1.000</td> <td>   -0.056</td> <td>    0.056</td>\n",
       "</tr>\n",
       "<tr>\n",
       "  <th>bedrooms</th>        <td>   -0.1118</td> <td>    0.044</td> <td>   -2.522</td> <td> 0.012</td> <td>   -0.199</td> <td>   -0.025</td>\n",
       "</tr>\n",
       "<tr>\n",
       "  <th>bathrooms</th>       <td>    0.1260</td> <td>    0.044</td> <td>    2.871</td> <td> 0.004</td> <td>    0.040</td> <td>    0.212</td>\n",
       "</tr>\n",
       "<tr>\n",
       "  <th>sqft_living</th>     <td>    0.6296</td> <td>    0.056</td> <td>   11.302</td> <td> 0.000</td> <td>    0.520</td> <td>    0.739</td>\n",
       "</tr>\n",
       "<tr>\n",
       "  <th>sqft_lot</th>        <td>    0.1041</td> <td>    0.035</td> <td>    2.996</td> <td> 0.003</td> <td>    0.036</td> <td>    0.172</td>\n",
       "</tr>\n",
       "<tr>\n",
       "  <th>floors</th>          <td>    0.1142</td> <td>    0.036</td> <td>    3.186</td> <td> 0.002</td> <td>    0.044</td> <td>    0.185</td>\n",
       "</tr>\n",
       "<tr>\n",
       "  <th>waterfront</th>      <td>    0.2685</td> <td>    0.035</td> <td>    7.671</td> <td> 0.000</td> <td>    0.200</td> <td>    0.337</td>\n",
       "</tr>\n",
       "<tr>\n",
       "  <th>view</th>            <td>   -0.0887</td> <td>    0.038</td> <td>   -2.345</td> <td> 0.019</td> <td>   -0.163</td> <td>   -0.014</td>\n",
       "</tr>\n",
       "<tr>\n",
       "  <th>grade</th>           <td>   -0.1908</td> <td>    0.032</td> <td>   -6.029</td> <td> 0.000</td> <td>   -0.253</td> <td>   -0.129</td>\n",
       "</tr>\n",
       "<tr>\n",
       "  <th>sqft_basement</th>   <td>    0.1100</td> <td>    0.035</td> <td>    3.111</td> <td> 0.002</td> <td>    0.041</td> <td>    0.180</td>\n",
       "</tr>\n",
       "<tr>\n",
       "  <th>livingAreaRatio</th> <td>    0.1551</td> <td>    0.046</td> <td>    3.392</td> <td> 0.001</td> <td>    0.065</td> <td>    0.245</td>\n",
       "</tr>\n",
       "</table>\n",
       "<table class=\"simpletable\">\n",
       "<tr>\n",
       "  <th>Omnibus:</th>       <td>171.316</td> <th>  Durbin-Watson:     </th> <td>   1.963</td>\n",
       "</tr>\n",
       "<tr>\n",
       "  <th>Prob(Omnibus):</th> <td> 0.000</td>  <th>  Jarque-Bera (JB):  </th> <td>1995.456</td>\n",
       "</tr>\n",
       "<tr>\n",
       "  <th>Skew:</th>          <td> 1.319</td>  <th>  Prob(JB):          </th> <td>    0.00</td>\n",
       "</tr>\n",
       "<tr>\n",
       "  <th>Kurtosis:</th>      <td>13.069</td>  <th>  Cond. No.          </th> <td>    4.29</td>\n",
       "</tr>\n",
       "</table><br/><br/>Notes:<br/>[1] Standard Errors assume that the covariance matrix of the errors is correctly specified."
      ],
      "text/plain": [
       "<class 'statsmodels.iolib.summary.Summary'>\n",
       "\"\"\"\n",
       "                            OLS Regression Results                            \n",
       "==============================================================================\n",
       "Dep. Variable:                  price   R-squared:                       0.650\n",
       "Model:                            OLS   Adj. R-squared:                  0.642\n",
       "Method:                 Least Squares   F-statistic:                     80.05\n",
       "Date:                Wed, 30 Mar 2022   Prob (F-statistic):           9.32e-92\n",
       "Time:                        21:32:58   Log-Likelihood:                -394.64\n",
       "No. Observations:                 442   AIC:                             811.3\n",
       "Df Residuals:                     431   BIC:                             856.3\n",
       "Df Model:                          10                                         \n",
       "Covariance Type:            nonrobust                                         \n",
       "===================================================================================\n",
       "                      coef    std err          t      P>|t|      [0.025      0.975]\n",
       "-----------------------------------------------------------------------------------\n",
       "const           -6.158e-17      0.028  -2.16e-15      1.000      -0.056       0.056\n",
       "bedrooms           -0.1118      0.044     -2.522      0.012      -0.199      -0.025\n",
       "bathrooms           0.1260      0.044      2.871      0.004       0.040       0.212\n",
       "sqft_living         0.6296      0.056     11.302      0.000       0.520       0.739\n",
       "sqft_lot            0.1041      0.035      2.996      0.003       0.036       0.172\n",
       "floors              0.1142      0.036      3.186      0.002       0.044       0.185\n",
       "waterfront          0.2685      0.035      7.671      0.000       0.200       0.337\n",
       "view               -0.0887      0.038     -2.345      0.019      -0.163      -0.014\n",
       "grade              -0.1908      0.032     -6.029      0.000      -0.253      -0.129\n",
       "sqft_basement       0.1100      0.035      3.111      0.002       0.041       0.180\n",
       "livingAreaRatio     0.1551      0.046      3.392      0.001       0.065       0.245\n",
       "==============================================================================\n",
       "Omnibus:                      171.316   Durbin-Watson:                   1.963\n",
       "Prob(Omnibus):                  0.000   Jarque-Bera (JB):             1995.456\n",
       "Skew:                           1.319   Prob(JB):                         0.00\n",
       "Kurtosis:                      13.069   Cond. No.                         4.29\n",
       "==============================================================================\n",
       "\n",
       "Notes:\n",
       "[1] Standard Errors assume that the covariance matrix of the errors is correctly specified.\n",
       "\"\"\""
      ]
     },
     "execution_count": 50,
     "metadata": {},
     "output_type": "execute_result"
    }
   ],
   "source": [
    "results_standardized.summary()"
   ]
  },
  {
   "cell_type": "markdown",
   "metadata": {},
   "source": [
    "Define the linear regression model"
   ]
  },
  {
   "cell_type": "code",
   "execution_count": 51,
   "metadata": {},
   "outputs": [
    {
     "data": {
      "text/plain": [
       "LinearRegression()"
      ]
     },
     "execution_count": 51,
     "metadata": {},
     "output_type": "execute_result"
    }
   ],
   "source": [
    "lr = LinearRegression()\n",
    "lr"
   ]
  },
  {
   "cell_type": "markdown",
   "metadata": {},
   "source": [
    "Traing and Testing"
   ]
  },
  {
   "cell_type": "code",
   "execution_count": 52,
   "metadata": {},
   "outputs": [],
   "source": [
    "X_train, X_test, Y_train, Y_test = train_test_split(X,Y,test_size=0.3)\n"
   ]
  },
  {
   "cell_type": "code",
   "execution_count": 53,
   "metadata": {},
   "outputs": [
    {
     "name": "stdout",
     "output_type": "stream",
     "text": [
      "309 309\n"
     ]
    }
   ],
   "source": [
    "print(len(X_train), len(Y_train))"
   ]
  },
  {
   "cell_type": "markdown",
   "metadata": {},
   "source": [
    "Creating our prediction machine"
   ]
  },
  {
   "cell_type": "code",
   "execution_count": 54,
   "metadata": {},
   "outputs": [
    {
     "data": {
      "text/plain": [
       "LinearRegression()"
      ]
     },
     "execution_count": 54,
     "metadata": {},
     "output_type": "execute_result"
    }
   ],
   "source": [
    "lr.fit(X_train,Y_train)"
   ]
  },
  {
   "cell_type": "markdown",
   "metadata": {},
   "source": [
    "Get the \"learned\" weights:"
   ]
  },
  {
   "cell_type": "code",
   "execution_count": 55,
   "metadata": {},
   "outputs": [
    {
     "data": {
      "text/plain": [
       "array([-4.92498724e+04,  1.14080437e+05,  2.64547657e+02,  1.09861009e+01,\n",
       "        8.56850702e+04,  1.02187512e+06, -2.36216240e+04, -2.38695319e+04,\n",
       "        3.94221253e+01,  3.26957399e+05])"
      ]
     },
     "execution_count": 55,
     "metadata": {},
     "output_type": "execute_result"
    }
   ],
   "source": [
    "lr.coef_"
   ]
  },
  {
   "cell_type": "code",
   "execution_count": 56,
   "metadata": {},
   "outputs": [
    {
     "data": {
      "text/plain": [
       "-407882.3328092153"
      ]
     },
     "execution_count": 56,
     "metadata": {},
     "output_type": "execute_result"
    }
   ],
   "source": [
    "lr.intercept_"
   ]
  },
  {
   "cell_type": "code",
   "execution_count": 57,
   "metadata": {},
   "outputs": [
    {
     "data": {
      "text/plain": [
       "Index(['bedrooms', 'bathrooms', 'sqft_living', 'sqft_lot', 'floors',\n",
       "       'waterfront', 'view', 'grade', 'sqft_basement', 'livingAreaRatio'],\n",
       "      dtype='object')"
      ]
     },
     "execution_count": 57,
     "metadata": {},
     "output_type": "execute_result"
    }
   ],
   "source": [
    "X.columns"
   ]
  },
  {
   "cell_type": "markdown",
   "metadata": {},
   "source": [
    "get r square on fit."
   ]
  },
  {
   "cell_type": "code",
   "execution_count": 58,
   "metadata": {},
   "outputs": [
    {
     "data": {
      "text/plain": [
       "0.6423260728867994"
      ]
     },
     "execution_count": 58,
     "metadata": {},
     "output_type": "execute_result"
    }
   ],
   "source": [
    "lr.score(X_train,Y_train)"
   ]
  },
  {
   "cell_type": "markdown",
   "metadata": {},
   "source": [
    "Evaluating our model on the test data"
   ]
  },
  {
   "cell_type": "code",
   "execution_count": 59,
   "metadata": {},
   "outputs": [
    {
     "data": {
      "text/plain": [
       "array([ 416886.43616589,  592891.66424232,  635721.13345291,\n",
       "        624666.38851301,  795433.10919949,  629238.21908163,\n",
       "       1058056.09993285, 2288371.42536783,  825696.32437881,\n",
       "        543942.35748923])"
      ]
     },
     "execution_count": 59,
     "metadata": {},
     "output_type": "execute_result"
    }
   ],
   "source": [
    "Y_pred = lr.predict(X_test)\n",
    "Y_pred[0:10]"
   ]
  },
  {
   "cell_type": "markdown",
   "metadata": {},
   "source": [
    "Evaluate model prediction on test set:"
   ]
  },
  {
   "cell_type": "code",
   "execution_count": 60,
   "metadata": {},
   "outputs": [
    {
     "data": {
      "text/plain": [
       "177756.03546299567"
      ]
     },
     "execution_count": 60,
     "metadata": {},
     "output_type": "execute_result"
    }
   ],
   "source": [
    "MAE = mean_absolute_error(Y_pred, Y_test)\n",
    "MAE"
   ]
  },
  {
   "cell_type": "markdown",
   "metadata": {},
   "source": [
    "MAE is 163736.67062067962"
   ]
  },
  {
   "cell_type": "code",
   "execution_count": 61,
   "metadata": {},
   "outputs": [
    {
     "data": {
      "text/plain": [
       "244273.6563080049"
      ]
     },
     "execution_count": 61,
     "metadata": {},
     "output_type": "execute_result"
    }
   ],
   "source": [
    "RMSE = np.sqrt(mean_squared_error(Y_pred,Y_test))\n",
    "RMSE"
   ]
  },
  {
   "cell_type": "markdown",
   "metadata": {},
   "source": [
    "RMSE is 207995.66343861358"
   ]
  },
  {
   "cell_type": "code",
   "execution_count": 62,
   "metadata": {},
   "outputs": [],
   "source": [
    "%%capture price_test\n",
    "fig, ax = plt.subplots()\n",
    "Y_test.hist(bins='auto', ax=ax)\n",
    "ax.set_xlabel(\"price\")\n",
    "ax.set_ylabel(\"Counts\")\n",
    "ax.set_title('price expectancy: test distribution')\n",
    "plt.show()"
   ]
  },
  {
   "cell_type": "code",
   "execution_count": 63,
   "metadata": {},
   "outputs": [
    {
     "data": {
      "image/png": "[encoded data removed]",
      "text/plain": [
       "<Figure size 432x288 with 1 Axes>"
      ]
     },
     "metadata": {
      "needs_background": "light"
     },
     "output_type": "display_data"
    }
   ],
   "source": [
    "price_test()"
   ]
  },
  {
   "cell_type": "markdown",
   "metadata": {},
   "source": [
    "Seeing a few individual examples."
   ]
  },
  {
   "cell_type": "code",
   "execution_count": 64,
   "metadata": {},
   "outputs": [
    {
     "data": {
      "text/plain": [
       "bedrooms              3.00000\n",
       "bathrooms             2.50000\n",
       "sqft_living        2010.00000\n",
       "sqft_lot           2212.00000\n",
       "floors                2.00000\n",
       "waterfront            0.00000\n",
       "view                  0.00000\n",
       "grade                 9.00000\n",
       "sqft_basement         0.00000\n",
       "livingAreaRatio       0.90868\n",
       "Name: 10590, dtype: float64"
      ]
     },
     "execution_count": 64,
     "metadata": {},
     "output_type": "execute_result"
    }
   ],
   "source": [
    "examp_idx = 10\n",
    "single_examp = X_test.iloc[examp_idx].values\n",
    "X_test.iloc[examp_idx]"
   ]
  },
  {
   "cell_type": "code",
   "execution_count": 65,
   "metadata": {},
   "outputs": [
    {
     "data": {
      "text/plain": [
       "array([539255.16672245])"
      ]
     },
     "execution_count": 65,
     "metadata": {},
     "output_type": "execute_result"
    }
   ],
   "source": [
    "lr.predict(single_examp.reshape(1,-1))"
   ]
  },
  {
   "cell_type": "code",
   "execution_count": 66,
   "metadata": {},
   "outputs": [
    {
     "data": {
      "text/plain": [
       "472217.0"
      ]
     },
     "execution_count": 66,
     "metadata": {},
     "output_type": "execute_result"
    }
   ],
   "source": [
    "Y_test.iloc[examp_idx]"
   ]
  },
  {
   "cell_type": "markdown",
   "metadata": {},
   "source": [
    "try it to a house over 110 year and pricePerSqft more than 300"
   ]
  },
  {
   "cell_type": "code",
   "execution_count": 67,
   "metadata": {},
   "outputs": [
    {
     "data": {
      "text/html": [
       "<div>\n",
       "<style scoped>\n",
       "    .dataframe tbody tr th:only-of-type {\n",
       "        vertical-align: middle;\n",
       "    }\n",
       "\n",
       "    .dataframe tbody tr th {\n",
       "        vertical-align: top;\n",
       "    }\n",
       "\n",
       "    .dataframe thead th {\n",
       "        text-align: right;\n",
       "    }\n",
       "</style>\n",
       "<table border=\"1\" class=\"dataframe\">\n",
       "  <thead>\n",
       "    <tr style=\"text-align: right;\">\n",
       "      <th></th>\n",
       "      <th>id</th>\n",
       "      <th>date</th>\n",
       "      <th>price</th>\n",
       "      <th>bedrooms</th>\n",
       "      <th>bathrooms</th>\n",
       "      <th>sqft_living</th>\n",
       "      <th>sqft_lot</th>\n",
       "      <th>floors</th>\n",
       "      <th>waterfront</th>\n",
       "      <th>view</th>\n",
       "      <th>...</th>\n",
       "      <th>yr_built</th>\n",
       "      <th>yr_renovated</th>\n",
       "      <th>zipcode</th>\n",
       "      <th>sqft_living15</th>\n",
       "      <th>sqft_lot15</th>\n",
       "      <th>propertyTaxPerYear</th>\n",
       "      <th>livingAreaRatio</th>\n",
       "      <th>year_sold</th>\n",
       "      <th>houseAge</th>\n",
       "      <th>pricePerSqft</th>\n",
       "    </tr>\n",
       "  </thead>\n",
       "  <tbody>\n",
       "    <tr>\n",
       "      <th>2708</th>\n",
       "      <td>5016002180</td>\n",
       "      <td>2014-07-08</td>\n",
       "      <td>780000.0</td>\n",
       "      <td>2</td>\n",
       "      <td>2.50</td>\n",
       "      <td>2560</td>\n",
       "      <td>2500</td>\n",
       "      <td>2.0</td>\n",
       "      <td>0</td>\n",
       "      <td>0</td>\n",
       "      <td>...</td>\n",
       "      <td>1901</td>\n",
       "      <td>0.0</td>\n",
       "      <td>98112</td>\n",
       "      <td>1890</td>\n",
       "      <td>5000</td>\n",
       "      <td>7878.0</td>\n",
       "      <td>1.024000</td>\n",
       "      <td>2014</td>\n",
       "      <td>113</td>\n",
       "      <td>312.000000</td>\n",
       "    </tr>\n",
       "    <tr>\n",
       "      <th>3297</th>\n",
       "      <td>1337800855</td>\n",
       "      <td>2015-05-12</td>\n",
       "      <td>885000.0</td>\n",
       "      <td>3</td>\n",
       "      <td>1.50</td>\n",
       "      <td>2200</td>\n",
       "      <td>2880</td>\n",
       "      <td>2.0</td>\n",
       "      <td>0</td>\n",
       "      <td>0</td>\n",
       "      <td>...</td>\n",
       "      <td>1904</td>\n",
       "      <td>0.0</td>\n",
       "      <td>98112</td>\n",
       "      <td>2440</td>\n",
       "      <td>4640</td>\n",
       "      <td>8938.5</td>\n",
       "      <td>0.763889</td>\n",
       "      <td>2015</td>\n",
       "      <td>111</td>\n",
       "      <td>307.291667</td>\n",
       "    </tr>\n",
       "    <tr>\n",
       "      <th>3865</th>\n",
       "      <td>1732800820</td>\n",
       "      <td>2014-06-19</td>\n",
       "      <td>1330000.0</td>\n",
       "      <td>4</td>\n",
       "      <td>2.50</td>\n",
       "      <td>2440</td>\n",
       "      <td>3600</td>\n",
       "      <td>2.5</td>\n",
       "      <td>0</td>\n",
       "      <td>0</td>\n",
       "      <td>...</td>\n",
       "      <td>1902</td>\n",
       "      <td>0.0</td>\n",
       "      <td>98119</td>\n",
       "      <td>2440</td>\n",
       "      <td>5440</td>\n",
       "      <td>13433.0</td>\n",
       "      <td>0.677778</td>\n",
       "      <td>2014</td>\n",
       "      <td>112</td>\n",
       "      <td>369.444444</td>\n",
       "    </tr>\n",
       "    <tr>\n",
       "      <th>15283</th>\n",
       "      <td>6169900545</td>\n",
       "      <td>2014-06-25</td>\n",
       "      <td>1330000.0</td>\n",
       "      <td>3</td>\n",
       "      <td>1.50</td>\n",
       "      <td>1940</td>\n",
       "      <td>2885</td>\n",
       "      <td>1.5</td>\n",
       "      <td>0</td>\n",
       "      <td>2</td>\n",
       "      <td>...</td>\n",
       "      <td>1900</td>\n",
       "      <td>0.0</td>\n",
       "      <td>98119</td>\n",
       "      <td>2550</td>\n",
       "      <td>3600</td>\n",
       "      <td>13433.0</td>\n",
       "      <td>0.672444</td>\n",
       "      <td>2014</td>\n",
       "      <td>114</td>\n",
       "      <td>461.005199</td>\n",
       "    </tr>\n",
       "    <tr>\n",
       "      <th>15729</th>\n",
       "      <td>9828702895</td>\n",
       "      <td>2014-10-22</td>\n",
       "      <td>700000.0</td>\n",
       "      <td>4</td>\n",
       "      <td>1.75</td>\n",
       "      <td>2420</td>\n",
       "      <td>520</td>\n",
       "      <td>1.5</td>\n",
       "      <td>0</td>\n",
       "      <td>0</td>\n",
       "      <td>...</td>\n",
       "      <td>1900</td>\n",
       "      <td>0.0</td>\n",
       "      <td>98112</td>\n",
       "      <td>1200</td>\n",
       "      <td>1170</td>\n",
       "      <td>7070.0</td>\n",
       "      <td>4.653846</td>\n",
       "      <td>2014</td>\n",
       "      <td>114</td>\n",
       "      <td>1346.153846</td>\n",
       "    </tr>\n",
       "    <tr>\n",
       "      <th>17981</th>\n",
       "      <td>1346300035</td>\n",
       "      <td>2014-06-26</td>\n",
       "      <td>1990000.0</td>\n",
       "      <td>5</td>\n",
       "      <td>3.00</td>\n",
       "      <td>4480</td>\n",
       "      <td>5000</td>\n",
       "      <td>2.5</td>\n",
       "      <td>0</td>\n",
       "      <td>0</td>\n",
       "      <td>...</td>\n",
       "      <td>1902</td>\n",
       "      <td>0.0</td>\n",
       "      <td>98112</td>\n",
       "      <td>3220</td>\n",
       "      <td>5600</td>\n",
       "      <td>20099.0</td>\n",
       "      <td>0.896000</td>\n",
       "      <td>2014</td>\n",
       "      <td>112</td>\n",
       "      <td>398.000000</td>\n",
       "    </tr>\n",
       "    <tr>\n",
       "      <th>18061</th>\n",
       "      <td>5457800930</td>\n",
       "      <td>2014-06-13</td>\n",
       "      <td>1700000.0</td>\n",
       "      <td>2</td>\n",
       "      <td>2.25</td>\n",
       "      <td>3170</td>\n",
       "      <td>3000</td>\n",
       "      <td>2.0</td>\n",
       "      <td>0</td>\n",
       "      <td>2</td>\n",
       "      <td>...</td>\n",
       "      <td>1900</td>\n",
       "      <td>0.0</td>\n",
       "      <td>98109</td>\n",
       "      <td>2980</td>\n",
       "      <td>5061</td>\n",
       "      <td>17170.0</td>\n",
       "      <td>1.056667</td>\n",
       "      <td>2014</td>\n",
       "      <td>114</td>\n",
       "      <td>566.666667</td>\n",
       "    </tr>\n",
       "  </tbody>\n",
       "</table>\n",
       "<p>7 rows × 24 columns</p>\n",
       "</div>"
      ],
      "text/plain": [
       "               id       date      price  bedrooms  bathrooms  sqft_living  \\\n",
       "2708   5016002180 2014-07-08   780000.0         2       2.50         2560   \n",
       "3297   1337800855 2015-05-12   885000.0         3       1.50         2200   \n",
       "3865   1732800820 2014-06-19  1330000.0         4       2.50         2440   \n",
       "15283  6169900545 2014-06-25  1330000.0         3       1.50         1940   \n",
       "15729  9828702895 2014-10-22   700000.0         4       1.75         2420   \n",
       "17981  1346300035 2014-06-26  1990000.0         5       3.00         4480   \n",
       "18061  5457800930 2014-06-13  1700000.0         2       2.25         3170   \n",
       "\n",
       "       sqft_lot  floors  waterfront  view  ...  yr_built  yr_renovated  \\\n",
       "2708       2500     2.0           0     0  ...      1901           0.0   \n",
       "3297       2880     2.0           0     0  ...      1904           0.0   \n",
       "3865       3600     2.5           0     0  ...      1902           0.0   \n",
       "15283      2885     1.5           0     2  ...      1900           0.0   \n",
       "15729       520     1.5           0     0  ...      1900           0.0   \n",
       "17981      5000     2.5           0     0  ...      1902           0.0   \n",
       "18061      3000     2.0           0     2  ...      1900           0.0   \n",
       "\n",
       "       zipcode  sqft_living15  sqft_lot15  propertyTaxPerYear  \\\n",
       "2708     98112           1890        5000              7878.0   \n",
       "3297     98112           2440        4640              8938.5   \n",
       "3865     98119           2440        5440             13433.0   \n",
       "15283    98119           2550        3600             13433.0   \n",
       "15729    98112           1200        1170              7070.0   \n",
       "17981    98112           3220        5600             20099.0   \n",
       "18061    98109           2980        5061             17170.0   \n",
       "\n",
       "       livingAreaRatio  year_sold  houseAge  pricePerSqft  \n",
       "2708          1.024000       2014       113    312.000000  \n",
       "3297          0.763889       2015       111    307.291667  \n",
       "3865          0.677778       2014       112    369.444444  \n",
       "15283         0.672444       2014       114    461.005199  \n",
       "15729         4.653846       2014       114   1346.153846  \n",
       "17981         0.896000       2014       112    398.000000  \n",
       "18061         1.056667       2014       114    566.666667  \n",
       "\n",
       "[7 rows x 24 columns]"
      ]
     },
     "execution_count": 67,
     "metadata": {},
     "output_type": "execute_result"
    }
   ],
   "source": [
    "data[(data['houseAge']>110) & (data['pricePerSqft']>300)]"
   ]
  },
  {
   "cell_type": "code",
   "execution_count": 68,
   "metadata": {},
   "outputs": [
    {
     "data": {
      "text/html": [
       "<div>\n",
       "<style scoped>\n",
       "    .dataframe tbody tr th:only-of-type {\n",
       "        vertical-align: middle;\n",
       "    }\n",
       "\n",
       "    .dataframe tbody tr th {\n",
       "        vertical-align: top;\n",
       "    }\n",
       "\n",
       "    .dataframe thead th {\n",
       "        text-align: right;\n",
       "    }\n",
       "</style>\n",
       "<table border=\"1\" class=\"dataframe\">\n",
       "  <thead>\n",
       "    <tr style=\"text-align: right;\">\n",
       "      <th></th>\n",
       "      <th>price</th>\n",
       "      <th>bedrooms</th>\n",
       "      <th>bathrooms</th>\n",
       "      <th>sqft_living</th>\n",
       "      <th>sqft_lot</th>\n",
       "      <th>floors</th>\n",
       "      <th>waterfront</th>\n",
       "      <th>view</th>\n",
       "      <th>grade</th>\n",
       "      <th>sqft_basement</th>\n",
       "      <th>livingAreaRatio</th>\n",
       "    </tr>\n",
       "  </thead>\n",
       "  <tbody>\n",
       "    <tr>\n",
       "      <th>2708</th>\n",
       "      <td>780000.0</td>\n",
       "      <td>2</td>\n",
       "      <td>2.5</td>\n",
       "      <td>2560</td>\n",
       "      <td>2500</td>\n",
       "      <td>2.0</td>\n",
       "      <td>0</td>\n",
       "      <td>0</td>\n",
       "      <td>9</td>\n",
       "      <td>870.0</td>\n",
       "      <td>1.024</td>\n",
       "    </tr>\n",
       "  </tbody>\n",
       "</table>\n",
       "</div>"
      ],
      "text/plain": [
       "         price  bedrooms  bathrooms  sqft_living  sqft_lot  floors  \\\n",
       "2708  780000.0         2        2.5         2560      2500     2.0   \n",
       "\n",
       "      waterfront  view  grade  sqft_basement  livingAreaRatio  \n",
       "2708           0     0      9          870.0            1.024  "
      ]
     },
     "execution_count": 68,
     "metadata": {},
     "output_type": "execute_result"
    }
   ],
   "source": [
    "select_house = data[data['id'] == 5016002180]\n",
    "select_house[['price', 'bedrooms', 'bathrooms', 'sqft_living', 'sqft_lot', 'floors', 'waterfront', 'view','grade', 'sqft_basement', 'livingAreaRatio']]"
   ]
  },
  {
   "cell_type": "code",
   "execution_count": 69,
   "metadata": {},
   "outputs": [],
   "source": [
    "target_house_dict = {'bedrooms':2, 'bathrooms':2.5, 'sqft_living':2560, 'sqft_lot':2500, 'floors':2, 'waterfront':0, 'view':0, 'grade':9, 'sqft_basement':870.0, 'livingAreaRatio':1.024}\n",
    "X_target_house = pd.Series(target_house_dict)"
   ]
  },
  {
   "cell_type": "markdown",
   "metadata": {},
   "source": [
    "convert to numpy array"
   ]
  },
  {
   "cell_type": "code",
   "execution_count": 70,
   "metadata": {},
   "outputs": [
    {
     "data": {
      "text/plain": [
       "array([2.000e+00, 2.500e+00, 2.560e+03, 2.500e+03, 2.000e+00, 0.000e+00,\n",
       "       0.000e+00, 9.000e+00, 8.700e+02, 1.024e+00])"
      ]
     },
     "execution_count": 70,
     "metadata": {},
     "output_type": "execute_result"
    }
   ],
   "source": [
    "X_target_house_np = X_target_house.values\n",
    "X_target_house_np"
   ]
  },
  {
   "cell_type": "code",
   "execution_count": 71,
   "metadata": {},
   "outputs": [
    {
     "data": {
      "text/plain": [
       "array([[2.000e+00, 2.500e+00, 2.560e+03, 2.500e+03, 2.000e+00, 0.000e+00,\n",
       "        0.000e+00, 9.000e+00, 8.700e+02, 1.024e+00]])"
      ]
     },
     "execution_count": 71,
     "metadata": {},
     "output_type": "execute_result"
    }
   ],
   "source": [
    "X_target_house_input = X_target_house_np.reshape(1,-1)\n",
    "X_target_house_input"
   ]
  },
  {
   "cell_type": "markdown",
   "metadata": {},
   "source": [
    "The model predicts a price for this old house"
   ]
  },
  {
   "cell_type": "code",
   "execution_count": 72,
   "metadata": {},
   "outputs": [
    {
     "data": {
      "text/plain": [
       "array([809172.24753895])"
      ]
     },
     "execution_count": 72,
     "metadata": {},
     "output_type": "execute_result"
    }
   ],
   "source": [
    "lr.predict(X_target_house_input)\n"
   ]
  },
  {
   "cell_type": "markdown",
   "metadata": {},
   "source": [
    "if builder or develop buy this house, the estimated value of this homes is $899101, the list price of this house is $780000. $119101 increaed. "
   ]
  },
  {
   "cell_type": "code",
   "execution_count": 73,
   "metadata": {},
   "outputs": [
    {
     "name": "stdout",
     "output_type": "stream",
     "text": [
      "2708    3.740032\n",
      "Name: price, dtype: float64\n"
     ]
    }
   ],
   "source": [
    "percent_change = (lr.predict(X_target_house_input)[0] - select_house['price'] ) / select_house['price'] * 100\n",
    "print(percent_change)"
   ]
  },
  {
   "cell_type": "markdown",
   "metadata": {},
   "source": [
    "$899101 and compare to the distribution"
   ]
  },
  {
   "cell_type": "code",
   "execution_count": 74,
   "metadata": {},
   "outputs": [
    {
     "data": {
      "image/png": "[encoded data removed]",
      "text/plain": [
       "<Figure size 432x288 with 1 Axes>"
      ]
     },
     "metadata": {
      "needs_background": "light"
     },
     "output_type": "display_data"
    }
   ],
   "source": [
    "price_test()"
   ]
  },
  {
   "cell_type": "code",
   "execution_count": null,
   "metadata": {},
   "outputs": [],
   "source": []
  }
 ],
 "metadata": {
  "kernelspec": {
   "display_name": "Python 3",
   "language": "python",
   "name": "python3"
  },
  "language_info": {
   "codemirror_mode": {
    "name": "ipython",
    "version": 3
   },
   "file_extension": ".py",
   "mimetype": "text/x-python",
   "name": "python",
   "nbconvert_exporter": "python",
   "pygments_lexer": "ipython3",
   "version": "3.8.5"
  }
 },
 "nbformat": 4,
 "nbformat_minor": 2
}
