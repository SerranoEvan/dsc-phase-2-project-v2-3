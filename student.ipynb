{
 "cells": [
  {
   "cell_type": "markdown",
   "metadata": {},
   "source": [
    "## Final Project Submission\n",
    "\n",
    "Please fill out:\n",
    "* Student name: Qilun Chen, Evan Serrano \n",
    "* Student pace: full time\n",
    "* Scheduled project review date/time: \n",
    "* Instructor name: Praveen Gowtham, Joe Comeaux\n",
    "* Blog post URL:https://github.com/SerranoEvan/dsc-phase-2-project-v2-3\n"
   ]
  },
  {
   "cell_type": "code",
   "execution_count": 1,
   "metadata": {},
   "outputs": [],
   "source": [
    "import numpy as np\n",
    "import pandas as pd\n",
    "import seaborn as sns\n",
    "import matplotlib.pyplot as plt\n",
    "from matplotlib import style\n",
    "from sklearn.linear_model import LinearRegression\n",
    "from sklearn.model_selection import train_test_split\n",
    "from sklearn.metrics import mean_absolute_error\n",
    "from sklearn.metrics import mean_squared_error\n",
    "import statsmodels.api as sm\n",
    "from statsmodels.formula.api import ols\n",
    "\n",
    "%matplotlib inline"
   ]
  },
  {
   "cell_type": "markdown",
   "metadata": {},
   "source": [
    "# Data cleaning"
   ]
  },
  {
   "cell_type": "code",
   "execution_count": 2,
   "metadata": {},
   "outputs": [
    {
     "data": {
      "text/html": [
       "<div>\n",
       "<style scoped>\n",
       "    .dataframe tbody tr th:only-of-type {\n",
       "        vertical-align: middle;\n",
       "    }\n",
       "\n",
       "    .dataframe tbody tr th {\n",
       "        vertical-align: top;\n",
       "    }\n",
       "\n",
       "    .dataframe thead th {\n",
       "        text-align: right;\n",
       "    }\n",
       "</style>\n",
       "<table border=\"1\" class=\"dataframe\">\n",
       "  <thead>\n",
       "    <tr style=\"text-align: right;\">\n",
       "      <th></th>\n",
       "      <th>id</th>\n",
       "      <th>date</th>\n",
       "      <th>price</th>\n",
       "      <th>bedrooms</th>\n",
       "      <th>bathrooms</th>\n",
       "      <th>sqft_living</th>\n",
       "      <th>sqft_lot</th>\n",
       "      <th>floors</th>\n",
       "      <th>waterfront</th>\n",
       "      <th>view</th>\n",
       "      <th>...</th>\n",
       "      <th>grade</th>\n",
       "      <th>sqft_above</th>\n",
       "      <th>sqft_basement</th>\n",
       "      <th>yr_built</th>\n",
       "      <th>yr_renovated</th>\n",
       "      <th>zipcode</th>\n",
       "      <th>lat</th>\n",
       "      <th>long</th>\n",
       "      <th>sqft_living15</th>\n",
       "      <th>sqft_lot15</th>\n",
       "    </tr>\n",
       "  </thead>\n",
       "  <tbody>\n",
       "    <tr>\n",
       "      <th>0</th>\n",
       "      <td>7129300520</td>\n",
       "      <td>10/13/2014</td>\n",
       "      <td>221900.0</td>\n",
       "      <td>3</td>\n",
       "      <td>1.00</td>\n",
       "      <td>1180</td>\n",
       "      <td>5650</td>\n",
       "      <td>1.0</td>\n",
       "      <td>NaN</td>\n",
       "      <td>NONE</td>\n",
       "      <td>...</td>\n",
       "      <td>7 Average</td>\n",
       "      <td>1180</td>\n",
       "      <td>0.0</td>\n",
       "      <td>1955</td>\n",
       "      <td>0.0</td>\n",
       "      <td>98178</td>\n",
       "      <td>47.5112</td>\n",
       "      <td>-122.257</td>\n",
       "      <td>1340</td>\n",
       "      <td>5650</td>\n",
       "    </tr>\n",
       "    <tr>\n",
       "      <th>1</th>\n",
       "      <td>6414100192</td>\n",
       "      <td>12/9/2014</td>\n",
       "      <td>538000.0</td>\n",
       "      <td>3</td>\n",
       "      <td>2.25</td>\n",
       "      <td>2570</td>\n",
       "      <td>7242</td>\n",
       "      <td>2.0</td>\n",
       "      <td>NO</td>\n",
       "      <td>NONE</td>\n",
       "      <td>...</td>\n",
       "      <td>7 Average</td>\n",
       "      <td>2170</td>\n",
       "      <td>400.0</td>\n",
       "      <td>1951</td>\n",
       "      <td>1991.0</td>\n",
       "      <td>98125</td>\n",
       "      <td>47.7210</td>\n",
       "      <td>-122.319</td>\n",
       "      <td>1690</td>\n",
       "      <td>7639</td>\n",
       "    </tr>\n",
       "    <tr>\n",
       "      <th>2</th>\n",
       "      <td>5631500400</td>\n",
       "      <td>2/25/2015</td>\n",
       "      <td>180000.0</td>\n",
       "      <td>2</td>\n",
       "      <td>1.00</td>\n",
       "      <td>770</td>\n",
       "      <td>10000</td>\n",
       "      <td>1.0</td>\n",
       "      <td>NO</td>\n",
       "      <td>NONE</td>\n",
       "      <td>...</td>\n",
       "      <td>6 Low Average</td>\n",
       "      <td>770</td>\n",
       "      <td>0.0</td>\n",
       "      <td>1933</td>\n",
       "      <td>NaN</td>\n",
       "      <td>98028</td>\n",
       "      <td>47.7379</td>\n",
       "      <td>-122.233</td>\n",
       "      <td>2720</td>\n",
       "      <td>8062</td>\n",
       "    </tr>\n",
       "    <tr>\n",
       "      <th>3</th>\n",
       "      <td>2487200875</td>\n",
       "      <td>12/9/2014</td>\n",
       "      <td>604000.0</td>\n",
       "      <td>4</td>\n",
       "      <td>3.00</td>\n",
       "      <td>1960</td>\n",
       "      <td>5000</td>\n",
       "      <td>1.0</td>\n",
       "      <td>NO</td>\n",
       "      <td>NONE</td>\n",
       "      <td>...</td>\n",
       "      <td>7 Average</td>\n",
       "      <td>1050</td>\n",
       "      <td>910.0</td>\n",
       "      <td>1965</td>\n",
       "      <td>0.0</td>\n",
       "      <td>98136</td>\n",
       "      <td>47.5208</td>\n",
       "      <td>-122.393</td>\n",
       "      <td>1360</td>\n",
       "      <td>5000</td>\n",
       "    </tr>\n",
       "    <tr>\n",
       "      <th>4</th>\n",
       "      <td>1954400510</td>\n",
       "      <td>2/18/2015</td>\n",
       "      <td>510000.0</td>\n",
       "      <td>3</td>\n",
       "      <td>2.00</td>\n",
       "      <td>1680</td>\n",
       "      <td>8080</td>\n",
       "      <td>1.0</td>\n",
       "      <td>NO</td>\n",
       "      <td>NONE</td>\n",
       "      <td>...</td>\n",
       "      <td>8 Good</td>\n",
       "      <td>1680</td>\n",
       "      <td>0.0</td>\n",
       "      <td>1987</td>\n",
       "      <td>0.0</td>\n",
       "      <td>98074</td>\n",
       "      <td>47.6168</td>\n",
       "      <td>-122.045</td>\n",
       "      <td>1800</td>\n",
       "      <td>7503</td>\n",
       "    </tr>\n",
       "  </tbody>\n",
       "</table>\n",
       "<p>5 rows × 21 columns</p>\n",
       "</div>"
      ],
      "text/plain": [
       "           id        date     price  bedrooms  bathrooms  sqft_living  \\\n",
       "0  7129300520  10/13/2014  221900.0         3       1.00         1180   \n",
       "1  6414100192   12/9/2014  538000.0         3       2.25         2570   \n",
       "2  5631500400   2/25/2015  180000.0         2       1.00          770   \n",
       "3  2487200875   12/9/2014  604000.0         4       3.00         1960   \n",
       "4  1954400510   2/18/2015  510000.0         3       2.00         1680   \n",
       "\n",
       "   sqft_lot  floors waterfront  view  ...          grade sqft_above  \\\n",
       "0      5650     1.0        NaN  NONE  ...      7 Average       1180   \n",
       "1      7242     2.0         NO  NONE  ...      7 Average       2170   \n",
       "2     10000     1.0         NO  NONE  ...  6 Low Average        770   \n",
       "3      5000     1.0         NO  NONE  ...      7 Average       1050   \n",
       "4      8080     1.0         NO  NONE  ...         8 Good       1680   \n",
       "\n",
       "   sqft_basement yr_built  yr_renovated  zipcode      lat     long  \\\n",
       "0            0.0     1955           0.0    98178  47.5112 -122.257   \n",
       "1          400.0     1951        1991.0    98125  47.7210 -122.319   \n",
       "2            0.0     1933           NaN    98028  47.7379 -122.233   \n",
       "3          910.0     1965           0.0    98136  47.5208 -122.393   \n",
       "4            0.0     1987           0.0    98074  47.6168 -122.045   \n",
       "\n",
       "   sqft_living15  sqft_lot15  \n",
       "0           1340        5650  \n",
       "1           1690        7639  \n",
       "2           2720        8062  \n",
       "3           1360        5000  \n",
       "4           1800        7503  \n",
       "\n",
       "[5 rows x 21 columns]"
      ]
     },
     "execution_count": 2,
     "metadata": {},
     "output_type": "execute_result"
    }
   ],
   "source": [
    "data = pd.read_csv('data/kc_house_data.csv')\n",
    "data.head()"
   ]
  },
  {
   "cell_type": "code",
   "execution_count": 3,
   "metadata": {},
   "outputs": [
    {
     "data": {
      "text/plain": [
       "id                  0\n",
       "date                0\n",
       "price               0\n",
       "bedrooms            0\n",
       "bathrooms           0\n",
       "sqft_living         0\n",
       "sqft_lot            0\n",
       "floors              0\n",
       "waterfront       2376\n",
       "view               63\n",
       "condition           0\n",
       "grade               0\n",
       "sqft_above          0\n",
       "sqft_basement       0\n",
       "yr_built            0\n",
       "yr_renovated     3842\n",
       "zipcode             0\n",
       "lat                 0\n",
       "long                0\n",
       "sqft_living15       0\n",
       "sqft_lot15          0\n",
       "dtype: int64"
      ]
     },
     "execution_count": 3,
     "metadata": {},
     "output_type": "execute_result"
    }
   ],
   "source": [
    "data.isna().sum()"
   ]
  },
  {
   "cell_type": "code",
   "execution_count": 4,
   "metadata": {},
   "outputs": [
    {
     "data": {
      "text/plain": [
       "id                 int64\n",
       "date              object\n",
       "price            float64\n",
       "bedrooms           int64\n",
       "bathrooms        float64\n",
       "sqft_living        int64\n",
       "sqft_lot           int64\n",
       "floors           float64\n",
       "waterfront        object\n",
       "view              object\n",
       "condition         object\n",
       "grade             object\n",
       "sqft_above         int64\n",
       "sqft_basement     object\n",
       "yr_built           int64\n",
       "yr_renovated     float64\n",
       "zipcode            int64\n",
       "lat              float64\n",
       "long             float64\n",
       "sqft_living15      int64\n",
       "sqft_lot15         int64\n",
       "dtype: object"
      ]
     },
     "execution_count": 4,
     "metadata": {},
     "output_type": "execute_result"
    }
   ],
   "source": [
    "data.dtypes"
   ]
  },
  {
   "cell_type": "markdown",
   "metadata": {},
   "source": [
    "change sqft_basement from object to float"
   ]
  },
  {
   "cell_type": "code",
   "execution_count": 5,
   "metadata": {},
   "outputs": [],
   "source": [
    "data.loc[:, 'sqft_basement'] = data['sqft_basement'].str.replace(\"?\",\"0.0\")\n",
    "data.loc[:, 'sqft_basement'] = data['sqft_basement'].astype('float64')"
   ]
  },
  {
   "cell_type": "markdown",
   "metadata": {},
   "source": [
    "replace NaN in view to NONE"
   ]
  },
  {
   "cell_type": "code",
   "execution_count": 6,
   "metadata": {},
   "outputs": [],
   "source": [
    "data['view'] = data['view'].fillna('NONE')"
   ]
  },
  {
   "cell_type": "markdown",
   "metadata": {},
   "source": [
    "replace NaN in waterfront to NO"
   ]
  },
  {
   "cell_type": "code",
   "execution_count": 7,
   "metadata": {},
   "outputs": [],
   "source": [
    "data['waterfront'] = data['waterfront'].fillna('NO')"
   ]
  },
  {
   "cell_type": "markdown",
   "metadata": {},
   "source": [
    "replace NaN in yr_renovated to 0"
   ]
  },
  {
   "cell_type": "code",
   "execution_count": 8,
   "metadata": {},
   "outputs": [],
   "source": [
    "data['yr_renovated'] = data['yr_renovated'].fillna(0)"
   ]
  },
  {
   "cell_type": "markdown",
   "metadata": {},
   "source": [
    "check how many NaN in data"
   ]
  },
  {
   "cell_type": "code",
   "execution_count": 9,
   "metadata": {},
   "outputs": [
    {
     "data": {
      "text/plain": [
       "0"
      ]
     },
     "execution_count": 9,
     "metadata": {},
     "output_type": "execute_result"
    }
   ],
   "source": [
    "data.isna().sum().sum()"
   ]
  },
  {
   "cell_type": "markdown",
   "metadata": {},
   "source": [
    "drop lat column and long column in data"
   ]
  },
  {
   "cell_type": "code",
   "execution_count": 10,
   "metadata": {},
   "outputs": [],
   "source": [
    "data.drop(columns = 'lat', inplace = True)"
   ]
  },
  {
   "cell_type": "code",
   "execution_count": 11,
   "metadata": {},
   "outputs": [],
   "source": [
    "data.drop(columns = 'long', inplace = True)"
   ]
  },
  {
   "cell_type": "markdown",
   "metadata": {},
   "source": [
    "chreate new columns propertyTaxPerYear, livingAreaRatio, year_sold, houseAge, pricePerSqft"
   ]
  },
  {
   "cell_type": "code",
   "execution_count": 12,
   "metadata": {},
   "outputs": [],
   "source": [
    "data['propertyTaxPerYear'] = data['price'] * 0.0101"
   ]
  },
  {
   "cell_type": "code",
   "execution_count": 13,
   "metadata": {},
   "outputs": [],
   "source": [
    "data['livingAreaRatio'] = data['sqft_living'] / data['sqft_lot']"
   ]
  },
  {
   "cell_type": "code",
   "execution_count": 14,
   "metadata": {},
   "outputs": [],
   "source": [
    "data['date'] = pd.to_datetime(data['date'])\n",
    "data['year_sold'] = data['date'].dt.year"
   ]
  },
  {
   "cell_type": "code",
   "execution_count": 15,
   "metadata": {},
   "outputs": [],
   "source": [
    "data['houseAge'] = data['year_sold'] - data['yr_built']"
   ]
  },
  {
   "cell_type": "code",
   "execution_count": 16,
   "metadata": {},
   "outputs": [],
   "source": [
    "data['pricePerSqft'] = data['price'] / data['sqft_lot']"
   ]
  },
  {
   "cell_type": "markdown",
   "metadata": {},
   "source": [
    "change columns waterfront, view, condition, grade to Ordinal encoding"
   ]
  },
  {
   "cell_type": "code",
   "execution_count": 17,
   "metadata": {},
   "outputs": [],
   "source": [
    "data['waterfront'] = pd.get_dummies(data['waterfront'], drop_first = True)"
   ]
  },
  {
   "cell_type": "code",
   "execution_count": 18,
   "metadata": {},
   "outputs": [],
   "source": [
    "data['view'] = data['view'].astype('category')"
   ]
  },
  {
   "cell_type": "code",
   "execution_count": 19,
   "metadata": {},
   "outputs": [],
   "source": [
    "data['view'] = data['view'].cat.reorder_categories(['NONE', 'FAIR', 'AVERAGE', 'GOOD', 'EXCELLENT'])\n"
   ]
  },
  {
   "cell_type": "code",
   "execution_count": 20,
   "metadata": {},
   "outputs": [],
   "source": [
    "data['view'] = data['view'].cat.codes\n"
   ]
  },
  {
   "cell_type": "code",
   "execution_count": 21,
   "metadata": {},
   "outputs": [],
   "source": [
    "data['condition'] = data['condition'].astype('category')"
   ]
  },
  {
   "cell_type": "code",
   "execution_count": 22,
   "metadata": {},
   "outputs": [],
   "source": [
    "data['condition'] = data['condition'].cat.codes"
   ]
  },
  {
   "cell_type": "code",
   "execution_count": 23,
   "metadata": {},
   "outputs": [],
   "source": [
    "data['grade'] = data['grade'].astype('category')"
   ]
  },
  {
   "cell_type": "code",
   "execution_count": 24,
   "metadata": {},
   "outputs": [],
   "source": [
    "data['grade'] = data['grade'].cat.codes\n"
   ]
  },
  {
   "cell_type": "markdown",
   "metadata": {},
   "source": [
    "# how home rebuilt might increase the estimated value of their homes, and by what amount."
   ]
  },
  {
   "cell_type": "markdown",
   "metadata": {},
   "source": [
    "## Understand factors affecting price"
   ]
  },
  {
   "cell_type": "code",
   "execution_count": 25,
   "metadata": {},
   "outputs": [
    {
     "data": {
      "text/plain": [
       "Index(['id', 'date', 'price', 'bedrooms', 'bathrooms', 'sqft_living',\n",
       "       'sqft_lot', 'floors', 'waterfront', 'view', 'condition', 'grade',\n",
       "       'sqft_above', 'sqft_basement', 'yr_built', 'yr_renovated', 'zipcode',\n",
       "       'sqft_living15', 'sqft_lot15', 'propertyTaxPerYear', 'livingAreaRatio',\n",
       "       'year_sold', 'houseAge', 'pricePerSqft'],\n",
       "      dtype='object')"
      ]
     },
     "execution_count": 25,
     "metadata": {},
     "output_type": "execute_result"
    }
   ],
   "source": [
    "data.columns"
   ]
  },
  {
   "cell_type": "markdown",
   "metadata": {},
   "source": [
    "drop some too obviously correlated columns."
   ]
  },
  {
   "cell_type": "code",
   "execution_count": 26,
   "metadata": {},
   "outputs": [],
   "source": [
    "df = data.drop(columns= ['id', 'date', 'propertyTaxPerYear', 'pricePerSqft', 'zipcode','year_sold','yr_built','yr_renovated' ])"
   ]
  },
  {
   "cell_type": "markdown",
   "metadata": {},
   "source": [
    "only looking for brand new houses."
   ]
  },
  {
   "cell_type": "code",
   "execution_count": 27,
   "metadata": {},
   "outputs": [],
   "source": [
    "df = df[df['houseAge'] < 1]"
   ]
  },
  {
   "cell_type": "code",
   "execution_count": 28,
   "metadata": {},
   "outputs": [
    {
     "name": "stdout",
     "output_type": "stream",
     "text": [
      "<class 'pandas.core.frame.DataFrame'>\n",
      "Int64Index: 442 entries, 42 to 21589\n",
      "Data columns (total 16 columns):\n",
      " #   Column           Non-Null Count  Dtype  \n",
      "---  ------           --------------  -----  \n",
      " 0   price            442 non-null    float64\n",
      " 1   bedrooms         442 non-null    int64  \n",
      " 2   bathrooms        442 non-null    float64\n",
      " 3   sqft_living      442 non-null    int64  \n",
      " 4   sqft_lot         442 non-null    int64  \n",
      " 5   floors           442 non-null    float64\n",
      " 6   waterfront       442 non-null    uint8  \n",
      " 7   view             442 non-null    int8   \n",
      " 8   condition        442 non-null    int8   \n",
      " 9   grade            442 non-null    int8   \n",
      " 10  sqft_above       442 non-null    int64  \n",
      " 11  sqft_basement    442 non-null    float64\n",
      " 12  sqft_living15    442 non-null    int64  \n",
      " 13  sqft_lot15       442 non-null    int64  \n",
      " 14  livingAreaRatio  442 non-null    float64\n",
      " 15  houseAge         442 non-null    int64  \n",
      "dtypes: float64(5), int64(7), int8(3), uint8(1)\n",
      "memory usage: 46.6 KB\n"
     ]
    }
   ],
   "source": [
    "df.info()"
   ]
  },
  {
   "cell_type": "markdown",
   "metadata": {},
   "source": [
    "X is now our feature matrix\n",
    "y is a vector of targets our outcomes."
   ]
  },
  {
   "cell_type": "code",
   "execution_count": 29,
   "metadata": {},
   "outputs": [],
   "source": [
    "X = df.drop(columns = ['price'])\n",
    "Y = df['price']"
   ]
  },
  {
   "cell_type": "code",
   "execution_count": 30,
   "metadata": {},
   "outputs": [
    {
     "data": {
      "text/html": [
       "<div>\n",
       "<style scoped>\n",
       "    .dataframe tbody tr th:only-of-type {\n",
       "        vertical-align: middle;\n",
       "    }\n",
       "\n",
       "    .dataframe tbody tr th {\n",
       "        vertical-align: top;\n",
       "    }\n",
       "\n",
       "    .dataframe thead th {\n",
       "        text-align: right;\n",
       "    }\n",
       "</style>\n",
       "<table border=\"1\" class=\"dataframe\">\n",
       "  <thead>\n",
       "    <tr style=\"text-align: right;\">\n",
       "      <th></th>\n",
       "      <th>bedrooms</th>\n",
       "      <th>bathrooms</th>\n",
       "      <th>sqft_living</th>\n",
       "      <th>sqft_lot</th>\n",
       "      <th>floors</th>\n",
       "      <th>waterfront</th>\n",
       "      <th>view</th>\n",
       "      <th>condition</th>\n",
       "      <th>grade</th>\n",
       "      <th>sqft_above</th>\n",
       "      <th>sqft_basement</th>\n",
       "      <th>sqft_living15</th>\n",
       "      <th>sqft_lot15</th>\n",
       "      <th>livingAreaRatio</th>\n",
       "      <th>houseAge</th>\n",
       "    </tr>\n",
       "  </thead>\n",
       "  <tbody>\n",
       "    <tr>\n",
       "      <th>42</th>\n",
       "      <td>5</td>\n",
       "      <td>2.75</td>\n",
       "      <td>3595</td>\n",
       "      <td>5639</td>\n",
       "      <td>2.0</td>\n",
       "      <td>0</td>\n",
       "      <td>0</td>\n",
       "      <td>0</td>\n",
       "      <td>10</td>\n",
       "      <td>3595</td>\n",
       "      <td>0.0</td>\n",
       "      <td>3625</td>\n",
       "      <td>5639</td>\n",
       "      <td>0.637524</td>\n",
       "      <td>0</td>\n",
       "    </tr>\n",
       "    <tr>\n",
       "      <th>63</th>\n",
       "      <td>3</td>\n",
       "      <td>1.75</td>\n",
       "      <td>1540</td>\n",
       "      <td>1044</td>\n",
       "      <td>3.0</td>\n",
       "      <td>0</td>\n",
       "      <td>0</td>\n",
       "      <td>0</td>\n",
       "      <td>9</td>\n",
       "      <td>1540</td>\n",
       "      <td>0.0</td>\n",
       "      <td>1580</td>\n",
       "      <td>3090</td>\n",
       "      <td>1.475096</td>\n",
       "      <td>0</td>\n",
       "    </tr>\n",
       "    <tr>\n",
       "      <th>133</th>\n",
       "      <td>3</td>\n",
       "      <td>2.50</td>\n",
       "      <td>2010</td>\n",
       "      <td>2287</td>\n",
       "      <td>2.0</td>\n",
       "      <td>0</td>\n",
       "      <td>0</td>\n",
       "      <td>0</td>\n",
       "      <td>9</td>\n",
       "      <td>1390</td>\n",
       "      <td>620.0</td>\n",
       "      <td>1690</td>\n",
       "      <td>1662</td>\n",
       "      <td>0.878881</td>\n",
       "      <td>0</td>\n",
       "    </tr>\n",
       "    <tr>\n",
       "      <th>139</th>\n",
       "      <td>3</td>\n",
       "      <td>2.25</td>\n",
       "      <td>1170</td>\n",
       "      <td>1249</td>\n",
       "      <td>3.0</td>\n",
       "      <td>0</td>\n",
       "      <td>0</td>\n",
       "      <td>0</td>\n",
       "      <td>9</td>\n",
       "      <td>1170</td>\n",
       "      <td>0.0</td>\n",
       "      <td>1350</td>\n",
       "      <td>1310</td>\n",
       "      <td>0.936749</td>\n",
       "      <td>0</td>\n",
       "    </tr>\n",
       "    <tr>\n",
       "      <th>211</th>\n",
       "      <td>3</td>\n",
       "      <td>2.25</td>\n",
       "      <td>1270</td>\n",
       "      <td>1566</td>\n",
       "      <td>2.0</td>\n",
       "      <td>0</td>\n",
       "      <td>0</td>\n",
       "      <td>0</td>\n",
       "      <td>9</td>\n",
       "      <td>1060</td>\n",
       "      <td>210.0</td>\n",
       "      <td>1160</td>\n",
       "      <td>1327</td>\n",
       "      <td>0.810983</td>\n",
       "      <td>0</td>\n",
       "    </tr>\n",
       "    <tr>\n",
       "      <th>...</th>\n",
       "      <td>...</td>\n",
       "      <td>...</td>\n",
       "      <td>...</td>\n",
       "      <td>...</td>\n",
       "      <td>...</td>\n",
       "      <td>...</td>\n",
       "      <td>...</td>\n",
       "      <td>...</td>\n",
       "      <td>...</td>\n",
       "      <td>...</td>\n",
       "      <td>...</td>\n",
       "      <td>...</td>\n",
       "      <td>...</td>\n",
       "      <td>...</td>\n",
       "      <td>...</td>\n",
       "    </tr>\n",
       "    <tr>\n",
       "      <th>21575</th>\n",
       "      <td>4</td>\n",
       "      <td>2.75</td>\n",
       "      <td>2770</td>\n",
       "      <td>3852</td>\n",
       "      <td>2.0</td>\n",
       "      <td>0</td>\n",
       "      <td>0</td>\n",
       "      <td>0</td>\n",
       "      <td>9</td>\n",
       "      <td>2770</td>\n",
       "      <td>0.0</td>\n",
       "      <td>1810</td>\n",
       "      <td>5641</td>\n",
       "      <td>0.719107</td>\n",
       "      <td>0</td>\n",
       "    </tr>\n",
       "    <tr>\n",
       "      <th>21580</th>\n",
       "      <td>5</td>\n",
       "      <td>2.75</td>\n",
       "      <td>3600</td>\n",
       "      <td>9437</td>\n",
       "      <td>2.0</td>\n",
       "      <td>0</td>\n",
       "      <td>0</td>\n",
       "      <td>0</td>\n",
       "      <td>10</td>\n",
       "      <td>3600</td>\n",
       "      <td>0.0</td>\n",
       "      <td>3550</td>\n",
       "      <td>9421</td>\n",
       "      <td>0.381477</td>\n",
       "      <td>0</td>\n",
       "    </tr>\n",
       "    <tr>\n",
       "      <th>21582</th>\n",
       "      <td>4</td>\n",
       "      <td>2.50</td>\n",
       "      <td>3118</td>\n",
       "      <td>7866</td>\n",
       "      <td>2.0</td>\n",
       "      <td>0</td>\n",
       "      <td>2</td>\n",
       "      <td>0</td>\n",
       "      <td>10</td>\n",
       "      <td>3118</td>\n",
       "      <td>0.0</td>\n",
       "      <td>2673</td>\n",
       "      <td>6500</td>\n",
       "      <td>0.396390</td>\n",
       "      <td>0</td>\n",
       "    </tr>\n",
       "    <tr>\n",
       "      <th>21586</th>\n",
       "      <td>3</td>\n",
       "      <td>1.75</td>\n",
       "      <td>1500</td>\n",
       "      <td>11968</td>\n",
       "      <td>1.0</td>\n",
       "      <td>0</td>\n",
       "      <td>0</td>\n",
       "      <td>0</td>\n",
       "      <td>7</td>\n",
       "      <td>1500</td>\n",
       "      <td>0.0</td>\n",
       "      <td>1320</td>\n",
       "      <td>11303</td>\n",
       "      <td>0.125334</td>\n",
       "      <td>0</td>\n",
       "    </tr>\n",
       "    <tr>\n",
       "      <th>21589</th>\n",
       "      <td>4</td>\n",
       "      <td>2.50</td>\n",
       "      <td>2520</td>\n",
       "      <td>6023</td>\n",
       "      <td>2.0</td>\n",
       "      <td>0</td>\n",
       "      <td>0</td>\n",
       "      <td>0</td>\n",
       "      <td>10</td>\n",
       "      <td>2520</td>\n",
       "      <td>0.0</td>\n",
       "      <td>2520</td>\n",
       "      <td>6023</td>\n",
       "      <td>0.418396</td>\n",
       "      <td>0</td>\n",
       "    </tr>\n",
       "  </tbody>\n",
       "</table>\n",
       "<p>442 rows × 15 columns</p>\n",
       "</div>"
      ],
      "text/plain": [
       "       bedrooms  bathrooms  sqft_living  sqft_lot  floors  waterfront  view  \\\n",
       "42            5       2.75         3595      5639     2.0           0     0   \n",
       "63            3       1.75         1540      1044     3.0           0     0   \n",
       "133           3       2.50         2010      2287     2.0           0     0   \n",
       "139           3       2.25         1170      1249     3.0           0     0   \n",
       "211           3       2.25         1270      1566     2.0           0     0   \n",
       "...         ...        ...          ...       ...     ...         ...   ...   \n",
       "21575         4       2.75         2770      3852     2.0           0     0   \n",
       "21580         5       2.75         3600      9437     2.0           0     0   \n",
       "21582         4       2.50         3118      7866     2.0           0     2   \n",
       "21586         3       1.75         1500     11968     1.0           0     0   \n",
       "21589         4       2.50         2520      6023     2.0           0     0   \n",
       "\n",
       "       condition  grade  sqft_above  sqft_basement  sqft_living15  sqft_lot15  \\\n",
       "42             0     10        3595            0.0           3625        5639   \n",
       "63             0      9        1540            0.0           1580        3090   \n",
       "133            0      9        1390          620.0           1690        1662   \n",
       "139            0      9        1170            0.0           1350        1310   \n",
       "211            0      9        1060          210.0           1160        1327   \n",
       "...          ...    ...         ...            ...            ...         ...   \n",
       "21575          0      9        2770            0.0           1810        5641   \n",
       "21580          0     10        3600            0.0           3550        9421   \n",
       "21582          0     10        3118            0.0           2673        6500   \n",
       "21586          0      7        1500            0.0           1320       11303   \n",
       "21589          0     10        2520            0.0           2520        6023   \n",
       "\n",
       "       livingAreaRatio  houseAge  \n",
       "42            0.637524         0  \n",
       "63            1.475096         0  \n",
       "133           0.878881         0  \n",
       "139           0.936749         0  \n",
       "211           0.810983         0  \n",
       "...                ...       ...  \n",
       "21575         0.719107         0  \n",
       "21580         0.381477         0  \n",
       "21582         0.396390         0  \n",
       "21586         0.125334         0  \n",
       "21589         0.418396         0  \n",
       "\n",
       "[442 rows x 15 columns]"
      ]
     },
     "execution_count": 30,
     "metadata": {},
     "output_type": "execute_result"
    }
   ],
   "source": [
    "X"
   ]
  },
  {
   "cell_type": "markdown",
   "metadata": {},
   "source": [
    "Checking for collinearity through the correlation matrix"
   ]
  },
  {
   "cell_type": "code",
   "execution_count": 31,
   "metadata": {},
   "outputs": [
    {
     "data": {
      "text/html": [
       "<div>\n",
       "<style scoped>\n",
       "    .dataframe tbody tr th:only-of-type {\n",
       "        vertical-align: middle;\n",
       "    }\n",
       "\n",
       "    .dataframe tbody tr th {\n",
       "        vertical-align: top;\n",
       "    }\n",
       "\n",
       "    .dataframe thead th {\n",
       "        text-align: right;\n",
       "    }\n",
       "</style>\n",
       "<table border=\"1\" class=\"dataframe\">\n",
       "  <thead>\n",
       "    <tr style=\"text-align: right;\">\n",
       "      <th></th>\n",
       "      <th>bedrooms</th>\n",
       "      <th>bathrooms</th>\n",
       "      <th>sqft_living</th>\n",
       "      <th>sqft_lot</th>\n",
       "      <th>floors</th>\n",
       "      <th>waterfront</th>\n",
       "      <th>view</th>\n",
       "      <th>condition</th>\n",
       "      <th>grade</th>\n",
       "      <th>sqft_above</th>\n",
       "      <th>sqft_basement</th>\n",
       "      <th>sqft_living15</th>\n",
       "      <th>sqft_lot15</th>\n",
       "      <th>livingAreaRatio</th>\n",
       "      <th>houseAge</th>\n",
       "    </tr>\n",
       "  </thead>\n",
       "  <tbody>\n",
       "    <tr>\n",
       "      <th>bedrooms</th>\n",
       "      <td>1.000000</td>\n",
       "      <td>0.579423</td>\n",
       "      <td>0.707657</td>\n",
       "      <td>0.276501</td>\n",
       "      <td>-0.248584</td>\n",
       "      <td>-0.058851</td>\n",
       "      <td>0.074252</td>\n",
       "      <td>NaN</td>\n",
       "      <td>-0.087943</td>\n",
       "      <td>0.697206</td>\n",
       "      <td>0.086949</td>\n",
       "      <td>0.534356</td>\n",
       "      <td>0.264687</td>\n",
       "      <td>-0.500899</td>\n",
       "      <td>0.096395</td>\n",
       "    </tr>\n",
       "    <tr>\n",
       "      <th>bathrooms</th>\n",
       "      <td>0.579423</td>\n",
       "      <td>1.000000</td>\n",
       "      <td>0.711370</td>\n",
       "      <td>0.327647</td>\n",
       "      <td>-0.166322</td>\n",
       "      <td>0.085994</td>\n",
       "      <td>0.190201</td>\n",
       "      <td>NaN</td>\n",
       "      <td>-0.330452</td>\n",
       "      <td>0.608755</td>\n",
       "      <td>0.345810</td>\n",
       "      <td>0.462372</td>\n",
       "      <td>0.292468</td>\n",
       "      <td>-0.374677</td>\n",
       "      <td>0.087670</td>\n",
       "    </tr>\n",
       "    <tr>\n",
       "      <th>sqft_living</th>\n",
       "      <td>0.707657</td>\n",
       "      <td>0.711370</td>\n",
       "      <td>1.000000</td>\n",
       "      <td>0.474060</td>\n",
       "      <td>-0.236272</td>\n",
       "      <td>0.105931</td>\n",
       "      <td>0.304155</td>\n",
       "      <td>NaN</td>\n",
       "      <td>-0.313127</td>\n",
       "      <td>0.937606</td>\n",
       "      <td>0.255272</td>\n",
       "      <td>0.743208</td>\n",
       "      <td>0.441135</td>\n",
       "      <td>-0.545118</td>\n",
       "      <td>0.078584</td>\n",
       "    </tr>\n",
       "    <tr>\n",
       "      <th>sqft_lot</th>\n",
       "      <td>0.276501</td>\n",
       "      <td>0.327647</td>\n",
       "      <td>0.474060</td>\n",
       "      <td>1.000000</td>\n",
       "      <td>-0.194044</td>\n",
       "      <td>0.025984</td>\n",
       "      <td>0.098258</td>\n",
       "      <td>NaN</td>\n",
       "      <td>-0.210978</td>\n",
       "      <td>0.477177</td>\n",
       "      <td>0.040824</td>\n",
       "      <td>0.372969</td>\n",
       "      <td>0.929182</td>\n",
       "      <td>-0.489977</td>\n",
       "      <td>0.039175</td>\n",
       "    </tr>\n",
       "    <tr>\n",
       "      <th>floors</th>\n",
       "      <td>-0.248584</td>\n",
       "      <td>-0.166322</td>\n",
       "      <td>-0.236272</td>\n",
       "      <td>-0.194044</td>\n",
       "      <td>1.000000</td>\n",
       "      <td>-0.022918</td>\n",
       "      <td>-0.025207</td>\n",
       "      <td>NaN</td>\n",
       "      <td>0.025322</td>\n",
       "      <td>-0.187346</td>\n",
       "      <td>-0.176686</td>\n",
       "      <td>-0.223660</td>\n",
       "      <td>-0.171912</td>\n",
       "      <td>0.521961</td>\n",
       "      <td>-0.068353</td>\n",
       "    </tr>\n",
       "    <tr>\n",
       "      <th>waterfront</th>\n",
       "      <td>-0.058851</td>\n",
       "      <td>0.085994</td>\n",
       "      <td>0.105931</td>\n",
       "      <td>0.025984</td>\n",
       "      <td>-0.022918</td>\n",
       "      <td>1.000000</td>\n",
       "      <td>0.564074</td>\n",
       "      <td>NaN</td>\n",
       "      <td>-0.158994</td>\n",
       "      <td>0.050681</td>\n",
       "      <td>0.165940</td>\n",
       "      <td>0.104012</td>\n",
       "      <td>-0.000945</td>\n",
       "      <td>-0.029351</td>\n",
       "      <td>0.011263</td>\n",
       "    </tr>\n",
       "    <tr>\n",
       "      <th>view</th>\n",
       "      <td>0.074252</td>\n",
       "      <td>0.190201</td>\n",
       "      <td>0.304155</td>\n",
       "      <td>0.098258</td>\n",
       "      <td>-0.025207</td>\n",
       "      <td>0.564074</td>\n",
       "      <td>1.000000</td>\n",
       "      <td>NaN</td>\n",
       "      <td>-0.243251</td>\n",
       "      <td>0.190360</td>\n",
       "      <td>0.314606</td>\n",
       "      <td>0.281716</td>\n",
       "      <td>0.076188</td>\n",
       "      <td>-0.037313</td>\n",
       "      <td>-0.028815</td>\n",
       "    </tr>\n",
       "    <tr>\n",
       "      <th>condition</th>\n",
       "      <td>NaN</td>\n",
       "      <td>NaN</td>\n",
       "      <td>NaN</td>\n",
       "      <td>NaN</td>\n",
       "      <td>NaN</td>\n",
       "      <td>NaN</td>\n",
       "      <td>NaN</td>\n",
       "      <td>NaN</td>\n",
       "      <td>NaN</td>\n",
       "      <td>NaN</td>\n",
       "      <td>NaN</td>\n",
       "      <td>NaN</td>\n",
       "      <td>NaN</td>\n",
       "      <td>NaN</td>\n",
       "      <td>NaN</td>\n",
       "    </tr>\n",
       "    <tr>\n",
       "      <th>grade</th>\n",
       "      <td>-0.087943</td>\n",
       "      <td>-0.330452</td>\n",
       "      <td>-0.313127</td>\n",
       "      <td>-0.210978</td>\n",
       "      <td>0.025322</td>\n",
       "      <td>-0.158994</td>\n",
       "      <td>-0.243251</td>\n",
       "      <td>NaN</td>\n",
       "      <td>1.000000</td>\n",
       "      <td>-0.266339</td>\n",
       "      <td>-0.139315</td>\n",
       "      <td>-0.153827</td>\n",
       "      <td>-0.261389</td>\n",
       "      <td>0.146853</td>\n",
       "      <td>0.032093</td>\n",
       "    </tr>\n",
       "    <tr>\n",
       "      <th>sqft_above</th>\n",
       "      <td>0.697206</td>\n",
       "      <td>0.608755</td>\n",
       "      <td>0.937606</td>\n",
       "      <td>0.477177</td>\n",
       "      <td>-0.187346</td>\n",
       "      <td>0.050681</td>\n",
       "      <td>0.190360</td>\n",
       "      <td>NaN</td>\n",
       "      <td>-0.266339</td>\n",
       "      <td>1.000000</td>\n",
       "      <td>-0.089875</td>\n",
       "      <td>0.745605</td>\n",
       "      <td>0.448726</td>\n",
       "      <td>-0.612846</td>\n",
       "      <td>0.107616</td>\n",
       "    </tr>\n",
       "    <tr>\n",
       "      <th>sqft_basement</th>\n",
       "      <td>0.086949</td>\n",
       "      <td>0.345810</td>\n",
       "      <td>0.255272</td>\n",
       "      <td>0.040824</td>\n",
       "      <td>-0.176686</td>\n",
       "      <td>0.165940</td>\n",
       "      <td>0.314606</td>\n",
       "      <td>NaN</td>\n",
       "      <td>-0.139315</td>\n",
       "      <td>-0.089875</td>\n",
       "      <td>1.000000</td>\n",
       "      <td>0.063868</td>\n",
       "      <td>0.024842</td>\n",
       "      <td>0.116943</td>\n",
       "      <td>-0.024789</td>\n",
       "    </tr>\n",
       "    <tr>\n",
       "      <th>sqft_living15</th>\n",
       "      <td>0.534356</td>\n",
       "      <td>0.462372</td>\n",
       "      <td>0.743208</td>\n",
       "      <td>0.372969</td>\n",
       "      <td>-0.223660</td>\n",
       "      <td>0.104012</td>\n",
       "      <td>0.281716</td>\n",
       "      <td>NaN</td>\n",
       "      <td>-0.153827</td>\n",
       "      <td>0.745605</td>\n",
       "      <td>0.063868</td>\n",
       "      <td>1.000000</td>\n",
       "      <td>0.357388</td>\n",
       "      <td>-0.438589</td>\n",
       "      <td>0.103552</td>\n",
       "    </tr>\n",
       "    <tr>\n",
       "      <th>sqft_lot15</th>\n",
       "      <td>0.264687</td>\n",
       "      <td>0.292468</td>\n",
       "      <td>0.441135</td>\n",
       "      <td>0.929182</td>\n",
       "      <td>-0.171912</td>\n",
       "      <td>-0.000945</td>\n",
       "      <td>0.076188</td>\n",
       "      <td>NaN</td>\n",
       "      <td>-0.261389</td>\n",
       "      <td>0.448726</td>\n",
       "      <td>0.024842</td>\n",
       "      <td>0.357388</td>\n",
       "      <td>1.000000</td>\n",
       "      <td>-0.448043</td>\n",
       "      <td>0.005787</td>\n",
       "    </tr>\n",
       "    <tr>\n",
       "      <th>livingAreaRatio</th>\n",
       "      <td>-0.500899</td>\n",
       "      <td>-0.374677</td>\n",
       "      <td>-0.545118</td>\n",
       "      <td>-0.489977</td>\n",
       "      <td>0.521961</td>\n",
       "      <td>-0.029351</td>\n",
       "      <td>-0.037313</td>\n",
       "      <td>NaN</td>\n",
       "      <td>0.146853</td>\n",
       "      <td>-0.612846</td>\n",
       "      <td>0.116943</td>\n",
       "      <td>-0.438589</td>\n",
       "      <td>-0.448043</td>\n",
       "      <td>1.000000</td>\n",
       "      <td>-0.070055</td>\n",
       "    </tr>\n",
       "    <tr>\n",
       "      <th>houseAge</th>\n",
       "      <td>0.096395</td>\n",
       "      <td>0.087670</td>\n",
       "      <td>0.078584</td>\n",
       "      <td>0.039175</td>\n",
       "      <td>-0.068353</td>\n",
       "      <td>0.011263</td>\n",
       "      <td>-0.028815</td>\n",
       "      <td>NaN</td>\n",
       "      <td>0.032093</td>\n",
       "      <td>0.107616</td>\n",
       "      <td>-0.024789</td>\n",
       "      <td>0.103552</td>\n",
       "      <td>0.005787</td>\n",
       "      <td>-0.070055</td>\n",
       "      <td>1.000000</td>\n",
       "    </tr>\n",
       "  </tbody>\n",
       "</table>\n",
       "</div>"
      ],
      "text/plain": [
       "                 bedrooms  bathrooms  sqft_living  sqft_lot    floors  \\\n",
       "bedrooms         1.000000   0.579423     0.707657  0.276501 -0.248584   \n",
       "bathrooms        0.579423   1.000000     0.711370  0.327647 -0.166322   \n",
       "sqft_living      0.707657   0.711370     1.000000  0.474060 -0.236272   \n",
       "sqft_lot         0.276501   0.327647     0.474060  1.000000 -0.194044   \n",
       "floors          -0.248584  -0.166322    -0.236272 -0.194044  1.000000   \n",
       "waterfront      -0.058851   0.085994     0.105931  0.025984 -0.022918   \n",
       "view             0.074252   0.190201     0.304155  0.098258 -0.025207   \n",
       "condition             NaN        NaN          NaN       NaN       NaN   \n",
       "grade           -0.087943  -0.330452    -0.313127 -0.210978  0.025322   \n",
       "sqft_above       0.697206   0.608755     0.937606  0.477177 -0.187346   \n",
       "sqft_basement    0.086949   0.345810     0.255272  0.040824 -0.176686   \n",
       "sqft_living15    0.534356   0.462372     0.743208  0.372969 -0.223660   \n",
       "sqft_lot15       0.264687   0.292468     0.441135  0.929182 -0.171912   \n",
       "livingAreaRatio -0.500899  -0.374677    -0.545118 -0.489977  0.521961   \n",
       "houseAge         0.096395   0.087670     0.078584  0.039175 -0.068353   \n",
       "\n",
       "                 waterfront      view  condition     grade  sqft_above  \\\n",
       "bedrooms          -0.058851  0.074252        NaN -0.087943    0.697206   \n",
       "bathrooms          0.085994  0.190201        NaN -0.330452    0.608755   \n",
       "sqft_living        0.105931  0.304155        NaN -0.313127    0.937606   \n",
       "sqft_lot           0.025984  0.098258        NaN -0.210978    0.477177   \n",
       "floors            -0.022918 -0.025207        NaN  0.025322   -0.187346   \n",
       "waterfront         1.000000  0.564074        NaN -0.158994    0.050681   \n",
       "view               0.564074  1.000000        NaN -0.243251    0.190360   \n",
       "condition               NaN       NaN        NaN       NaN         NaN   \n",
       "grade             -0.158994 -0.243251        NaN  1.000000   -0.266339   \n",
       "sqft_above         0.050681  0.190360        NaN -0.266339    1.000000   \n",
       "sqft_basement      0.165940  0.314606        NaN -0.139315   -0.089875   \n",
       "sqft_living15      0.104012  0.281716        NaN -0.153827    0.745605   \n",
       "sqft_lot15        -0.000945  0.076188        NaN -0.261389    0.448726   \n",
       "livingAreaRatio   -0.029351 -0.037313        NaN  0.146853   -0.612846   \n",
       "houseAge           0.011263 -0.028815        NaN  0.032093    0.107616   \n",
       "\n",
       "                 sqft_basement  sqft_living15  sqft_lot15  livingAreaRatio  \\\n",
       "bedrooms              0.086949       0.534356    0.264687        -0.500899   \n",
       "bathrooms             0.345810       0.462372    0.292468        -0.374677   \n",
       "sqft_living           0.255272       0.743208    0.441135        -0.545118   \n",
       "sqft_lot              0.040824       0.372969    0.929182        -0.489977   \n",
       "floors               -0.176686      -0.223660   -0.171912         0.521961   \n",
       "waterfront            0.165940       0.104012   -0.000945        -0.029351   \n",
       "view                  0.314606       0.281716    0.076188        -0.037313   \n",
       "condition                  NaN            NaN         NaN              NaN   \n",
       "grade                -0.139315      -0.153827   -0.261389         0.146853   \n",
       "sqft_above           -0.089875       0.745605    0.448726        -0.612846   \n",
       "sqft_basement         1.000000       0.063868    0.024842         0.116943   \n",
       "sqft_living15         0.063868       1.000000    0.357388        -0.438589   \n",
       "sqft_lot15            0.024842       0.357388    1.000000        -0.448043   \n",
       "livingAreaRatio       0.116943      -0.438589   -0.448043         1.000000   \n",
       "houseAge             -0.024789       0.103552    0.005787        -0.070055   \n",
       "\n",
       "                 houseAge  \n",
       "bedrooms         0.096395  \n",
       "bathrooms        0.087670  \n",
       "sqft_living      0.078584  \n",
       "sqft_lot         0.039175  \n",
       "floors          -0.068353  \n",
       "waterfront       0.011263  \n",
       "view            -0.028815  \n",
       "condition             NaN  \n",
       "grade            0.032093  \n",
       "sqft_above       0.107616  \n",
       "sqft_basement   -0.024789  \n",
       "sqft_living15    0.103552  \n",
       "sqft_lot15       0.005787  \n",
       "livingAreaRatio -0.070055  \n",
       "houseAge         1.000000  "
      ]
     },
     "execution_count": 31,
     "metadata": {},
     "output_type": "execute_result"
    }
   ],
   "source": [
    "X.corr()"
   ]
  },
  {
   "cell_type": "code",
   "execution_count": 32,
   "metadata": {},
   "outputs": [
    {
     "data": {
      "image/png": "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\n",
      "text/plain": [
       "<Figure size 1008x432 with 2 Axes>"
      ]
     },
     "metadata": {
      "needs_background": "light"
     },
     "output_type": "display_data"
    }
   ],
   "source": [
    "plt.figure(figsize = (14, 6))\n",
    "sns.heatmap(X.corr(), annot = True)\n",
    "\n",
    "plt.title('Correlation Matrix for Features')\n",
    "plt.savefig(\"corrmat.jpg\" , dpi=300)\n",
    "plt.show()"
   ]
  },
  {
   "cell_type": "markdown",
   "metadata": {},
   "source": [
    "Highly correlated variables:\n",
    "bathrooms vs sqft_living\n",
    "bedrooms vs sqft_living\n",
    "sqft_lot vs sqft_lot15\n",
    "sqft_living vs sqft_living15\n",
    "sqft_above vs sqft_living\n",
    "getting rid of:\n",
    "sqft_above\n",
    "condition\n",
    "sqft_lot15\n",
    "sqft_living15\n",
    "houseAge"
   ]
  },
  {
   "cell_type": "code",
   "execution_count": 33,
   "metadata": {},
   "outputs": [
    {
     "data": {
      "text/html": [
       "<div>\n",
       "<style scoped>\n",
       "    .dataframe tbody tr th:only-of-type {\n",
       "        vertical-align: middle;\n",
       "    }\n",
       "\n",
       "    .dataframe tbody tr th {\n",
       "        vertical-align: top;\n",
       "    }\n",
       "\n",
       "    .dataframe thead th {\n",
       "        text-align: right;\n",
       "    }\n",
       "</style>\n",
       "<table border=\"1\" class=\"dataframe\">\n",
       "  <thead>\n",
       "    <tr style=\"text-align: right;\">\n",
       "      <th></th>\n",
       "      <th>bedrooms</th>\n",
       "      <th>bathrooms</th>\n",
       "      <th>sqft_living</th>\n",
       "      <th>sqft_lot</th>\n",
       "      <th>floors</th>\n",
       "      <th>waterfront</th>\n",
       "      <th>view</th>\n",
       "      <th>grade</th>\n",
       "      <th>sqft_basement</th>\n",
       "      <th>livingAreaRatio</th>\n",
       "    </tr>\n",
       "  </thead>\n",
       "  <tbody>\n",
       "    <tr>\n",
       "      <th>42</th>\n",
       "      <td>5</td>\n",
       "      <td>2.75</td>\n",
       "      <td>3595</td>\n",
       "      <td>5639</td>\n",
       "      <td>2.0</td>\n",
       "      <td>0</td>\n",
       "      <td>0</td>\n",
       "      <td>10</td>\n",
       "      <td>0.0</td>\n",
       "      <td>0.637524</td>\n",
       "    </tr>\n",
       "    <tr>\n",
       "      <th>63</th>\n",
       "      <td>3</td>\n",
       "      <td>1.75</td>\n",
       "      <td>1540</td>\n",
       "      <td>1044</td>\n",
       "      <td>3.0</td>\n",
       "      <td>0</td>\n",
       "      <td>0</td>\n",
       "      <td>9</td>\n",
       "      <td>0.0</td>\n",
       "      <td>1.475096</td>\n",
       "    </tr>\n",
       "    <tr>\n",
       "      <th>133</th>\n",
       "      <td>3</td>\n",
       "      <td>2.50</td>\n",
       "      <td>2010</td>\n",
       "      <td>2287</td>\n",
       "      <td>2.0</td>\n",
       "      <td>0</td>\n",
       "      <td>0</td>\n",
       "      <td>9</td>\n",
       "      <td>620.0</td>\n",
       "      <td>0.878881</td>\n",
       "    </tr>\n",
       "    <tr>\n",
       "      <th>139</th>\n",
       "      <td>3</td>\n",
       "      <td>2.25</td>\n",
       "      <td>1170</td>\n",
       "      <td>1249</td>\n",
       "      <td>3.0</td>\n",
       "      <td>0</td>\n",
       "      <td>0</td>\n",
       "      <td>9</td>\n",
       "      <td>0.0</td>\n",
       "      <td>0.936749</td>\n",
       "    </tr>\n",
       "    <tr>\n",
       "      <th>211</th>\n",
       "      <td>3</td>\n",
       "      <td>2.25</td>\n",
       "      <td>1270</td>\n",
       "      <td>1566</td>\n",
       "      <td>2.0</td>\n",
       "      <td>0</td>\n",
       "      <td>0</td>\n",
       "      <td>9</td>\n",
       "      <td>210.0</td>\n",
       "      <td>0.810983</td>\n",
       "    </tr>\n",
       "  </tbody>\n",
       "</table>\n",
       "</div>"
      ],
      "text/plain": [
       "     bedrooms  bathrooms  sqft_living  sqft_lot  floors  waterfront  view  \\\n",
       "42          5       2.75         3595      5639     2.0           0     0   \n",
       "63          3       1.75         1540      1044     3.0           0     0   \n",
       "133         3       2.50         2010      2287     2.0           0     0   \n",
       "139         3       2.25         1170      1249     3.0           0     0   \n",
       "211         3       2.25         1270      1566     2.0           0     0   \n",
       "\n",
       "     grade  sqft_basement  livingAreaRatio  \n",
       "42      10            0.0         0.637524  \n",
       "63       9            0.0         1.475096  \n",
       "133      9          620.0         0.878881  \n",
       "139      9            0.0         0.936749  \n",
       "211      9          210.0         0.810983  "
      ]
     },
     "execution_count": 33,
     "metadata": {},
     "output_type": "execute_result"
    }
   ],
   "source": [
    "X = X.drop(columns = ['condition', 'sqft_lot15', 'sqft_living15', 'houseAge', 'sqft_above'])\n",
    "X.head()"
   ]
  },
  {
   "cell_type": "markdown",
   "metadata": {},
   "source": [
    "looking the heatmap again"
   ]
  },
  {
   "cell_type": "code",
   "execution_count": 34,
   "metadata": {},
   "outputs": [
    {
     "data": {
      "image/png": "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\n",
      "text/plain": [
       "<Figure size 864x432 with 2 Axes>"
      ]
     },
     "metadata": {
      "needs_background": "light"
     },
     "output_type": "display_data"
    }
   ],
   "source": [
    "plt.figure(figsize = (12,6))\n",
    "sns.heatmap(X.corr(), annot = True)\n",
    "\n",
    "plt.title('Correlation Matrix for Feature')\n",
    "plt.savefig(\"corrmat.jpg\" , dpi=300)\n",
    "plt.show()"
   ]
  },
  {
   "cell_type": "markdown",
   "metadata": {},
   "source": [
    "## multivariate linear regression"
   ]
  },
  {
   "cell_type": "markdown",
   "metadata": {},
   "source": [
    "Code is the exact"
   ]
  },
  {
   "cell_type": "code",
   "execution_count": 35,
   "metadata": {},
   "outputs": [
    {
     "data": {
      "text/html": [
       "<div>\n",
       "<style scoped>\n",
       "    .dataframe tbody tr th:only-of-type {\n",
       "        vertical-align: middle;\n",
       "    }\n",
       "\n",
       "    .dataframe tbody tr th {\n",
       "        vertical-align: top;\n",
       "    }\n",
       "\n",
       "    .dataframe thead th {\n",
       "        text-align: right;\n",
       "    }\n",
       "</style>\n",
       "<table border=\"1\" class=\"dataframe\">\n",
       "  <thead>\n",
       "    <tr style=\"text-align: right;\">\n",
       "      <th></th>\n",
       "      <th>const</th>\n",
       "      <th>bedrooms</th>\n",
       "      <th>bathrooms</th>\n",
       "      <th>sqft_living</th>\n",
       "      <th>sqft_lot</th>\n",
       "      <th>floors</th>\n",
       "      <th>waterfront</th>\n",
       "      <th>view</th>\n",
       "      <th>grade</th>\n",
       "      <th>sqft_basement</th>\n",
       "      <th>livingAreaRatio</th>\n",
       "    </tr>\n",
       "  </thead>\n",
       "  <tbody>\n",
       "    <tr>\n",
       "      <th>42</th>\n",
       "      <td>1.0</td>\n",
       "      <td>5</td>\n",
       "      <td>2.75</td>\n",
       "      <td>3595</td>\n",
       "      <td>5639</td>\n",
       "      <td>2.0</td>\n",
       "      <td>0</td>\n",
       "      <td>0</td>\n",
       "      <td>10</td>\n",
       "      <td>0.0</td>\n",
       "      <td>0.637524</td>\n",
       "    </tr>\n",
       "    <tr>\n",
       "      <th>63</th>\n",
       "      <td>1.0</td>\n",
       "      <td>3</td>\n",
       "      <td>1.75</td>\n",
       "      <td>1540</td>\n",
       "      <td>1044</td>\n",
       "      <td>3.0</td>\n",
       "      <td>0</td>\n",
       "      <td>0</td>\n",
       "      <td>9</td>\n",
       "      <td>0.0</td>\n",
       "      <td>1.475096</td>\n",
       "    </tr>\n",
       "    <tr>\n",
       "      <th>133</th>\n",
       "      <td>1.0</td>\n",
       "      <td>3</td>\n",
       "      <td>2.50</td>\n",
       "      <td>2010</td>\n",
       "      <td>2287</td>\n",
       "      <td>2.0</td>\n",
       "      <td>0</td>\n",
       "      <td>0</td>\n",
       "      <td>9</td>\n",
       "      <td>620.0</td>\n",
       "      <td>0.878881</td>\n",
       "    </tr>\n",
       "    <tr>\n",
       "      <th>139</th>\n",
       "      <td>1.0</td>\n",
       "      <td>3</td>\n",
       "      <td>2.25</td>\n",
       "      <td>1170</td>\n",
       "      <td>1249</td>\n",
       "      <td>3.0</td>\n",
       "      <td>0</td>\n",
       "      <td>0</td>\n",
       "      <td>9</td>\n",
       "      <td>0.0</td>\n",
       "      <td>0.936749</td>\n",
       "    </tr>\n",
       "    <tr>\n",
       "      <th>211</th>\n",
       "      <td>1.0</td>\n",
       "      <td>3</td>\n",
       "      <td>2.25</td>\n",
       "      <td>1270</td>\n",
       "      <td>1566</td>\n",
       "      <td>2.0</td>\n",
       "      <td>0</td>\n",
       "      <td>0</td>\n",
       "      <td>9</td>\n",
       "      <td>210.0</td>\n",
       "      <td>0.810983</td>\n",
       "    </tr>\n",
       "    <tr>\n",
       "      <th>...</th>\n",
       "      <td>...</td>\n",
       "      <td>...</td>\n",
       "      <td>...</td>\n",
       "      <td>...</td>\n",
       "      <td>...</td>\n",
       "      <td>...</td>\n",
       "      <td>...</td>\n",
       "      <td>...</td>\n",
       "      <td>...</td>\n",
       "      <td>...</td>\n",
       "      <td>...</td>\n",
       "    </tr>\n",
       "    <tr>\n",
       "      <th>21575</th>\n",
       "      <td>1.0</td>\n",
       "      <td>4</td>\n",
       "      <td>2.75</td>\n",
       "      <td>2770</td>\n",
       "      <td>3852</td>\n",
       "      <td>2.0</td>\n",
       "      <td>0</td>\n",
       "      <td>0</td>\n",
       "      <td>9</td>\n",
       "      <td>0.0</td>\n",
       "      <td>0.719107</td>\n",
       "    </tr>\n",
       "    <tr>\n",
       "      <th>21580</th>\n",
       "      <td>1.0</td>\n",
       "      <td>5</td>\n",
       "      <td>2.75</td>\n",
       "      <td>3600</td>\n",
       "      <td>9437</td>\n",
       "      <td>2.0</td>\n",
       "      <td>0</td>\n",
       "      <td>0</td>\n",
       "      <td>10</td>\n",
       "      <td>0.0</td>\n",
       "      <td>0.381477</td>\n",
       "    </tr>\n",
       "    <tr>\n",
       "      <th>21582</th>\n",
       "      <td>1.0</td>\n",
       "      <td>4</td>\n",
       "      <td>2.50</td>\n",
       "      <td>3118</td>\n",
       "      <td>7866</td>\n",
       "      <td>2.0</td>\n",
       "      <td>0</td>\n",
       "      <td>2</td>\n",
       "      <td>10</td>\n",
       "      <td>0.0</td>\n",
       "      <td>0.396390</td>\n",
       "    </tr>\n",
       "    <tr>\n",
       "      <th>21586</th>\n",
       "      <td>1.0</td>\n",
       "      <td>3</td>\n",
       "      <td>1.75</td>\n",
       "      <td>1500</td>\n",
       "      <td>11968</td>\n",
       "      <td>1.0</td>\n",
       "      <td>0</td>\n",
       "      <td>0</td>\n",
       "      <td>7</td>\n",
       "      <td>0.0</td>\n",
       "      <td>0.125334</td>\n",
       "    </tr>\n",
       "    <tr>\n",
       "      <th>21589</th>\n",
       "      <td>1.0</td>\n",
       "      <td>4</td>\n",
       "      <td>2.50</td>\n",
       "      <td>2520</td>\n",
       "      <td>6023</td>\n",
       "      <td>2.0</td>\n",
       "      <td>0</td>\n",
       "      <td>0</td>\n",
       "      <td>10</td>\n",
       "      <td>0.0</td>\n",
       "      <td>0.418396</td>\n",
       "    </tr>\n",
       "  </tbody>\n",
       "</table>\n",
       "<p>442 rows × 11 columns</p>\n",
       "</div>"
      ],
      "text/plain": [
       "       const  bedrooms  bathrooms  sqft_living  sqft_lot  floors  waterfront  \\\n",
       "42       1.0         5       2.75         3595      5639     2.0           0   \n",
       "63       1.0         3       1.75         1540      1044     3.0           0   \n",
       "133      1.0         3       2.50         2010      2287     2.0           0   \n",
       "139      1.0         3       2.25         1170      1249     3.0           0   \n",
       "211      1.0         3       2.25         1270      1566     2.0           0   \n",
       "...      ...       ...        ...          ...       ...     ...         ...   \n",
       "21575    1.0         4       2.75         2770      3852     2.0           0   \n",
       "21580    1.0         5       2.75         3600      9437     2.0           0   \n",
       "21582    1.0         4       2.50         3118      7866     2.0           0   \n",
       "21586    1.0         3       1.75         1500     11968     1.0           0   \n",
       "21589    1.0         4       2.50         2520      6023     2.0           0   \n",
       "\n",
       "       view  grade  sqft_basement  livingAreaRatio  \n",
       "42        0     10            0.0         0.637524  \n",
       "63        0      9            0.0         1.475096  \n",
       "133       0      9          620.0         0.878881  \n",
       "139       0      9            0.0         0.936749  \n",
       "211       0      9          210.0         0.810983  \n",
       "...     ...    ...            ...              ...  \n",
       "21575     0      9            0.0         0.719107  \n",
       "21580     0     10            0.0         0.381477  \n",
       "21582     2     10            0.0         0.396390  \n",
       "21586     0      7            0.0         0.125334  \n",
       "21589     0     10            0.0         0.418396  \n",
       "\n",
       "[442 rows x 11 columns]"
      ]
     },
     "execution_count": 35,
     "metadata": {},
     "output_type": "execute_result"
    }
   ],
   "source": [
    "X_augmented = sm.add_constant(X)\n",
    "X_augmented"
   ]
  },
  {
   "cell_type": "code",
   "execution_count": 36,
   "metadata": {},
   "outputs": [],
   "source": [
    "results = sm.OLS(Y, X_augmented).fit()"
   ]
  },
  {
   "cell_type": "markdown",
   "metadata": {},
   "source": [
    "Get the slopes for each variable and the constant term:"
   ]
  },
  {
   "cell_type": "code",
   "execution_count": 37,
   "metadata": {},
   "outputs": [
    {
     "data": {
      "text/plain": [
       "const             -2.293989e+05\n",
       "bedrooms          -4.966799e+04\n",
       "bathrooms          7.862214e+04\n",
       "sqft_living        2.554534e+02\n",
       "sqft_lot           5.641941e+00\n",
       "floors             1.101355e+05\n",
       "waterfront         1.502304e+06\n",
       "view              -7.116770e+04\n",
       "grade             -2.327080e+04\n",
       "sqft_basement      1.295782e+02\n",
       "livingAreaRatio    1.672241e+05\n",
       "dtype: float64"
      ]
     },
     "execution_count": 37,
     "metadata": {},
     "output_type": "execute_result"
    }
   ],
   "source": [
    "results.params"
   ]
  },
  {
   "cell_type": "markdown",
   "metadata": {},
   "source": [
    "Get the R square value."
   ]
  },
  {
   "cell_type": "code",
   "execution_count": 38,
   "metadata": {},
   "outputs": [
    {
     "data": {
      "text/plain": [
       "0.6500261002413503"
      ]
     },
     "execution_count": 38,
     "metadata": {},
     "output_type": "execute_result"
    }
   ],
   "source": [
    "results.rsquared"
   ]
  },
  {
   "cell_type": "code",
   "execution_count": 39,
   "metadata": {},
   "outputs": [
    {
     "data": {
      "text/plain": [
       "0.6419060561634233"
      ]
     },
     "execution_count": 39,
     "metadata": {},
     "output_type": "execute_result"
    }
   ],
   "source": [
    "results.rsquared_adj"
   ]
  },
  {
   "cell_type": "code",
   "execution_count": 40,
   "metadata": {},
   "outputs": [
    {
     "data": {
      "text/html": [
       "<div>\n",
       "<style scoped>\n",
       "    .dataframe tbody tr th:only-of-type {\n",
       "        vertical-align: middle;\n",
       "    }\n",
       "\n",
       "    .dataframe tbody tr th {\n",
       "        vertical-align: top;\n",
       "    }\n",
       "\n",
       "    .dataframe thead th {\n",
       "        text-align: right;\n",
       "    }\n",
       "</style>\n",
       "<table border=\"1\" class=\"dataframe\">\n",
       "  <thead>\n",
       "    <tr style=\"text-align: right;\">\n",
       "      <th></th>\n",
       "      <th>bedrooms</th>\n",
       "      <th>bathrooms</th>\n",
       "      <th>sqft_living</th>\n",
       "      <th>sqft_lot</th>\n",
       "      <th>floors</th>\n",
       "      <th>waterfront</th>\n",
       "      <th>view</th>\n",
       "      <th>grade</th>\n",
       "      <th>sqft_basement</th>\n",
       "      <th>livingAreaRatio</th>\n",
       "    </tr>\n",
       "  </thead>\n",
       "  <tbody>\n",
       "    <tr>\n",
       "      <th>count</th>\n",
       "      <td>442.000000</td>\n",
       "      <td>442.000000</td>\n",
       "      <td>442.000000</td>\n",
       "      <td>442.000000</td>\n",
       "      <td>442.000000</td>\n",
       "      <td>442.000000</td>\n",
       "      <td>442.000000</td>\n",
       "      <td>442.000000</td>\n",
       "      <td>442.000000</td>\n",
       "      <td>442.000000</td>\n",
       "    </tr>\n",
       "    <tr>\n",
       "      <th>mean</th>\n",
       "      <td>3.737557</td>\n",
       "      <td>2.732466</td>\n",
       "      <td>2631.117647</td>\n",
       "      <td>5524.343891</td>\n",
       "      <td>2.132353</td>\n",
       "      <td>0.004525</td>\n",
       "      <td>0.085973</td>\n",
       "      <td>8.257919</td>\n",
       "      <td>170.183258</td>\n",
       "      <td>0.690264</td>\n",
       "    </tr>\n",
       "    <tr>\n",
       "      <th>std</th>\n",
       "      <td>0.845901</td>\n",
       "      <td>0.602436</td>\n",
       "      <td>926.377305</td>\n",
       "      <td>6937.332563</td>\n",
       "      <td>0.389800</td>\n",
       "      <td>0.067191</td>\n",
       "      <td>0.468347</td>\n",
       "      <td>3.081139</td>\n",
       "      <td>319.225871</td>\n",
       "      <td>0.348565</td>\n",
       "    </tr>\n",
       "    <tr>\n",
       "      <th>min</th>\n",
       "      <td>1.000000</td>\n",
       "      <td>1.000000</td>\n",
       "      <td>710.000000</td>\n",
       "      <td>638.000000</td>\n",
       "      <td>1.000000</td>\n",
       "      <td>0.000000</td>\n",
       "      <td>0.000000</td>\n",
       "      <td>0.000000</td>\n",
       "      <td>0.000000</td>\n",
       "      <td>0.039498</td>\n",
       "    </tr>\n",
       "    <tr>\n",
       "      <th>25%</th>\n",
       "      <td>3.000000</td>\n",
       "      <td>2.500000</td>\n",
       "      <td>1760.000000</td>\n",
       "      <td>2214.500000</td>\n",
       "      <td>2.000000</td>\n",
       "      <td>0.000000</td>\n",
       "      <td>0.000000</td>\n",
       "      <td>9.000000</td>\n",
       "      <td>0.000000</td>\n",
       "      <td>0.450979</td>\n",
       "    </tr>\n",
       "    <tr>\n",
       "      <th>50%</th>\n",
       "      <td>4.000000</td>\n",
       "      <td>2.500000</td>\n",
       "      <td>2670.000000</td>\n",
       "      <td>4835.000000</td>\n",
       "      <td>2.000000</td>\n",
       "      <td>0.000000</td>\n",
       "      <td>0.000000</td>\n",
       "      <td>9.000000</td>\n",
       "      <td>0.000000</td>\n",
       "      <td>0.600987</td>\n",
       "    </tr>\n",
       "    <tr>\n",
       "      <th>75%</th>\n",
       "      <td>4.000000</td>\n",
       "      <td>3.250000</td>\n",
       "      <td>3279.250000</td>\n",
       "      <td>6539.750000</td>\n",
       "      <td>2.000000</td>\n",
       "      <td>0.000000</td>\n",
       "      <td>0.000000</td>\n",
       "      <td>10.000000</td>\n",
       "      <td>207.500000</td>\n",
       "      <td>0.861017</td>\n",
       "    </tr>\n",
       "    <tr>\n",
       "      <th>max</th>\n",
       "      <td>6.000000</td>\n",
       "      <td>5.000000</td>\n",
       "      <td>5790.000000</td>\n",
       "      <td>108865.000000</td>\n",
       "      <td>3.000000</td>\n",
       "      <td>1.000000</td>\n",
       "      <td>4.000000</td>\n",
       "      <td>10.000000</td>\n",
       "      <td>1360.000000</td>\n",
       "      <td>2.089762</td>\n",
       "    </tr>\n",
       "  </tbody>\n",
       "</table>\n",
       "</div>"
      ],
      "text/plain": [
       "         bedrooms   bathrooms  sqft_living       sqft_lot      floors  \\\n",
       "count  442.000000  442.000000   442.000000     442.000000  442.000000   \n",
       "mean     3.737557    2.732466  2631.117647    5524.343891    2.132353   \n",
       "std      0.845901    0.602436   926.377305    6937.332563    0.389800   \n",
       "min      1.000000    1.000000   710.000000     638.000000    1.000000   \n",
       "25%      3.000000    2.500000  1760.000000    2214.500000    2.000000   \n",
       "50%      4.000000    2.500000  2670.000000    4835.000000    2.000000   \n",
       "75%      4.000000    3.250000  3279.250000    6539.750000    2.000000   \n",
       "max      6.000000    5.000000  5790.000000  108865.000000    3.000000   \n",
       "\n",
       "       waterfront        view       grade  sqft_basement  livingAreaRatio  \n",
       "count  442.000000  442.000000  442.000000     442.000000       442.000000  \n",
       "mean     0.004525    0.085973    8.257919     170.183258         0.690264  \n",
       "std      0.067191    0.468347    3.081139     319.225871         0.348565  \n",
       "min      0.000000    0.000000    0.000000       0.000000         0.039498  \n",
       "25%      0.000000    0.000000    9.000000       0.000000         0.450979  \n",
       "50%      0.000000    0.000000    9.000000       0.000000         0.600987  \n",
       "75%      0.000000    0.000000   10.000000     207.500000         0.861017  \n",
       "max      1.000000    4.000000   10.000000    1360.000000         2.089762  "
      ]
     },
     "execution_count": 40,
     "metadata": {},
     "output_type": "execute_result"
    }
   ],
   "source": [
    "X.describe()"
   ]
  },
  {
   "cell_type": "code",
   "execution_count": 41,
   "metadata": {},
   "outputs": [],
   "source": [
    "def standardizer(col):\n",
    "    col_standardized = (col - col.mean())/col.std()\n",
    "    return col_standardized"
   ]
  },
  {
   "cell_type": "markdown",
   "metadata": {},
   "source": [
    "standardized the columns"
   ]
  },
  {
   "cell_type": "code",
   "execution_count": 42,
   "metadata": {},
   "outputs": [],
   "source": [
    "X_standard = X.apply(lambda x : (x-x.mean())/x.std())"
   ]
  },
  {
   "cell_type": "code",
   "execution_count": 43,
   "metadata": {},
   "outputs": [
    {
     "data": {
      "text/html": [
       "<div>\n",
       "<style scoped>\n",
       "    .dataframe tbody tr th:only-of-type {\n",
       "        vertical-align: middle;\n",
       "    }\n",
       "\n",
       "    .dataframe tbody tr th {\n",
       "        vertical-align: top;\n",
       "    }\n",
       "\n",
       "    .dataframe thead th {\n",
       "        text-align: right;\n",
       "    }\n",
       "</style>\n",
       "<table border=\"1\" class=\"dataframe\">\n",
       "  <thead>\n",
       "    <tr style=\"text-align: right;\">\n",
       "      <th></th>\n",
       "      <th>bedrooms</th>\n",
       "      <th>bathrooms</th>\n",
       "      <th>sqft_living</th>\n",
       "      <th>sqft_lot</th>\n",
       "      <th>floors</th>\n",
       "      <th>waterfront</th>\n",
       "      <th>view</th>\n",
       "      <th>grade</th>\n",
       "      <th>sqft_basement</th>\n",
       "      <th>livingAreaRatio</th>\n",
       "    </tr>\n",
       "  </thead>\n",
       "  <tbody>\n",
       "    <tr>\n",
       "      <th>count</th>\n",
       "      <td>4.420000e+02</td>\n",
       "      <td>4.420000e+02</td>\n",
       "      <td>4.420000e+02</td>\n",
       "      <td>4.420000e+02</td>\n",
       "      <td>4.420000e+02</td>\n",
       "      <td>4.420000e+02</td>\n",
       "      <td>4.420000e+02</td>\n",
       "      <td>4.420000e+02</td>\n",
       "      <td>4.420000e+02</td>\n",
       "      <td>4.420000e+02</td>\n",
       "    </tr>\n",
       "    <tr>\n",
       "      <th>mean</th>\n",
       "      <td>-4.018907e-17</td>\n",
       "      <td>-1.054963e-16</td>\n",
       "      <td>1.165483e-16</td>\n",
       "      <td>2.813235e-17</td>\n",
       "      <td>9.645377e-17</td>\n",
       "      <td>1.205672e-17</td>\n",
       "      <td>-1.607563e-17</td>\n",
       "      <td>-3.134747e-16</td>\n",
       "      <td>-8.037814e-18</td>\n",
       "      <td>3.496449e-16</td>\n",
       "    </tr>\n",
       "    <tr>\n",
       "      <th>std</th>\n",
       "      <td>1.000000e+00</td>\n",
       "      <td>1.000000e+00</td>\n",
       "      <td>1.000000e+00</td>\n",
       "      <td>1.000000e+00</td>\n",
       "      <td>1.000000e+00</td>\n",
       "      <td>1.000000e+00</td>\n",
       "      <td>1.000000e+00</td>\n",
       "      <td>1.000000e+00</td>\n",
       "      <td>1.000000e+00</td>\n",
       "      <td>1.000000e+00</td>\n",
       "    </tr>\n",
       "    <tr>\n",
       "      <th>min</th>\n",
       "      <td>-3.236263e+00</td>\n",
       "      <td>-2.875769e+00</td>\n",
       "      <td>-2.073796e+00</td>\n",
       "      <td>-7.043549e-01</td>\n",
       "      <td>-2.904958e+00</td>\n",
       "      <td>-6.734368e-02</td>\n",
       "      <td>-1.835664e-01</td>\n",
       "      <td>-2.680151e+00</td>\n",
       "      <td>-5.331124e-01</td>\n",
       "      <td>-1.866986e+00</td>\n",
       "    </tr>\n",
       "    <tr>\n",
       "      <th>25%</th>\n",
       "      <td>-8.719188e-01</td>\n",
       "      <td>-3.858769e-01</td>\n",
       "      <td>-9.403486e-01</td>\n",
       "      <td>-4.771061e-01</td>\n",
       "      <td>-3.395406e-01</td>\n",
       "      <td>-6.734368e-02</td>\n",
       "      <td>-1.835664e-01</td>\n",
       "      <td>2.408465e-01</td>\n",
       "      <td>-5.331124e-01</td>\n",
       "      <td>-6.864860e-01</td>\n",
       "    </tr>\n",
       "    <tr>\n",
       "      <th>50%</th>\n",
       "      <td>3.102533e-01</td>\n",
       "      <td>-3.858769e-01</td>\n",
       "      <td>4.197248e-02</td>\n",
       "      <td>-9.936728e-02</td>\n",
       "      <td>-3.395406e-01</td>\n",
       "      <td>-6.734368e-02</td>\n",
       "      <td>-1.835664e-01</td>\n",
       "      <td>2.408465e-01</td>\n",
       "      <td>-5.331124e-01</td>\n",
       "      <td>-2.561271e-01</td>\n",
       "    </tr>\n",
       "    <tr>\n",
       "      <th>75%</th>\n",
       "      <td>3.102533e-01</td>\n",
       "      <td>8.590691e-01</td>\n",
       "      <td>6.996419e-01</td>\n",
       "      <td>1.463684e-01</td>\n",
       "      <td>-3.395406e-01</td>\n",
       "      <td>-6.734368e-02</td>\n",
       "      <td>-1.835664e-01</td>\n",
       "      <td>5.654018e-01</td>\n",
       "      <td>1.168976e-01</td>\n",
       "      <td>4.898745e-01</td>\n",
       "    </tr>\n",
       "    <tr>\n",
       "      <th>max</th>\n",
       "      <td>2.674597e+00</td>\n",
       "      <td>3.763943e+00</td>\n",
       "      <td>3.409931e+00</td>\n",
       "      <td>1.489631e+01</td>\n",
       "      <td>2.225877e+00</td>\n",
       "      <td>1.481561e+01</td>\n",
       "      <td>8.357103e+00</td>\n",
       "      <td>5.654018e-01</td>\n",
       "      <td>3.727194e+00</td>\n",
       "      <td>4.015026e+00</td>\n",
       "    </tr>\n",
       "  </tbody>\n",
       "</table>\n",
       "</div>"
      ],
      "text/plain": [
       "           bedrooms     bathrooms   sqft_living      sqft_lot        floors  \\\n",
       "count  4.420000e+02  4.420000e+02  4.420000e+02  4.420000e+02  4.420000e+02   \n",
       "mean  -4.018907e-17 -1.054963e-16  1.165483e-16  2.813235e-17  9.645377e-17   \n",
       "std    1.000000e+00  1.000000e+00  1.000000e+00  1.000000e+00  1.000000e+00   \n",
       "min   -3.236263e+00 -2.875769e+00 -2.073796e+00 -7.043549e-01 -2.904958e+00   \n",
       "25%   -8.719188e-01 -3.858769e-01 -9.403486e-01 -4.771061e-01 -3.395406e-01   \n",
       "50%    3.102533e-01 -3.858769e-01  4.197248e-02 -9.936728e-02 -3.395406e-01   \n",
       "75%    3.102533e-01  8.590691e-01  6.996419e-01  1.463684e-01 -3.395406e-01   \n",
       "max    2.674597e+00  3.763943e+00  3.409931e+00  1.489631e+01  2.225877e+00   \n",
       "\n",
       "         waterfront          view         grade  sqft_basement  \\\n",
       "count  4.420000e+02  4.420000e+02  4.420000e+02   4.420000e+02   \n",
       "mean   1.205672e-17 -1.607563e-17 -3.134747e-16  -8.037814e-18   \n",
       "std    1.000000e+00  1.000000e+00  1.000000e+00   1.000000e+00   \n",
       "min   -6.734368e-02 -1.835664e-01 -2.680151e+00  -5.331124e-01   \n",
       "25%   -6.734368e-02 -1.835664e-01  2.408465e-01  -5.331124e-01   \n",
       "50%   -6.734368e-02 -1.835664e-01  2.408465e-01  -5.331124e-01   \n",
       "75%   -6.734368e-02 -1.835664e-01  5.654018e-01   1.168976e-01   \n",
       "max    1.481561e+01  8.357103e+00  5.654018e-01   3.727194e+00   \n",
       "\n",
       "       livingAreaRatio  \n",
       "count     4.420000e+02  \n",
       "mean      3.496449e-16  \n",
       "std       1.000000e+00  \n",
       "min      -1.866986e+00  \n",
       "25%      -6.864860e-01  \n",
       "50%      -2.561271e-01  \n",
       "75%       4.898745e-01  \n",
       "max       4.015026e+00  "
      ]
     },
     "execution_count": 43,
     "metadata": {},
     "output_type": "execute_result"
    }
   ],
   "source": [
    "X_standard.describe()"
   ]
  },
  {
   "cell_type": "markdown",
   "metadata": {},
   "source": [
    "standardize our target(Y)"
   ]
  },
  {
   "cell_type": "code",
   "execution_count": 44,
   "metadata": {},
   "outputs": [],
   "source": [
    "Y_standard = (Y - Y.mean())/Y.std()"
   ]
  },
  {
   "cell_type": "code",
   "execution_count": 45,
   "metadata": {},
   "outputs": [],
   "source": [
    "X_standard_aug = sm.add_constant(X_standard)"
   ]
  },
  {
   "cell_type": "markdown",
   "metadata": {},
   "source": [
    "Fit the model"
   ]
  },
  {
   "cell_type": "code",
   "execution_count": 46,
   "metadata": {},
   "outputs": [],
   "source": [
    "results_standardized = sm.OLS(Y_standard, X_standard_aug).fit()"
   ]
  },
  {
   "cell_type": "markdown",
   "metadata": {},
   "source": [
    "Now calculate the parameters"
   ]
  },
  {
   "cell_type": "code",
   "execution_count": 47,
   "metadata": {},
   "outputs": [
    {
     "data": {
      "text/plain": [
       "const             -6.158268e-17\n",
       "bedrooms          -1.117733e-01\n",
       "bathrooms          1.260078e-01\n",
       "sqft_living        6.295665e-01\n",
       "sqft_lot           1.041269e-01\n",
       "floors             1.142119e-01\n",
       "waterfront         2.685410e-01\n",
       "view              -8.867333e-02\n",
       "grade             -1.907500e-01\n",
       "sqft_basement      1.100454e-01\n",
       "livingAreaRatio    1.550689e-01\n",
       "dtype: float64"
      ]
     },
     "execution_count": 47,
     "metadata": {},
     "output_type": "execute_result"
    }
   ],
   "source": [
    "weights = results_standardized.params\n",
    "weights"
   ]
  },
  {
   "cell_type": "markdown",
   "metadata": {},
   "source": [
    "Visualizing the weights"
   ]
  },
  {
   "cell_type": "code",
   "execution_count": 48,
   "metadata": {},
   "outputs": [
    {
     "data": {
      "image/png": "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\n",
      "text/plain": [
       "<Figure size 720x360 with 1 Axes>"
      ]
     },
     "metadata": {
      "needs_background": "light"
     },
     "output_type": "display_data"
    }
   ],
   "source": [
    "plt.figure(figsize=(10,5))\n",
    "sns.barplot(y=weights[1::].index, x = weights[1::].values)\n",
    "plt.title(\"Weight for factors correlating with price\")\n",
    "plt.ylabel(\"Weight\")\n",
    "plt.show()"
   ]
  },
  {
   "cell_type": "markdown",
   "metadata": {},
   "source": [
    "Evaluate R square"
   ]
  },
  {
   "cell_type": "code",
   "execution_count": 49,
   "metadata": {},
   "outputs": [
    {
     "data": {
      "text/plain": [
       "0.6500261002413503"
      ]
     },
     "execution_count": 49,
     "metadata": {},
     "output_type": "execute_result"
    }
   ],
   "source": [
    "results_standardized.rsquared"
   ]
  },
  {
   "cell_type": "markdown",
   "metadata": {},
   "source": [
    "take a look at the summary:"
   ]
  },
  {
   "cell_type": "code",
   "execution_count": 50,
   "metadata": {},
   "outputs": [
    {
     "data": {
      "text/html": [
       "<table class=\"simpletable\">\n",
       "<caption>OLS Regression Results</caption>\n",
       "<tr>\n",
       "  <th>Dep. Variable:</th>          <td>price</td>      <th>  R-squared:         </th> <td>   0.650</td>\n",
       "</tr>\n",
       "<tr>\n",
       "  <th>Model:</th>                   <td>OLS</td>       <th>  Adj. R-squared:    </th> <td>   0.642</td>\n",
       "</tr>\n",
       "<tr>\n",
       "  <th>Method:</th>             <td>Least Squares</td>  <th>  F-statistic:       </th> <td>   80.05</td>\n",
       "</tr>\n",
       "<tr>\n",
       "  <th>Date:</th>             <td>Wed, 30 Mar 2022</td> <th>  Prob (F-statistic):</th> <td>9.32e-92</td>\n",
       "</tr>\n",
       "<tr>\n",
       "  <th>Time:</th>                 <td>21:32:58</td>     <th>  Log-Likelihood:    </th> <td> -394.64</td>\n",
       "</tr>\n",
       "<tr>\n",
       "  <th>No. Observations:</th>      <td>   442</td>      <th>  AIC:               </th> <td>   811.3</td>\n",
       "</tr>\n",
       "<tr>\n",
       "  <th>Df Residuals:</th>          <td>   431</td>      <th>  BIC:               </th> <td>   856.3</td>\n",
       "</tr>\n",
       "<tr>\n",
       "  <th>Df Model:</th>              <td>    10</td>      <th>                     </th>     <td> </td>   \n",
       "</tr>\n",
       "<tr>\n",
       "  <th>Covariance Type:</th>      <td>nonrobust</td>    <th>                     </th>     <td> </td>   \n",
       "</tr>\n",
       "</table>\n",
       "<table class=\"simpletable\">\n",
       "<tr>\n",
       "         <td></td>            <th>coef</th>     <th>std err</th>      <th>t</th>      <th>P>|t|</th>  <th>[0.025</th>    <th>0.975]</th>  \n",
       "</tr>\n",
       "<tr>\n",
       "  <th>const</th>           <td>-6.158e-17</td> <td>    0.028</td> <td>-2.16e-15</td> <td> 1.000</td> <td>   -0.056</td> <td>    0.056</td>\n",
       "</tr>\n",
       "<tr>\n",
       "  <th>bedrooms</th>        <td>   -0.1118</td> <td>    0.044</td> <td>   -2.522</td> <td> 0.012</td> <td>   -0.199</td> <td>   -0.025</td>\n",
       "</tr>\n",
       "<tr>\n",
       "  <th>bathrooms</th>       <td>    0.1260</td> <td>    0.044</td> <td>    2.871</td> <td> 0.004</td> <td>    0.040</td> <td>    0.212</td>\n",
       "</tr>\n",
       "<tr>\n",
       "  <th>sqft_living</th>     <td>    0.6296</td> <td>    0.056</td> <td>   11.302</td> <td> 0.000</td> <td>    0.520</td> <td>    0.739</td>\n",
       "</tr>\n",
       "<tr>\n",
       "  <th>sqft_lot</th>        <td>    0.1041</td> <td>    0.035</td> <td>    2.996</td> <td> 0.003</td> <td>    0.036</td> <td>    0.172</td>\n",
       "</tr>\n",
       "<tr>\n",
       "  <th>floors</th>          <td>    0.1142</td> <td>    0.036</td> <td>    3.186</td> <td> 0.002</td> <td>    0.044</td> <td>    0.185</td>\n",
       "</tr>\n",
       "<tr>\n",
       "  <th>waterfront</th>      <td>    0.2685</td> <td>    0.035</td> <td>    7.671</td> <td> 0.000</td> <td>    0.200</td> <td>    0.337</td>\n",
       "</tr>\n",
       "<tr>\n",
       "  <th>view</th>            <td>   -0.0887</td> <td>    0.038</td> <td>   -2.345</td> <td> 0.019</td> <td>   -0.163</td> <td>   -0.014</td>\n",
       "</tr>\n",
       "<tr>\n",
       "  <th>grade</th>           <td>   -0.1908</td> <td>    0.032</td> <td>   -6.029</td> <td> 0.000</td> <td>   -0.253</td> <td>   -0.129</td>\n",
       "</tr>\n",
       "<tr>\n",
       "  <th>sqft_basement</th>   <td>    0.1100</td> <td>    0.035</td> <td>    3.111</td> <td> 0.002</td> <td>    0.041</td> <td>    0.180</td>\n",
       "</tr>\n",
       "<tr>\n",
       "  <th>livingAreaRatio</th> <td>    0.1551</td> <td>    0.046</td> <td>    3.392</td> <td> 0.001</td> <td>    0.065</td> <td>    0.245</td>\n",
       "</tr>\n",
       "</table>\n",
       "<table class=\"simpletable\">\n",
       "<tr>\n",
       "  <th>Omnibus:</th>       <td>171.316</td> <th>  Durbin-Watson:     </th> <td>   1.963</td>\n",
       "</tr>\n",
       "<tr>\n",
       "  <th>Prob(Omnibus):</th> <td> 0.000</td>  <th>  Jarque-Bera (JB):  </th> <td>1995.456</td>\n",
       "</tr>\n",
       "<tr>\n",
       "  <th>Skew:</th>          <td> 1.319</td>  <th>  Prob(JB):          </th> <td>    0.00</td>\n",
       "</tr>\n",
       "<tr>\n",
       "  <th>Kurtosis:</th>      <td>13.069</td>  <th>  Cond. No.          </th> <td>    4.29</td>\n",
       "</tr>\n",
       "</table><br/><br/>Notes:<br/>[1] Standard Errors assume that the covariance matrix of the errors is correctly specified."
      ],
      "text/plain": [
       "<class 'statsmodels.iolib.summary.Summary'>\n",
       "\"\"\"\n",
       "                            OLS Regression Results                            \n",
       "==============================================================================\n",
       "Dep. Variable:                  price   R-squared:                       0.650\n",
       "Model:                            OLS   Adj. R-squared:                  0.642\n",
       "Method:                 Least Squares   F-statistic:                     80.05\n",
       "Date:                Wed, 30 Mar 2022   Prob (F-statistic):           9.32e-92\n",
       "Time:                        21:32:58   Log-Likelihood:                -394.64\n",
       "No. Observations:                 442   AIC:                             811.3\n",
       "Df Residuals:                     431   BIC:                             856.3\n",
       "Df Model:                          10                                         \n",
       "Covariance Type:            nonrobust                                         \n",
       "===================================================================================\n",
       "                      coef    std err          t      P>|t|      [0.025      0.975]\n",
       "-----------------------------------------------------------------------------------\n",
       "const           -6.158e-17      0.028  -2.16e-15      1.000      -0.056       0.056\n",
       "bedrooms           -0.1118      0.044     -2.522      0.012      -0.199      -0.025\n",
       "bathrooms           0.1260      0.044      2.871      0.004       0.040       0.212\n",
       "sqft_living         0.6296      0.056     11.302      0.000       0.520       0.739\n",
       "sqft_lot            0.1041      0.035      2.996      0.003       0.036       0.172\n",
       "floors              0.1142      0.036      3.186      0.002       0.044       0.185\n",
       "waterfront          0.2685      0.035      7.671      0.000       0.200       0.337\n",
       "view               -0.0887      0.038     -2.345      0.019      -0.163      -0.014\n",
       "grade              -0.1908      0.032     -6.029      0.000      -0.253      -0.129\n",
       "sqft_basement       0.1100      0.035      3.111      0.002       0.041       0.180\n",
       "livingAreaRatio     0.1551      0.046      3.392      0.001       0.065       0.245\n",
       "==============================================================================\n",
       "Omnibus:                      171.316   Durbin-Watson:                   1.963\n",
       "Prob(Omnibus):                  0.000   Jarque-Bera (JB):             1995.456\n",
       "Skew:                           1.319   Prob(JB):                         0.00\n",
       "Kurtosis:                      13.069   Cond. No.                         4.29\n",
       "==============================================================================\n",
       "\n",
       "Notes:\n",
       "[1] Standard Errors assume that the covariance matrix of the errors is correctly specified.\n",
       "\"\"\""
      ]
     },
     "execution_count": 50,
     "metadata": {},
     "output_type": "execute_result"
    }
   ],
   "source": [
    "results_standardized.summary()"
   ]
  },
  {
   "cell_type": "markdown",
   "metadata": {},
   "source": [
    "Define the linear regression model"
   ]
  },
  {
   "cell_type": "code",
   "execution_count": 51,
   "metadata": {},
   "outputs": [
    {
     "data": {
      "text/plain": [
       "LinearRegression()"
      ]
     },
     "execution_count": 51,
     "metadata": {},
     "output_type": "execute_result"
    }
   ],
   "source": [
    "lr = LinearRegression()\n",
    "lr"
   ]
  },
  {
   "cell_type": "markdown",
   "metadata": {},
   "source": [
    "Traing and Testing"
   ]
  },
  {
   "cell_type": "code",
   "execution_count": 52,
   "metadata": {},
   "outputs": [],
   "source": [
    "X_train, X_test, Y_train, Y_test = train_test_split(X,Y,test_size=0.3)\n"
   ]
  },
  {
   "cell_type": "code",
   "execution_count": 53,
   "metadata": {},
   "outputs": [
    {
     "name": "stdout",
     "output_type": "stream",
     "text": [
      "309 309\n"
     ]
    }
   ],
   "source": [
    "print(len(X_train), len(Y_train))"
   ]
  },
  {
   "cell_type": "markdown",
   "metadata": {},
   "source": [
    "Creating our prediction machine"
   ]
  },
  {
   "cell_type": "code",
   "execution_count": 54,
   "metadata": {},
   "outputs": [
    {
     "data": {
      "text/plain": [
       "LinearRegression()"
      ]
     },
     "execution_count": 54,
     "metadata": {},
     "output_type": "execute_result"
    }
   ],
   "source": [
    "lr.fit(X_train,Y_train)"
   ]
  },
  {
   "cell_type": "markdown",
   "metadata": {},
   "source": [
    "Get the \"learned\" weights:"
   ]
  },
  {
   "cell_type": "code",
   "execution_count": 55,
   "metadata": {},
   "outputs": [
    {
     "data": {
      "text/plain": [
       "array([-4.92498724e+04,  1.14080437e+05,  2.64547657e+02,  1.09861009e+01,\n",
       "        8.56850702e+04,  1.02187512e+06, -2.36216240e+04, -2.38695319e+04,\n",
       "        3.94221253e+01,  3.26957399e+05])"
      ]
     },
     "execution_count": 55,
     "metadata": {},
     "output_type": "execute_result"
    }
   ],
   "source": [
    "lr.coef_"
   ]
  },
  {
   "cell_type": "code",
   "execution_count": 56,
   "metadata": {},
   "outputs": [
    {
     "data": {
      "text/plain": [
       "-407882.3328092153"
      ]
     },
     "execution_count": 56,
     "metadata": {},
     "output_type": "execute_result"
    }
   ],
   "source": [
    "lr.intercept_"
   ]
  },
  {
   "cell_type": "code",
   "execution_count": 57,
   "metadata": {},
   "outputs": [
    {
     "data": {
      "text/plain": [
       "Index(['bedrooms', 'bathrooms', 'sqft_living', 'sqft_lot', 'floors',\n",
       "       'waterfront', 'view', 'grade', 'sqft_basement', 'livingAreaRatio'],\n",
       "      dtype='object')"
      ]
     },
     "execution_count": 57,
     "metadata": {},
     "output_type": "execute_result"
    }
   ],
   "source": [
    "X.columns"
   ]
  },
  {
   "cell_type": "markdown",
   "metadata": {},
   "source": [
    "get r square on fit."
   ]
  },
  {
   "cell_type": "code",
   "execution_count": 58,
   "metadata": {},
   "outputs": [
    {
     "data": {
      "text/plain": [
       "0.6423260728867994"
      ]
     },
     "execution_count": 58,
     "metadata": {},
     "output_type": "execute_result"
    }
   ],
   "source": [
    "lr.score(X_train,Y_train)"
   ]
  },
  {
   "cell_type": "markdown",
   "metadata": {},
   "source": [
    "Evaluating our model on the test data"
   ]
  },
  {
   "cell_type": "code",
   "execution_count": 59,
   "metadata": {},
   "outputs": [
    {
     "data": {
      "text/plain": [
       "array([ 416886.43616589,  592891.66424232,  635721.13345291,\n",
       "        624666.38851301,  795433.10919949,  629238.21908163,\n",
       "       1058056.09993285, 2288371.42536783,  825696.32437881,\n",
       "        543942.35748923])"
      ]
     },
     "execution_count": 59,
     "metadata": {},
     "output_type": "execute_result"
    }
   ],
   "source": [
    "Y_pred = lr.predict(X_test)\n",
    "Y_pred[0:10]"
   ]
  },
  {
   "cell_type": "markdown",
   "metadata": {},
   "source": [
    "Evaluate model prediction on test set:"
   ]
  },
  {
   "cell_type": "code",
   "execution_count": 60,
   "metadata": {},
   "outputs": [
    {
     "data": {
      "text/plain": [
       "177756.03546299567"
      ]
     },
     "execution_count": 60,
     "metadata": {},
     "output_type": "execute_result"
    }
   ],
   "source": [
    "MAE = mean_absolute_error(Y_pred, Y_test)\n",
    "MAE"
   ]
  },
  {
   "cell_type": "markdown",
   "metadata": {},
   "source": [
    "MAE is 163736.67062067962"
   ]
  },
  {
   "cell_type": "code",
   "execution_count": 61,
   "metadata": {},
   "outputs": [
    {
     "data": {
      "text/plain": [
       "244273.6563080049"
      ]
     },
     "execution_count": 61,
     "metadata": {},
     "output_type": "execute_result"
    }
   ],
   "source": [
    "RMSE = np.sqrt(mean_squared_error(Y_pred,Y_test))\n",
    "RMSE"
   ]
  },
  {
   "cell_type": "markdown",
   "metadata": {},
   "source": [
    "RMSE is 207995.66343861358"
   ]
  },
  {
   "cell_type": "code",
   "execution_count": 62,
   "metadata": {},
   "outputs": [],
   "source": [
    "%%capture price_test\n",
    "fig, ax = plt.subplots()\n",
    "Y_test.hist(bins='auto', ax=ax)\n",
    "ax.set_xlabel(\"price\")\n",
    "ax.set_ylabel(\"Counts\")\n",
    "ax.set_title('price expectancy: test distribution')\n",
    "plt.show()"
   ]
  },
  {
   "cell_type": "code",
   "execution_count": 63,
   "metadata": {},
   "outputs": [
    {
     "data": {
      "image/png": "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\n",
      "text/plain": [
       "<Figure size 432x288 with 1 Axes>"
      ]
     },
     "metadata": {
      "needs_background": "light"
     },
     "output_type": "display_data"
    }
   ],
   "source": [
    "price_test()"
   ]
  },
  {
   "cell_type": "markdown",
   "metadata": {},
   "source": [
    "Seeing a few individual examples."
   ]
  },
  {
   "cell_type": "code",
   "execution_count": 64,
   "metadata": {},
   "outputs": [
    {
     "data": {
      "text/plain": [
       "bedrooms              3.00000\n",
       "bathrooms             2.50000\n",
       "sqft_living        2010.00000\n",
       "sqft_lot           2212.00000\n",
       "floors                2.00000\n",
       "waterfront            0.00000\n",
       "view                  0.00000\n",
       "grade                 9.00000\n",
       "sqft_basement         0.00000\n",
       "livingAreaRatio       0.90868\n",
       "Name: 10590, dtype: float64"
      ]
     },
     "execution_count": 64,
     "metadata": {},
     "output_type": "execute_result"
    }
   ],
   "source": [
    "examp_idx = 10\n",
    "single_examp = X_test.iloc[examp_idx].values\n",
    "X_test.iloc[examp_idx]"
   ]
  },
  {
   "cell_type": "code",
   "execution_count": 65,
   "metadata": {},
   "outputs": [
    {
     "data": {
      "text/plain": [
       "array([539255.16672245])"
      ]
     },
     "execution_count": 65,
     "metadata": {},
     "output_type": "execute_result"
    }
   ],
   "source": [
    "lr.predict(single_examp.reshape(1,-1))"
   ]
  },
  {
   "cell_type": "code",
   "execution_count": 66,
   "metadata": {},
   "outputs": [
    {
     "data": {
      "text/plain": [
       "472217.0"
      ]
     },
     "execution_count": 66,
     "metadata": {},
     "output_type": "execute_result"
    }
   ],
   "source": [
    "Y_test.iloc[examp_idx]"
   ]
  },
  {
   "cell_type": "markdown",
   "metadata": {},
   "source": [
    "try it to a house over 110 year and pricePerSqft more than 300"
   ]
  },
  {
   "cell_type": "code",
   "execution_count": 67,
   "metadata": {},
   "outputs": [
    {
     "data": {
      "text/html": [
       "<div>\n",
       "<style scoped>\n",
       "    .dataframe tbody tr th:only-of-type {\n",
       "        vertical-align: middle;\n",
       "    }\n",
       "\n",
       "    .dataframe tbody tr th {\n",
       "        vertical-align: top;\n",
       "    }\n",
       "\n",
       "    .dataframe thead th {\n",
       "        text-align: right;\n",
       "    }\n",
       "</style>\n",
       "<table border=\"1\" class=\"dataframe\">\n",
       "  <thead>\n",
       "    <tr style=\"text-align: right;\">\n",
       "      <th></th>\n",
       "      <th>id</th>\n",
       "      <th>date</th>\n",
       "      <th>price</th>\n",
       "      <th>bedrooms</th>\n",
       "      <th>bathrooms</th>\n",
       "      <th>sqft_living</th>\n",
       "      <th>sqft_lot</th>\n",
       "      <th>floors</th>\n",
       "      <th>waterfront</th>\n",
       "      <th>view</th>\n",
       "      <th>...</th>\n",
       "      <th>yr_built</th>\n",
       "      <th>yr_renovated</th>\n",
       "      <th>zipcode</th>\n",
       "      <th>sqft_living15</th>\n",
       "      <th>sqft_lot15</th>\n",
       "      <th>propertyTaxPerYear</th>\n",
       "      <th>livingAreaRatio</th>\n",
       "      <th>year_sold</th>\n",
       "      <th>houseAge</th>\n",
       "      <th>pricePerSqft</th>\n",
       "    </tr>\n",
       "  </thead>\n",
       "  <tbody>\n",
       "    <tr>\n",
       "      <th>2708</th>\n",
       "      <td>5016002180</td>\n",
       "      <td>2014-07-08</td>\n",
       "      <td>780000.0</td>\n",
       "      <td>2</td>\n",
       "      <td>2.50</td>\n",
       "      <td>2560</td>\n",
       "      <td>2500</td>\n",
       "      <td>2.0</td>\n",
       "      <td>0</td>\n",
       "      <td>0</td>\n",
       "      <td>...</td>\n",
       "      <td>1901</td>\n",
       "      <td>0.0</td>\n",
       "      <td>98112</td>\n",
       "      <td>1890</td>\n",
       "      <td>5000</td>\n",
       "      <td>7878.0</td>\n",
       "      <td>1.024000</td>\n",
       "      <td>2014</td>\n",
       "      <td>113</td>\n",
       "      <td>312.000000</td>\n",
       "    </tr>\n",
       "    <tr>\n",
       "      <th>3297</th>\n",
       "      <td>1337800855</td>\n",
       "      <td>2015-05-12</td>\n",
       "      <td>885000.0</td>\n",
       "      <td>3</td>\n",
       "      <td>1.50</td>\n",
       "      <td>2200</td>\n",
       "      <td>2880</td>\n",
       "      <td>2.0</td>\n",
       "      <td>0</td>\n",
       "      <td>0</td>\n",
       "      <td>...</td>\n",
       "      <td>1904</td>\n",
       "      <td>0.0</td>\n",
       "      <td>98112</td>\n",
       "      <td>2440</td>\n",
       "      <td>4640</td>\n",
       "      <td>8938.5</td>\n",
       "      <td>0.763889</td>\n",
       "      <td>2015</td>\n",
       "      <td>111</td>\n",
       "      <td>307.291667</td>\n",
       "    </tr>\n",
       "    <tr>\n",
       "      <th>3865</th>\n",
       "      <td>1732800820</td>\n",
       "      <td>2014-06-19</td>\n",
       "      <td>1330000.0</td>\n",
       "      <td>4</td>\n",
       "      <td>2.50</td>\n",
       "      <td>2440</td>\n",
       "      <td>3600</td>\n",
       "      <td>2.5</td>\n",
       "      <td>0</td>\n",
       "      <td>0</td>\n",
       "      <td>...</td>\n",
       "      <td>1902</td>\n",
       "      <td>0.0</td>\n",
       "      <td>98119</td>\n",
       "      <td>2440</td>\n",
       "      <td>5440</td>\n",
       "      <td>13433.0</td>\n",
       "      <td>0.677778</td>\n",
       "      <td>2014</td>\n",
       "      <td>112</td>\n",
       "      <td>369.444444</td>\n",
       "    </tr>\n",
       "    <tr>\n",
       "      <th>15283</th>\n",
       "      <td>6169900545</td>\n",
       "      <td>2014-06-25</td>\n",
       "      <td>1330000.0</td>\n",
       "      <td>3</td>\n",
       "      <td>1.50</td>\n",
       "      <td>1940</td>\n",
       "      <td>2885</td>\n",
       "      <td>1.5</td>\n",
       "      <td>0</td>\n",
       "      <td>2</td>\n",
       "      <td>...</td>\n",
       "      <td>1900</td>\n",
       "      <td>0.0</td>\n",
       "      <td>98119</td>\n",
       "      <td>2550</td>\n",
       "      <td>3600</td>\n",
       "      <td>13433.0</td>\n",
       "      <td>0.672444</td>\n",
       "      <td>2014</td>\n",
       "      <td>114</td>\n",
       "      <td>461.005199</td>\n",
       "    </tr>\n",
       "    <tr>\n",
       "      <th>15729</th>\n",
       "      <td>9828702895</td>\n",
       "      <td>2014-10-22</td>\n",
       "      <td>700000.0</td>\n",
       "      <td>4</td>\n",
       "      <td>1.75</td>\n",
       "      <td>2420</td>\n",
       "      <td>520</td>\n",
       "      <td>1.5</td>\n",
       "      <td>0</td>\n",
       "      <td>0</td>\n",
       "      <td>...</td>\n",
       "      <td>1900</td>\n",
       "      <td>0.0</td>\n",
       "      <td>98112</td>\n",
       "      <td>1200</td>\n",
       "      <td>1170</td>\n",
       "      <td>7070.0</td>\n",
       "      <td>4.653846</td>\n",
       "      <td>2014</td>\n",
       "      <td>114</td>\n",
       "      <td>1346.153846</td>\n",
       "    </tr>\n",
       "    <tr>\n",
       "      <th>17981</th>\n",
       "      <td>1346300035</td>\n",
       "      <td>2014-06-26</td>\n",
       "      <td>1990000.0</td>\n",
       "      <td>5</td>\n",
       "      <td>3.00</td>\n",
       "      <td>4480</td>\n",
       "      <td>5000</td>\n",
       "      <td>2.5</td>\n",
       "      <td>0</td>\n",
       "      <td>0</td>\n",
       "      <td>...</td>\n",
       "      <td>1902</td>\n",
       "      <td>0.0</td>\n",
       "      <td>98112</td>\n",
       "      <td>3220</td>\n",
       "      <td>5600</td>\n",
       "      <td>20099.0</td>\n",
       "      <td>0.896000</td>\n",
       "      <td>2014</td>\n",
       "      <td>112</td>\n",
       "      <td>398.000000</td>\n",
       "    </tr>\n",
       "    <tr>\n",
       "      <th>18061</th>\n",
       "      <td>5457800930</td>\n",
       "      <td>2014-06-13</td>\n",
       "      <td>1700000.0</td>\n",
       "      <td>2</td>\n",
       "      <td>2.25</td>\n",
       "      <td>3170</td>\n",
       "      <td>3000</td>\n",
       "      <td>2.0</td>\n",
       "      <td>0</td>\n",
       "      <td>2</td>\n",
       "      <td>...</td>\n",
       "      <td>1900</td>\n",
       "      <td>0.0</td>\n",
       "      <td>98109</td>\n",
       "      <td>2980</td>\n",
       "      <td>5061</td>\n",
       "      <td>17170.0</td>\n",
       "      <td>1.056667</td>\n",
       "      <td>2014</td>\n",
       "      <td>114</td>\n",
       "      <td>566.666667</td>\n",
       "    </tr>\n",
       "  </tbody>\n",
       "</table>\n",
       "<p>7 rows × 24 columns</p>\n",
       "</div>"
      ],
      "text/plain": [
       "               id       date      price  bedrooms  bathrooms  sqft_living  \\\n",
       "2708   5016002180 2014-07-08   780000.0         2       2.50         2560   \n",
       "3297   1337800855 2015-05-12   885000.0         3       1.50         2200   \n",
       "3865   1732800820 2014-06-19  1330000.0         4       2.50         2440   \n",
       "15283  6169900545 2014-06-25  1330000.0         3       1.50         1940   \n",
       "15729  9828702895 2014-10-22   700000.0         4       1.75         2420   \n",
       "17981  1346300035 2014-06-26  1990000.0         5       3.00         4480   \n",
       "18061  5457800930 2014-06-13  1700000.0         2       2.25         3170   \n",
       "\n",
       "       sqft_lot  floors  waterfront  view  ...  yr_built  yr_renovated  \\\n",
       "2708       2500     2.0           0     0  ...      1901           0.0   \n",
       "3297       2880     2.0           0     0  ...      1904           0.0   \n",
       "3865       3600     2.5           0     0  ...      1902           0.0   \n",
       "15283      2885     1.5           0     2  ...      1900           0.0   \n",
       "15729       520     1.5           0     0  ...      1900           0.0   \n",
       "17981      5000     2.5           0     0  ...      1902           0.0   \n",
       "18061      3000     2.0           0     2  ...      1900           0.0   \n",
       "\n",
       "       zipcode  sqft_living15  sqft_lot15  propertyTaxPerYear  \\\n",
       "2708     98112           1890        5000              7878.0   \n",
       "3297     98112           2440        4640              8938.5   \n",
       "3865     98119           2440        5440             13433.0   \n",
       "15283    98119           2550        3600             13433.0   \n",
       "15729    98112           1200        1170              7070.0   \n",
       "17981    98112           3220        5600             20099.0   \n",
       "18061    98109           2980        5061             17170.0   \n",
       "\n",
       "       livingAreaRatio  year_sold  houseAge  pricePerSqft  \n",
       "2708          1.024000       2014       113    312.000000  \n",
       "3297          0.763889       2015       111    307.291667  \n",
       "3865          0.677778       2014       112    369.444444  \n",
       "15283         0.672444       2014       114    461.005199  \n",
       "15729         4.653846       2014       114   1346.153846  \n",
       "17981         0.896000       2014       112    398.000000  \n",
       "18061         1.056667       2014       114    566.666667  \n",
       "\n",
       "[7 rows x 24 columns]"
      ]
     },
     "execution_count": 67,
     "metadata": {},
     "output_type": "execute_result"
    }
   ],
   "source": [
    "data[(data['houseAge']>110) & (data['pricePerSqft']>300)]"
   ]
  },
  {
   "cell_type": "code",
   "execution_count": 68,
   "metadata": {},
   "outputs": [
    {
     "data": {
      "text/html": [
       "<div>\n",
       "<style scoped>\n",
       "    .dataframe tbody tr th:only-of-type {\n",
       "        vertical-align: middle;\n",
       "    }\n",
       "\n",
       "    .dataframe tbody tr th {\n",
       "        vertical-align: top;\n",
       "    }\n",
       "\n",
       "    .dataframe thead th {\n",
       "        text-align: right;\n",
       "    }\n",
       "</style>\n",
       "<table border=\"1\" class=\"dataframe\">\n",
       "  <thead>\n",
       "    <tr style=\"text-align: right;\">\n",
       "      <th></th>\n",
       "      <th>price</th>\n",
       "      <th>bedrooms</th>\n",
       "      <th>bathrooms</th>\n",
       "      <th>sqft_living</th>\n",
       "      <th>sqft_lot</th>\n",
       "      <th>floors</th>\n",
       "      <th>waterfront</th>\n",
       "      <th>view</th>\n",
       "      <th>grade</th>\n",
       "      <th>sqft_basement</th>\n",
       "      <th>livingAreaRatio</th>\n",
       "    </tr>\n",
       "  </thead>\n",
       "  <tbody>\n",
       "    <tr>\n",
       "      <th>2708</th>\n",
       "      <td>780000.0</td>\n",
       "      <td>2</td>\n",
       "      <td>2.5</td>\n",
       "      <td>2560</td>\n",
       "      <td>2500</td>\n",
       "      <td>2.0</td>\n",
       "      <td>0</td>\n",
       "      <td>0</td>\n",
       "      <td>9</td>\n",
       "      <td>870.0</td>\n",
       "      <td>1.024</td>\n",
       "    </tr>\n",
       "  </tbody>\n",
       "</table>\n",
       "</div>"
      ],
      "text/plain": [
       "         price  bedrooms  bathrooms  sqft_living  sqft_lot  floors  \\\n",
       "2708  780000.0         2        2.5         2560      2500     2.0   \n",
       "\n",
       "      waterfront  view  grade  sqft_basement  livingAreaRatio  \n",
       "2708           0     0      9          870.0            1.024  "
      ]
     },
     "execution_count": 68,
     "metadata": {},
     "output_type": "execute_result"
    }
   ],
   "source": [
    "select_house = data[data['id'] == 5016002180]\n",
    "select_house[['price', 'bedrooms', 'bathrooms', 'sqft_living', 'sqft_lot', 'floors', 'waterfront', 'view','grade', 'sqft_basement', 'livingAreaRatio']]"
   ]
  },
  {
   "cell_type": "code",
   "execution_count": 69,
   "metadata": {},
   "outputs": [],
   "source": [
<<<<<<< HEAD
    "target_house_dict = {'bedrooms':2, 'bathrooms':2.5, 'sqft_living':2560, 'sqft_lot':2500, 'floors':2, 'waterfront':0, 'view':0, 'grade':9, 'sqft_basement':870.0, 'livingAreaRatio':1.024}\n",
    "X_target_house = pd.Series(target_house_dict)"
   ]
  },
  {
   "cell_type": "markdown",
   "metadata": {},
   "source": [
    "convert to numpy array"
=======
    "# Import libraries and data"
   ]
  },
  {
   "cell_type": "code",
   "execution_count": 50,
   "metadata": {},
   "outputs": [],
   "source": [
    "import pandas as pd\n",
    "import numpy as np\n",
    "import seaborn as sns\n",
    "import statsmodels.api as sm\n",
    "import matplotlib.pyplot as plt\n"
   ]
  },
  {
   "cell_type": "code",
   "execution_count": 86,
   "metadata": {},
   "outputs": [],
   "source": [
    "df = pd.read_csv(\"data/kc_house_data.csv\")"
>>>>>>> 1edd18eab448421b9c0914a4d023bc98d3165336
   ]
  },
  {
   "cell_type": "code",
<<<<<<< HEAD
   "execution_count": 70,
=======
   "execution_count": 178,
>>>>>>> 1edd18eab448421b9c0914a4d023bc98d3165336
   "metadata": {},
   "outputs": [
    {
     "data": {
<<<<<<< HEAD
      "text/plain": [
       "array([2.000e+00, 2.500e+00, 2.560e+03, 2.500e+03, 2.000e+00, 0.000e+00,\n",
       "       0.000e+00, 9.000e+00, 8.700e+02, 1.024e+00])"
      ]
     },
     "execution_count": 70,
=======
      "text/html": [
       "<div>\n",
       "<style scoped>\n",
       "    .dataframe tbody tr th:only-of-type {\n",
       "        vertical-align: middle;\n",
       "    }\n",
       "\n",
       "    .dataframe tbody tr th {\n",
       "        vertical-align: top;\n",
       "    }\n",
       "\n",
       "    .dataframe thead th {\n",
       "        text-align: right;\n",
       "    }\n",
       "</style>\n",
       "<table border=\"1\" class=\"dataframe\">\n",
       "  <thead>\n",
       "    <tr style=\"text-align: right;\">\n",
       "      <th></th>\n",
       "      <th>id</th>\n",
       "      <th>date</th>\n",
       "      <th>price</th>\n",
       "      <th>bedrooms</th>\n",
       "      <th>bathrooms</th>\n",
       "      <th>sqft_living</th>\n",
       "      <th>sqft_lot</th>\n",
       "      <th>floors</th>\n",
       "      <th>waterfront</th>\n",
       "      <th>view</th>\n",
       "      <th>...</th>\n",
       "      <th>grade</th>\n",
       "      <th>sqft_above</th>\n",
       "      <th>sqft_basement</th>\n",
       "      <th>yr_built</th>\n",
       "      <th>yr_renovated</th>\n",
       "      <th>zipcode</th>\n",
       "      <th>lat</th>\n",
       "      <th>long</th>\n",
       "      <th>sqft_living15</th>\n",
       "      <th>sqft_lot15</th>\n",
       "    </tr>\n",
       "  </thead>\n",
       "  <tbody>\n",
       "    <tr>\n",
       "      <th>1</th>\n",
       "      <td>6414100192</td>\n",
       "      <td>12/9/2014</td>\n",
       "      <td>538000.0</td>\n",
       "      <td>3</td>\n",
       "      <td>2.25</td>\n",
       "      <td>2570</td>\n",
       "      <td>7242</td>\n",
       "      <td>2.0</td>\n",
       "      <td>0</td>\n",
       "      <td>0</td>\n",
       "      <td>...</td>\n",
       "      <td>8</td>\n",
       "      <td>2170</td>\n",
       "      <td>400.0</td>\n",
       "      <td>1951</td>\n",
       "      <td>1991.0</td>\n",
       "      <td>98125</td>\n",
       "      <td>47.7210</td>\n",
       "      <td>-122.319</td>\n",
       "      <td>1690</td>\n",
       "      <td>7639</td>\n",
       "    </tr>\n",
       "    <tr>\n",
       "      <th>3</th>\n",
       "      <td>2487200875</td>\n",
       "      <td>12/9/2014</td>\n",
       "      <td>604000.0</td>\n",
       "      <td>4</td>\n",
       "      <td>3.00</td>\n",
       "      <td>1960</td>\n",
       "      <td>5000</td>\n",
       "      <td>1.0</td>\n",
       "      <td>0</td>\n",
       "      <td>0</td>\n",
       "      <td>...</td>\n",
       "      <td>8</td>\n",
       "      <td>1050</td>\n",
       "      <td>910.0</td>\n",
       "      <td>1965</td>\n",
       "      <td>0.0</td>\n",
       "      <td>98136</td>\n",
       "      <td>47.5208</td>\n",
       "      <td>-122.393</td>\n",
       "      <td>1360</td>\n",
       "      <td>5000</td>\n",
       "    </tr>\n",
       "    <tr>\n",
       "      <th>4</th>\n",
       "      <td>1954400510</td>\n",
       "      <td>2/18/2015</td>\n",
       "      <td>510000.0</td>\n",
       "      <td>3</td>\n",
       "      <td>2.00</td>\n",
       "      <td>1680</td>\n",
       "      <td>8080</td>\n",
       "      <td>1.0</td>\n",
       "      <td>0</td>\n",
       "      <td>0</td>\n",
       "      <td>...</td>\n",
       "      <td>9</td>\n",
       "      <td>1680</td>\n",
       "      <td>0.0</td>\n",
       "      <td>1987</td>\n",
       "      <td>0.0</td>\n",
       "      <td>98074</td>\n",
       "      <td>47.6168</td>\n",
       "      <td>-122.045</td>\n",
       "      <td>1800</td>\n",
       "      <td>7503</td>\n",
       "    </tr>\n",
       "    <tr>\n",
       "      <th>5</th>\n",
       "      <td>7237550310</td>\n",
       "      <td>5/12/2014</td>\n",
       "      <td>1230000.0</td>\n",
       "      <td>4</td>\n",
       "      <td>4.50</td>\n",
       "      <td>5420</td>\n",
       "      <td>101930</td>\n",
       "      <td>1.0</td>\n",
       "      <td>0</td>\n",
       "      <td>0</td>\n",
       "      <td>...</td>\n",
       "      <td>1</td>\n",
       "      <td>3890</td>\n",
       "      <td>1530.0</td>\n",
       "      <td>2001</td>\n",
       "      <td>0.0</td>\n",
       "      <td>98053</td>\n",
       "      <td>47.6561</td>\n",
       "      <td>-122.005</td>\n",
       "      <td>4760</td>\n",
       "      <td>101930</td>\n",
       "    </tr>\n",
       "    <tr>\n",
       "      <th>6</th>\n",
       "      <td>1321400060</td>\n",
       "      <td>6/27/2014</td>\n",
       "      <td>257500.0</td>\n",
       "      <td>3</td>\n",
       "      <td>2.25</td>\n",
       "      <td>1715</td>\n",
       "      <td>6819</td>\n",
       "      <td>2.0</td>\n",
       "      <td>0</td>\n",
       "      <td>0</td>\n",
       "      <td>...</td>\n",
       "      <td>8</td>\n",
       "      <td>1715</td>\n",
       "      <td>?</td>\n",
       "      <td>1995</td>\n",
       "      <td>0.0</td>\n",
       "      <td>98003</td>\n",
       "      <td>47.3097</td>\n",
       "      <td>-122.327</td>\n",
       "      <td>2238</td>\n",
       "      <td>6819</td>\n",
       "    </tr>\n",
       "    <tr>\n",
       "      <th>...</th>\n",
       "      <td>...</td>\n",
       "      <td>...</td>\n",
       "      <td>...</td>\n",
       "      <td>...</td>\n",
       "      <td>...</td>\n",
       "      <td>...</td>\n",
       "      <td>...</td>\n",
       "      <td>...</td>\n",
       "      <td>...</td>\n",
       "      <td>...</td>\n",
       "      <td>...</td>\n",
       "      <td>...</td>\n",
       "      <td>...</td>\n",
       "      <td>...</td>\n",
       "      <td>...</td>\n",
       "      <td>...</td>\n",
       "      <td>...</td>\n",
       "      <td>...</td>\n",
       "      <td>...</td>\n",
       "      <td>...</td>\n",
       "      <td>...</td>\n",
       "    </tr>\n",
       "    <tr>\n",
       "      <th>21591</th>\n",
       "      <td>2997800021</td>\n",
       "      <td>2/19/2015</td>\n",
       "      <td>475000.0</td>\n",
       "      <td>3</td>\n",
       "      <td>2.50</td>\n",
       "      <td>1310</td>\n",
       "      <td>1294</td>\n",
       "      <td>2.0</td>\n",
       "      <td>0</td>\n",
       "      <td>0</td>\n",
       "      <td>...</td>\n",
       "      <td>9</td>\n",
       "      <td>1180</td>\n",
       "      <td>130.0</td>\n",
       "      <td>2008</td>\n",
       "      <td>0.0</td>\n",
       "      <td>98116</td>\n",
       "      <td>47.5773</td>\n",
       "      <td>-122.409</td>\n",
       "      <td>1330</td>\n",
       "      <td>1265</td>\n",
       "    </tr>\n",
       "    <tr>\n",
       "      <th>21592</th>\n",
       "      <td>263000018</td>\n",
       "      <td>5/21/2014</td>\n",
       "      <td>360000.0</td>\n",
       "      <td>3</td>\n",
       "      <td>2.50</td>\n",
       "      <td>1530</td>\n",
       "      <td>1131</td>\n",
       "      <td>3.0</td>\n",
       "      <td>0</td>\n",
       "      <td>0</td>\n",
       "      <td>...</td>\n",
       "      <td>9</td>\n",
       "      <td>1530</td>\n",
       "      <td>0.0</td>\n",
       "      <td>2009</td>\n",
       "      <td>0.0</td>\n",
       "      <td>98103</td>\n",
       "      <td>47.6993</td>\n",
       "      <td>-122.346</td>\n",
       "      <td>1530</td>\n",
       "      <td>1509</td>\n",
       "    </tr>\n",
       "    <tr>\n",
       "      <th>21593</th>\n",
       "      <td>6600060120</td>\n",
       "      <td>2/23/2015</td>\n",
       "      <td>400000.0</td>\n",
       "      <td>4</td>\n",
       "      <td>2.50</td>\n",
       "      <td>2310</td>\n",
       "      <td>5813</td>\n",
       "      <td>2.0</td>\n",
       "      <td>0</td>\n",
       "      <td>0</td>\n",
       "      <td>...</td>\n",
       "      <td>9</td>\n",
       "      <td>2310</td>\n",
       "      <td>0.0</td>\n",
       "      <td>2014</td>\n",
       "      <td>0.0</td>\n",
       "      <td>98146</td>\n",
       "      <td>47.5107</td>\n",
       "      <td>-122.362</td>\n",
       "      <td>1830</td>\n",
       "      <td>7200</td>\n",
       "    </tr>\n",
       "    <tr>\n",
       "      <th>21594</th>\n",
       "      <td>1523300141</td>\n",
       "      <td>6/23/2014</td>\n",
       "      <td>402101.0</td>\n",
       "      <td>2</td>\n",
       "      <td>0.75</td>\n",
       "      <td>1020</td>\n",
       "      <td>1350</td>\n",
       "      <td>2.0</td>\n",
       "      <td>0</td>\n",
       "      <td>0</td>\n",
       "      <td>...</td>\n",
       "      <td>8</td>\n",
       "      <td>1020</td>\n",
       "      <td>0.0</td>\n",
       "      <td>2009</td>\n",
       "      <td>0.0</td>\n",
       "      <td>98144</td>\n",
       "      <td>47.5944</td>\n",
       "      <td>-122.299</td>\n",
       "      <td>1020</td>\n",
       "      <td>2007</td>\n",
       "    </tr>\n",
       "    <tr>\n",
       "      <th>21596</th>\n",
       "      <td>1523300157</td>\n",
       "      <td>10/15/2014</td>\n",
       "      <td>325000.0</td>\n",
       "      <td>2</td>\n",
       "      <td>0.75</td>\n",
       "      <td>1020</td>\n",
       "      <td>1076</td>\n",
       "      <td>2.0</td>\n",
       "      <td>0</td>\n",
       "      <td>0</td>\n",
       "      <td>...</td>\n",
       "      <td>8</td>\n",
       "      <td>1020</td>\n",
       "      <td>0.0</td>\n",
       "      <td>2008</td>\n",
       "      <td>0.0</td>\n",
       "      <td>98144</td>\n",
       "      <td>47.5941</td>\n",
       "      <td>-122.299</td>\n",
       "      <td>1020</td>\n",
       "      <td>1357</td>\n",
       "    </tr>\n",
       "  </tbody>\n",
       "</table>\n",
       "<p>15762 rows × 21 columns</p>\n",
       "</div>"
      ],
      "text/plain": [
       "               id        date      price  bedrooms  bathrooms  sqft_living  \\\n",
       "1      6414100192   12/9/2014   538000.0         3       2.25         2570   \n",
       "3      2487200875   12/9/2014   604000.0         4       3.00         1960   \n",
       "4      1954400510   2/18/2015   510000.0         3       2.00         1680   \n",
       "5      7237550310   5/12/2014  1230000.0         4       4.50         5420   \n",
       "6      1321400060   6/27/2014   257500.0         3       2.25         1715   \n",
       "...           ...         ...        ...       ...        ...          ...   \n",
       "21591  2997800021   2/19/2015   475000.0         3       2.50         1310   \n",
       "21592   263000018   5/21/2014   360000.0         3       2.50         1530   \n",
       "21593  6600060120   2/23/2015   400000.0         4       2.50         2310   \n",
       "21594  1523300141   6/23/2014   402101.0         2       0.75         1020   \n",
       "21596  1523300157  10/15/2014   325000.0         2       0.75         1020   \n",
       "\n",
       "       sqft_lot  floors  waterfront  view  ... grade sqft_above  \\\n",
       "1          7242     2.0           0     0  ...     8       2170   \n",
       "3          5000     1.0           0     0  ...     8       1050   \n",
       "4          8080     1.0           0     0  ...     9       1680   \n",
       "5        101930     1.0           0     0  ...     1       3890   \n",
       "6          6819     2.0           0     0  ...     8       1715   \n",
       "...         ...     ...         ...   ...  ...   ...        ...   \n",
       "21591      1294     2.0           0     0  ...     9       1180   \n",
       "21592      1131     3.0           0     0  ...     9       1530   \n",
       "21593      5813     2.0           0     0  ...     9       2310   \n",
       "21594      1350     2.0           0     0  ...     8       1020   \n",
       "21596      1076     2.0           0     0  ...     8       1020   \n",
       "\n",
       "       sqft_basement yr_built  yr_renovated  zipcode      lat     long  \\\n",
       "1              400.0     1951        1991.0    98125  47.7210 -122.319   \n",
       "3              910.0     1965           0.0    98136  47.5208 -122.393   \n",
       "4                0.0     1987           0.0    98074  47.6168 -122.045   \n",
       "5             1530.0     2001           0.0    98053  47.6561 -122.005   \n",
       "6                  ?     1995           0.0    98003  47.3097 -122.327   \n",
       "...              ...      ...           ...      ...      ...      ...   \n",
       "21591          130.0     2008           0.0    98116  47.5773 -122.409   \n",
       "21592            0.0     2009           0.0    98103  47.6993 -122.346   \n",
       "21593            0.0     2014           0.0    98146  47.5107 -122.362   \n",
       "21594            0.0     2009           0.0    98144  47.5944 -122.299   \n",
       "21596            0.0     2008           0.0    98144  47.5941 -122.299   \n",
       "\n",
       "       sqft_living15  sqft_lot15  \n",
       "1               1690        7639  \n",
       "3               1360        5000  \n",
       "4               1800        7503  \n",
       "5               4760      101930  \n",
       "6               2238        6819  \n",
       "...              ...         ...  \n",
       "21591           1330        1265  \n",
       "21592           1530        1509  \n",
       "21593           1830        7200  \n",
       "21594           1020        2007  \n",
       "21596           1020        1357  \n",
       "\n",
       "[15762 rows x 21 columns]"
      ]
     },
     "execution_count": 178,
>>>>>>> 1edd18eab448421b9c0914a4d023bc98d3165336
     "metadata": {},
     "output_type": "execute_result"
    }
   ],
   "source": [
<<<<<<< HEAD
    "X_target_house_np = X_target_house.values\n",
    "X_target_house_np"
=======
    "df"
   ]
  },
  {
   "cell_type": "code",
   "execution_count": 105,
   "metadata": {},
   "outputs": [],
   "source": [
    "df = df.dropna()"
   ]
  },
  {
   "cell_type": "code",
   "execution_count": 200,
   "metadata": {},
   "outputs": [
    {
     "name": "stdout",
     "output_type": "stream",
     "text": [
      "<class 'pandas.core.frame.DataFrame'>\n",
      "Int64Index: 15762 entries, 1 to 21596\n",
      "Data columns (total 21 columns):\n",
      " #   Column         Non-Null Count  Dtype  \n",
      "---  ------         --------------  -----  \n",
      " 0   id             15762 non-null  int64  \n",
      " 1   date           15762 non-null  object \n",
      " 2   price          15762 non-null  float64\n",
      " 3   bedrooms       15762 non-null  int64  \n",
      " 4   bathrooms      15762 non-null  float64\n",
      " 5   sqft_living    15762 non-null  int64  \n",
      " 6   sqft_lot       15762 non-null  int64  \n",
      " 7   floors         15762 non-null  float64\n",
      " 8   waterfront     15762 non-null  uint8  \n",
      " 9   view           15762 non-null  int8   \n",
      " 10  condition      15762 non-null  int8   \n",
      " 11  grade          15762 non-null  int8   \n",
      " 12  sqft_above     15762 non-null  int64  \n",
      " 13  sqft_basement  15762 non-null  object \n",
      " 14  yr_built       15762 non-null  int64  \n",
      " 15  yr_renovated   15762 non-null  float64\n",
      " 16  zipcode        15762 non-null  int64  \n",
      " 17  lat            15762 non-null  float64\n",
      " 18  long           15762 non-null  float64\n",
      " 19  sqft_living15  15762 non-null  int64  \n",
      " 20  sqft_lot15     15762 non-null  int64  \n",
      "dtypes: float64(6), int64(9), int8(3), object(2), uint8(1)\n",
      "memory usage: 2.2+ MB\n"
     ]
    }
   ],
   "source": [
    "df.info()"
>>>>>>> 1edd18eab448421b9c0914a4d023bc98d3165336
   ]
  },
  {
   "cell_type": "code",
<<<<<<< HEAD
   "execution_count": 71,
=======
   "execution_count": 107,
>>>>>>> 1edd18eab448421b9c0914a4d023bc98d3165336
   "metadata": {},
   "outputs": [
    {
     "data": {
      "text/plain": [
<<<<<<< HEAD
       "array([[2.000e+00, 2.500e+00, 2.560e+03, 2.500e+03, 2.000e+00, 0.000e+00,\n",
       "        0.000e+00, 9.000e+00, 8.700e+02, 1.024e+00]])"
      ]
     },
     "execution_count": 71,
=======
       "array(['NO', 'YES'], dtype=object)"
      ]
     },
     "execution_count": 107,
>>>>>>> 1edd18eab448421b9c0914a4d023bc98d3165336
     "metadata": {},
     "output_type": "execute_result"
    }
   ],
   "source": [
<<<<<<< HEAD
    "X_target_house_input = X_target_house_np.reshape(1,-1)\n",
    "X_target_house_input"
   ]
  },
  {
   "cell_type": "markdown",
   "metadata": {},
   "source": [
    "The model predicts a price for this old house"
=======
    "df['waterfront'].unique()"
   ]
  },
  {
   "cell_type": "code",
   "execution_count": 108,
   "metadata": {},
   "outputs": [
    {
     "data": {
      "text/html": [
       "<div>\n",
       "<style scoped>\n",
       "    .dataframe tbody tr th:only-of-type {\n",
       "        vertical-align: middle;\n",
       "    }\n",
       "\n",
       "    .dataframe tbody tr th {\n",
       "        vertical-align: top;\n",
       "    }\n",
       "\n",
       "    .dataframe thead th {\n",
       "        text-align: right;\n",
       "    }\n",
       "</style>\n",
       "<table border=\"1\" class=\"dataframe\">\n",
       "  <thead>\n",
       "    <tr style=\"text-align: right;\">\n",
       "      <th></th>\n",
       "      <th>NO</th>\n",
       "      <th>YES</th>\n",
       "    </tr>\n",
       "  </thead>\n",
       "  <tbody>\n",
       "    <tr>\n",
       "      <th>21591</th>\n",
       "      <td>1</td>\n",
       "      <td>0</td>\n",
       "    </tr>\n",
       "    <tr>\n",
       "      <th>21592</th>\n",
       "      <td>1</td>\n",
       "      <td>0</td>\n",
       "    </tr>\n",
       "    <tr>\n",
       "      <th>21593</th>\n",
       "      <td>1</td>\n",
       "      <td>0</td>\n",
       "    </tr>\n",
       "    <tr>\n",
       "      <th>21594</th>\n",
       "      <td>1</td>\n",
       "      <td>0</td>\n",
       "    </tr>\n",
       "    <tr>\n",
       "      <th>21596</th>\n",
       "      <td>1</td>\n",
       "      <td>0</td>\n",
       "    </tr>\n",
       "  </tbody>\n",
       "</table>\n",
       "</div>"
      ],
      "text/plain": [
       "       NO  YES\n",
       "21591   1    0\n",
       "21592   1    0\n",
       "21593   1    0\n",
       "21594   1    0\n",
       "21596   1    0"
      ]
     },
     "execution_count": 108,
     "metadata": {},
     "output_type": "execute_result"
    }
   ],
   "source": [
    "pd.get_dummies(df['waterfront']).tail()"
>>>>>>> 1edd18eab448421b9c0914a4d023bc98d3165336
   ]
  },
  {
   "cell_type": "code",
<<<<<<< HEAD
   "execution_count": 72,
=======
   "execution_count": 115,
   "metadata": {},
   "outputs": [
    {
     "name": "stderr",
     "output_type": "stream",
     "text": [
      "<ipython-input-115-31b0bf79b242>:1: SettingWithCopyWarning: \n",
      "A value is trying to be set on a copy of a slice from a DataFrame.\n",
      "Try using .loc[row_indexer,col_indexer] = value instead\n",
      "\n",
      "See the caveats in the documentation: https://pandas.pydata.org/pandas-docs/stable/user_guide/indexing.html#returning-a-view-versus-a-copy\n",
      "  df['waterfront'] = pd.get_dummies(df['waterfront'], drop_first = True)\n"
     ]
    }
   ],
   "source": [
    "df['waterfront'] = pd.get_dummies(df['waterfront'], drop_first = True)"
   ]
  },
  {
   "cell_type": "code",
   "execution_count": 206,
>>>>>>> 1edd18eab448421b9c0914a4d023bc98d3165336
   "metadata": {},
   "outputs": [
    {
     "data": {
      "text/plain": [
<<<<<<< HEAD
       "array([809172.24753895])"
      ]
     },
     "execution_count": 72,
=======
       "21591    0\n",
       "21592    0\n",
       "21593    0\n",
       "21594    0\n",
       "21596    0\n",
       "Name: waterfront, dtype: uint8"
      ]
     },
     "execution_count": 206,
>>>>>>> 1edd18eab448421b9c0914a4d023bc98d3165336
     "metadata": {},
     "output_type": "execute_result"
    }
   ],
   "source": [
<<<<<<< HEAD
    "lr.predict(X_target_house_input)\n"
   ]
  },
  {
   "cell_type": "markdown",
   "metadata": {},
   "source": [
    "if builder or develop buy this house, the estimated value of this homes is $899101, the list price of this house is $780000. $119101 increaed. "
=======
    "df['waterfront'].tail()"
   ]
  },
  {
   "cell_type": "code",
   "execution_count": 167,
   "metadata": {},
   "outputs": [
    {
     "data": {
      "text/plain": [
       "['NONE', 'GOOD', 'EXCELLENT', 'AVERAGE', 'FAIR']\n",
       "Categories (5, object): ['NONE', 'GOOD', 'EXCELLENT', 'AVERAGE', 'FAIR']"
      ]
     },
     "execution_count": 167,
     "metadata": {},
     "output_type": "execute_result"
    }
   ],
   "source": [
    "df['view'].unique()"
>>>>>>> 1edd18eab448421b9c0914a4d023bc98d3165336
   ]
  },
  {
   "cell_type": "code",
<<<<<<< HEAD
   "execution_count": 73,
   "metadata": {},
   "outputs": [
    {
     "name": "stdout",
     "output_type": "stream",
     "text": [
      "2708    3.740032\n",
      "Name: price, dtype: float64\n"
=======
   "execution_count": 168,
   "metadata": {},
   "outputs": [
    {
     "name": "stderr",
     "output_type": "stream",
     "text": [
      "<ipython-input-168-fa85339b8fcc>:1: SettingWithCopyWarning: \n",
      "A value is trying to be set on a copy of a slice from a DataFrame.\n",
      "Try using .loc[row_indexer,col_indexer] = value instead\n",
      "\n",
      "See the caveats in the documentation: https://pandas.pydata.org/pandas-docs/stable/user_guide/indexing.html#returning-a-view-versus-a-copy\n",
      "  df['view'] = df['view'].astype('category')\n"
>>>>>>> 1edd18eab448421b9c0914a4d023bc98d3165336
     ]
    }
   ],
   "source": [
<<<<<<< HEAD
    "percent_change = (lr.predict(X_target_house_input)[0] - select_house['price'] ) / select_house['price'] * 100\n",
    "print(percent_change)"
   ]
  },
  {
   "cell_type": "markdown",
   "metadata": {},
   "source": [
    "$899101 and compare to the distribution"
=======
    "df['view'] = df['view'].astype('category')"
   ]
  },
  {
   "cell_type": "code",
   "execution_count": 169,
   "metadata": {},
   "outputs": [
    {
     "name": "stderr",
     "output_type": "stream",
     "text": [
      "<ipython-input-169-deece11c3f85>:1: SettingWithCopyWarning: \n",
      "A value is trying to be set on a copy of a slice from a DataFrame.\n",
      "Try using .loc[row_indexer,col_indexer] = value instead\n",
      "\n",
      "See the caveats in the documentation: https://pandas.pydata.org/pandas-docs/stable/user_guide/indexing.html#returning-a-view-versus-a-copy\n",
      "  df['view'] = df['view'].cat.reorder_categories(['NONE', 'FAIR', 'AVERAGE', 'GOOD', 'EXCELLENT'])\n"
     ]
    }
   ],
   "source": [
    "df['view'] = df['view'].cat.reorder_categories(['NONE', 'FAIR', 'AVERAGE', 'GOOD', 'EXCELLENT'])"
   ]
  },
  {
   "cell_type": "code",
   "execution_count": 176,
   "metadata": {},
   "outputs": [
    {
     "name": "stderr",
     "output_type": "stream",
     "text": [
      "<ipython-input-176-59a17340542c>:1: SettingWithCopyWarning: \n",
      "A value is trying to be set on a copy of a slice from a DataFrame.\n",
      "Try using .loc[row_indexer,col_indexer] = value instead\n",
      "\n",
      "See the caveats in the documentation: https://pandas.pydata.org/pandas-docs/stable/user_guide/indexing.html#returning-a-view-versus-a-copy\n",
      "  df['view'] = df['view'].cat.codes\n"
     ]
    }
   ],
   "source": [
    "df['view'] = df['view'].cat.codes"
   ]
  },
  {
   "cell_type": "code",
   "execution_count": 185,
   "metadata": {},
   "outputs": [
    {
     "data": {
      "text/plain": [
       "[2, 4, 3, 0, 1]\n",
       "Categories (5, int64): [2, 4, 3, 0, 1]"
      ]
     },
     "execution_count": 185,
     "metadata": {},
     "output_type": "execute_result"
    }
   ],
   "source": [
    "df['condition'].unique()"
   ]
  },
  {
   "cell_type": "code",
   "execution_count": 186,
   "metadata": {},
   "outputs": [
    {
     "name": "stderr",
     "output_type": "stream",
     "text": [
      "<ipython-input-186-0290f567fca9>:1: SettingWithCopyWarning: \n",
      "A value is trying to be set on a copy of a slice from a DataFrame.\n",
      "Try using .loc[row_indexer,col_indexer] = value instead\n",
      "\n",
      "See the caveats in the documentation: https://pandas.pydata.org/pandas-docs/stable/user_guide/indexing.html#returning-a-view-versus-a-copy\n",
      "  df['condition'] = df['condition'].astype('category')\n"
     ]
    }
   ],
   "source": [
    "df['condition'] = df['condition'].astype('category')"
   ]
  },
  {
   "cell_type": "code",
   "execution_count": 187,
   "metadata": {},
   "outputs": [
    {
     "name": "stderr",
     "output_type": "stream",
     "text": [
      "<ipython-input-187-7ff86a9e77bc>:1: SettingWithCopyWarning: \n",
      "A value is trying to be set on a copy of a slice from a DataFrame.\n",
      "Try using .loc[row_indexer,col_indexer] = value instead\n",
      "\n",
      "See the caveats in the documentation: https://pandas.pydata.org/pandas-docs/stable/user_guide/indexing.html#returning-a-view-versus-a-copy\n",
      "  df['condition'] = df['condition'].cat.codes\n"
     ]
    }
   ],
   "source": [
    "df['condition'] = df['condition'].cat.codes"
   ]
  },
  {
   "cell_type": "code",
   "execution_count": 189,
   "metadata": {},
   "outputs": [
    {
     "data": {
      "text/plain": [
       "1        2\n",
       "3        4\n",
       "4        2\n",
       "5        2\n",
       "6        2\n",
       "        ..\n",
       "21591    2\n",
       "21592    2\n",
       "21593    2\n",
       "21594    2\n",
       "21596    2\n",
       "Name: condition, Length: 15762, dtype: int8"
      ]
     },
     "execution_count": 189,
     "metadata": {},
     "output_type": "execute_result"
    }
   ],
   "source": [
    "df['condition']"
   ]
  },
  {
   "cell_type": "code",
   "execution_count": 199,
   "metadata": {},
   "outputs": [
    {
     "data": {
      "text/plain": [
       "array([ 8,  9,  1, 10,  7,  6,  0,  2,  5,  4,  3], dtype=int8)"
      ]
     },
     "execution_count": 199,
     "metadata": {},
     "output_type": "execute_result"
    }
   ],
   "source": [
    "df['grade'].unique()"
   ]
  },
  {
   "cell_type": "code",
   "execution_count": 201,
   "metadata": {},
   "outputs": [
    {
     "name": "stderr",
     "output_type": "stream",
     "text": [
      "<ipython-input-201-cf3df0aa44dd>:1: SettingWithCopyWarning: \n",
      "A value is trying to be set on a copy of a slice from a DataFrame.\n",
      "Try using .loc[row_indexer,col_indexer] = value instead\n",
      "\n",
      "See the caveats in the documentation: https://pandas.pydata.org/pandas-docs/stable/user_guide/indexing.html#returning-a-view-versus-a-copy\n",
      "  df['grade'] = df['grade'].astype('category')\n"
     ]
    }
   ],
   "source": [
    "df['grade'] = df['grade'].astype('category')"
   ]
  },
  {
   "cell_type": "code",
   "execution_count": 202,
   "metadata": {},
   "outputs": [
    {
     "name": "stderr",
     "output_type": "stream",
     "text": [
      "<ipython-input-202-1a15624ffed8>:1: SettingWithCopyWarning: \n",
      "A value is trying to be set on a copy of a slice from a DataFrame.\n",
      "Try using .loc[row_indexer,col_indexer] = value instead\n",
      "\n",
      "See the caveats in the documentation: https://pandas.pydata.org/pandas-docs/stable/user_guide/indexing.html#returning-a-view-versus-a-copy\n",
      "  df['grade'] = df['grade'].cat.codes\n"
     ]
    }
   ],
   "source": [
    "df['grade'] = df['grade'].cat.codes"
   ]
  },
  {
   "cell_type": "code",
   "execution_count": 203,
   "metadata": {},
   "outputs": [
    {
     "data": {
      "text/html": [
       "<div>\n",
       "<style scoped>\n",
       "    .dataframe tbody tr th:only-of-type {\n",
       "        vertical-align: middle;\n",
       "    }\n",
       "\n",
       "    .dataframe tbody tr th {\n",
       "        vertical-align: top;\n",
       "    }\n",
       "\n",
       "    .dataframe thead th {\n",
       "        text-align: right;\n",
       "    }\n",
       "</style>\n",
       "<table border=\"1\" class=\"dataframe\">\n",
       "  <thead>\n",
       "    <tr style=\"text-align: right;\">\n",
       "      <th></th>\n",
       "      <th>id</th>\n",
       "      <th>date</th>\n",
       "      <th>price</th>\n",
       "      <th>bedrooms</th>\n",
       "      <th>bathrooms</th>\n",
       "      <th>sqft_living</th>\n",
       "      <th>sqft_lot</th>\n",
       "      <th>floors</th>\n",
       "      <th>waterfront</th>\n",
       "      <th>view</th>\n",
       "      <th>...</th>\n",
       "      <th>grade</th>\n",
       "      <th>sqft_above</th>\n",
       "      <th>sqft_basement</th>\n",
       "      <th>yr_built</th>\n",
       "      <th>yr_renovated</th>\n",
       "      <th>zipcode</th>\n",
       "      <th>lat</th>\n",
       "      <th>long</th>\n",
       "      <th>sqft_living15</th>\n",
       "      <th>sqft_lot15</th>\n",
       "    </tr>\n",
       "  </thead>\n",
       "  <tbody>\n",
       "    <tr>\n",
       "      <th>1</th>\n",
       "      <td>6414100192</td>\n",
       "      <td>12/9/2014</td>\n",
       "      <td>538000.0</td>\n",
       "      <td>3</td>\n",
       "      <td>2.25</td>\n",
       "      <td>2570</td>\n",
       "      <td>7242</td>\n",
       "      <td>2.0</td>\n",
       "      <td>0</td>\n",
       "      <td>0</td>\n",
       "      <td>...</td>\n",
       "      <td>8</td>\n",
       "      <td>2170</td>\n",
       "      <td>400.0</td>\n",
       "      <td>1951</td>\n",
       "      <td>1991.0</td>\n",
       "      <td>98125</td>\n",
       "      <td>47.7210</td>\n",
       "      <td>-122.319</td>\n",
       "      <td>1690</td>\n",
       "      <td>7639</td>\n",
       "    </tr>\n",
       "    <tr>\n",
       "      <th>3</th>\n",
       "      <td>2487200875</td>\n",
       "      <td>12/9/2014</td>\n",
       "      <td>604000.0</td>\n",
       "      <td>4</td>\n",
       "      <td>3.00</td>\n",
       "      <td>1960</td>\n",
       "      <td>5000</td>\n",
       "      <td>1.0</td>\n",
       "      <td>0</td>\n",
       "      <td>0</td>\n",
       "      <td>...</td>\n",
       "      <td>8</td>\n",
       "      <td>1050</td>\n",
       "      <td>910.0</td>\n",
       "      <td>1965</td>\n",
       "      <td>0.0</td>\n",
       "      <td>98136</td>\n",
       "      <td>47.5208</td>\n",
       "      <td>-122.393</td>\n",
       "      <td>1360</td>\n",
       "      <td>5000</td>\n",
       "    </tr>\n",
       "    <tr>\n",
       "      <th>4</th>\n",
       "      <td>1954400510</td>\n",
       "      <td>2/18/2015</td>\n",
       "      <td>510000.0</td>\n",
       "      <td>3</td>\n",
       "      <td>2.00</td>\n",
       "      <td>1680</td>\n",
       "      <td>8080</td>\n",
       "      <td>1.0</td>\n",
       "      <td>0</td>\n",
       "      <td>0</td>\n",
       "      <td>...</td>\n",
       "      <td>9</td>\n",
       "      <td>1680</td>\n",
       "      <td>0.0</td>\n",
       "      <td>1987</td>\n",
       "      <td>0.0</td>\n",
       "      <td>98074</td>\n",
       "      <td>47.6168</td>\n",
       "      <td>-122.045</td>\n",
       "      <td>1800</td>\n",
       "      <td>7503</td>\n",
       "    </tr>\n",
       "    <tr>\n",
       "      <th>5</th>\n",
       "      <td>7237550310</td>\n",
       "      <td>5/12/2014</td>\n",
       "      <td>1230000.0</td>\n",
       "      <td>4</td>\n",
       "      <td>4.50</td>\n",
       "      <td>5420</td>\n",
       "      <td>101930</td>\n",
       "      <td>1.0</td>\n",
       "      <td>0</td>\n",
       "      <td>0</td>\n",
       "      <td>...</td>\n",
       "      <td>1</td>\n",
       "      <td>3890</td>\n",
       "      <td>1530.0</td>\n",
       "      <td>2001</td>\n",
       "      <td>0.0</td>\n",
       "      <td>98053</td>\n",
       "      <td>47.6561</td>\n",
       "      <td>-122.005</td>\n",
       "      <td>4760</td>\n",
       "      <td>101930</td>\n",
       "    </tr>\n",
       "    <tr>\n",
       "      <th>6</th>\n",
       "      <td>1321400060</td>\n",
       "      <td>6/27/2014</td>\n",
       "      <td>257500.0</td>\n",
       "      <td>3</td>\n",
       "      <td>2.25</td>\n",
       "      <td>1715</td>\n",
       "      <td>6819</td>\n",
       "      <td>2.0</td>\n",
       "      <td>0</td>\n",
       "      <td>0</td>\n",
       "      <td>...</td>\n",
       "      <td>8</td>\n",
       "      <td>1715</td>\n",
       "      <td>?</td>\n",
       "      <td>1995</td>\n",
       "      <td>0.0</td>\n",
       "      <td>98003</td>\n",
       "      <td>47.3097</td>\n",
       "      <td>-122.327</td>\n",
       "      <td>2238</td>\n",
       "      <td>6819</td>\n",
       "    </tr>\n",
       "    <tr>\n",
       "      <th>...</th>\n",
       "      <td>...</td>\n",
       "      <td>...</td>\n",
       "      <td>...</td>\n",
       "      <td>...</td>\n",
       "      <td>...</td>\n",
       "      <td>...</td>\n",
       "      <td>...</td>\n",
       "      <td>...</td>\n",
       "      <td>...</td>\n",
       "      <td>...</td>\n",
       "      <td>...</td>\n",
       "      <td>...</td>\n",
       "      <td>...</td>\n",
       "      <td>...</td>\n",
       "      <td>...</td>\n",
       "      <td>...</td>\n",
       "      <td>...</td>\n",
       "      <td>...</td>\n",
       "      <td>...</td>\n",
       "      <td>...</td>\n",
       "      <td>...</td>\n",
       "    </tr>\n",
       "    <tr>\n",
       "      <th>21591</th>\n",
       "      <td>2997800021</td>\n",
       "      <td>2/19/2015</td>\n",
       "      <td>475000.0</td>\n",
       "      <td>3</td>\n",
       "      <td>2.50</td>\n",
       "      <td>1310</td>\n",
       "      <td>1294</td>\n",
       "      <td>2.0</td>\n",
       "      <td>0</td>\n",
       "      <td>0</td>\n",
       "      <td>...</td>\n",
       "      <td>9</td>\n",
       "      <td>1180</td>\n",
       "      <td>130.0</td>\n",
       "      <td>2008</td>\n",
       "      <td>0.0</td>\n",
       "      <td>98116</td>\n",
       "      <td>47.5773</td>\n",
       "      <td>-122.409</td>\n",
       "      <td>1330</td>\n",
       "      <td>1265</td>\n",
       "    </tr>\n",
       "    <tr>\n",
       "      <th>21592</th>\n",
       "      <td>263000018</td>\n",
       "      <td>5/21/2014</td>\n",
       "      <td>360000.0</td>\n",
       "      <td>3</td>\n",
       "      <td>2.50</td>\n",
       "      <td>1530</td>\n",
       "      <td>1131</td>\n",
       "      <td>3.0</td>\n",
       "      <td>0</td>\n",
       "      <td>0</td>\n",
       "      <td>...</td>\n",
       "      <td>9</td>\n",
       "      <td>1530</td>\n",
       "      <td>0.0</td>\n",
       "      <td>2009</td>\n",
       "      <td>0.0</td>\n",
       "      <td>98103</td>\n",
       "      <td>47.6993</td>\n",
       "      <td>-122.346</td>\n",
       "      <td>1530</td>\n",
       "      <td>1509</td>\n",
       "    </tr>\n",
       "    <tr>\n",
       "      <th>21593</th>\n",
       "      <td>6600060120</td>\n",
       "      <td>2/23/2015</td>\n",
       "      <td>400000.0</td>\n",
       "      <td>4</td>\n",
       "      <td>2.50</td>\n",
       "      <td>2310</td>\n",
       "      <td>5813</td>\n",
       "      <td>2.0</td>\n",
       "      <td>0</td>\n",
       "      <td>0</td>\n",
       "      <td>...</td>\n",
       "      <td>9</td>\n",
       "      <td>2310</td>\n",
       "      <td>0.0</td>\n",
       "      <td>2014</td>\n",
       "      <td>0.0</td>\n",
       "      <td>98146</td>\n",
       "      <td>47.5107</td>\n",
       "      <td>-122.362</td>\n",
       "      <td>1830</td>\n",
       "      <td>7200</td>\n",
       "    </tr>\n",
       "    <tr>\n",
       "      <th>21594</th>\n",
       "      <td>1523300141</td>\n",
       "      <td>6/23/2014</td>\n",
       "      <td>402101.0</td>\n",
       "      <td>2</td>\n",
       "      <td>0.75</td>\n",
       "      <td>1020</td>\n",
       "      <td>1350</td>\n",
       "      <td>2.0</td>\n",
       "      <td>0</td>\n",
       "      <td>0</td>\n",
       "      <td>...</td>\n",
       "      <td>8</td>\n",
       "      <td>1020</td>\n",
       "      <td>0.0</td>\n",
       "      <td>2009</td>\n",
       "      <td>0.0</td>\n",
       "      <td>98144</td>\n",
       "      <td>47.5944</td>\n",
       "      <td>-122.299</td>\n",
       "      <td>1020</td>\n",
       "      <td>2007</td>\n",
       "    </tr>\n",
       "    <tr>\n",
       "      <th>21596</th>\n",
       "      <td>1523300157</td>\n",
       "      <td>10/15/2014</td>\n",
       "      <td>325000.0</td>\n",
       "      <td>2</td>\n",
       "      <td>0.75</td>\n",
       "      <td>1020</td>\n",
       "      <td>1076</td>\n",
       "      <td>2.0</td>\n",
       "      <td>0</td>\n",
       "      <td>0</td>\n",
       "      <td>...</td>\n",
       "      <td>8</td>\n",
       "      <td>1020</td>\n",
       "      <td>0.0</td>\n",
       "      <td>2008</td>\n",
       "      <td>0.0</td>\n",
       "      <td>98144</td>\n",
       "      <td>47.5941</td>\n",
       "      <td>-122.299</td>\n",
       "      <td>1020</td>\n",
       "      <td>1357</td>\n",
       "    </tr>\n",
       "  </tbody>\n",
       "</table>\n",
       "<p>15762 rows × 21 columns</p>\n",
       "</div>"
      ],
      "text/plain": [
       "               id        date      price  bedrooms  bathrooms  sqft_living  \\\n",
       "1      6414100192   12/9/2014   538000.0         3       2.25         2570   \n",
       "3      2487200875   12/9/2014   604000.0         4       3.00         1960   \n",
       "4      1954400510   2/18/2015   510000.0         3       2.00         1680   \n",
       "5      7237550310   5/12/2014  1230000.0         4       4.50         5420   \n",
       "6      1321400060   6/27/2014   257500.0         3       2.25         1715   \n",
       "...           ...         ...        ...       ...        ...          ...   \n",
       "21591  2997800021   2/19/2015   475000.0         3       2.50         1310   \n",
       "21592   263000018   5/21/2014   360000.0         3       2.50         1530   \n",
       "21593  6600060120   2/23/2015   400000.0         4       2.50         2310   \n",
       "21594  1523300141   6/23/2014   402101.0         2       0.75         1020   \n",
       "21596  1523300157  10/15/2014   325000.0         2       0.75         1020   \n",
       "\n",
       "       sqft_lot  floors  waterfront  view  ...  grade  sqft_above  \\\n",
       "1          7242     2.0           0     0  ...      8        2170   \n",
       "3          5000     1.0           0     0  ...      8        1050   \n",
       "4          8080     1.0           0     0  ...      9        1680   \n",
       "5        101930     1.0           0     0  ...      1        3890   \n",
       "6          6819     2.0           0     0  ...      8        1715   \n",
       "...         ...     ...         ...   ...  ...    ...         ...   \n",
       "21591      1294     2.0           0     0  ...      9        1180   \n",
       "21592      1131     3.0           0     0  ...      9        1530   \n",
       "21593      5813     2.0           0     0  ...      9        2310   \n",
       "21594      1350     2.0           0     0  ...      8        1020   \n",
       "21596      1076     2.0           0     0  ...      8        1020   \n",
       "\n",
       "       sqft_basement yr_built  yr_renovated  zipcode      lat     long  \\\n",
       "1              400.0     1951        1991.0    98125  47.7210 -122.319   \n",
       "3              910.0     1965           0.0    98136  47.5208 -122.393   \n",
       "4                0.0     1987           0.0    98074  47.6168 -122.045   \n",
       "5             1530.0     2001           0.0    98053  47.6561 -122.005   \n",
       "6                  ?     1995           0.0    98003  47.3097 -122.327   \n",
       "...              ...      ...           ...      ...      ...      ...   \n",
       "21591          130.0     2008           0.0    98116  47.5773 -122.409   \n",
       "21592            0.0     2009           0.0    98103  47.6993 -122.346   \n",
       "21593            0.0     2014           0.0    98146  47.5107 -122.362   \n",
       "21594            0.0     2009           0.0    98144  47.5944 -122.299   \n",
       "21596            0.0     2008           0.0    98144  47.5941 -122.299   \n",
       "\n",
       "       sqft_living15  sqft_lot15  \n",
       "1               1690        7639  \n",
       "3               1360        5000  \n",
       "4               1800        7503  \n",
       "5               4760      101930  \n",
       "6               2238        6819  \n",
       "...              ...         ...  \n",
       "21591           1330        1265  \n",
       "21592           1530        1509  \n",
       "21593           1830        7200  \n",
       "21594           1020        2007  \n",
       "21596           1020        1357  \n",
       "\n",
       "[15762 rows x 21 columns]"
      ]
     },
     "execution_count": 203,
     "metadata": {},
     "output_type": "execute_result"
    }
   ],
   "source": [
    "df"
   ]
  },
  {
   "cell_type": "code",
   "execution_count": 177,
   "metadata": {},
   "outputs": [
    {
     "data": {
      "text/plain": [
       "1        0\n",
       "3        0\n",
       "4        0\n",
       "5        0\n",
       "6        0\n",
       "        ..\n",
       "21591    0\n",
       "21592    0\n",
       "21593    0\n",
       "21594    0\n",
       "21596    0\n",
       "Name: view, Length: 15762, dtype: int8"
      ]
     },
     "execution_count": 177,
     "metadata": {},
     "output_type": "execute_result"
    }
   ],
   "source": [
    "df['view']"
   ]
  },
  {
   "cell_type": "code",
   "execution_count": 193,
   "metadata": {},
   "outputs": [
    {
     "data": {
      "text/plain": [
       "id                  int64\n",
       "date               object\n",
       "price             float64\n",
       "bedrooms            int64\n",
       "bathrooms         float64\n",
       "sqft_living         int64\n",
       "sqft_lot            int64\n",
       "floors            float64\n",
       "waterfront          uint8\n",
       "view                 int8\n",
       "condition            int8\n",
       "grade            category\n",
       "sqft_above          int64\n",
       "sqft_basement      object\n",
       "yr_built            int64\n",
       "yr_renovated      float64\n",
       "zipcode             int64\n",
       "lat               float64\n",
       "long              float64\n",
       "sqft_living15       int64\n",
       "sqft_lot15          int64\n",
       "dtype: object"
      ]
     },
     "execution_count": 193,
     "metadata": {},
     "output_type": "execute_result"
    }
   ],
   "source": [
    "df.dtypes"
>>>>>>> 1edd18eab448421b9c0914a4d023bc98d3165336
   ]
  },
  {
   "cell_type": "code",
<<<<<<< HEAD
   "execution_count": 74,
=======
   "execution_count": 196,
>>>>>>> 1edd18eab448421b9c0914a4d023bc98d3165336
   "metadata": {},
   "outputs": [
    {
     "data": {
<<<<<<< HEAD
      "image/png": "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\n",
=======
      "text/plain": [
       "2    10221\n",
       "3     4137\n",
       "4     1254\n",
       "1      131\n",
       "0       19\n",
       "Name: condition, dtype: int64"
      ]
     },
     "execution_count": 196,
     "metadata": {},
     "output_type": "execute_result"
    }
   ],
   "source": [
    "df['condition'].value_counts()"
   ]
  },
  {
   "cell_type": "code",
   "execution_count": 117,
   "metadata": {},
   "outputs": [],
   "source": [
    "from statsmodels.formula.api import ols"
   ]
  },
  {
   "cell_type": "code",
   "execution_count": null,
   "metadata": {},
   "outputs": [],
   "source": [
    "# 49% of the variance in the price can be explained by sq ft of living space.\n",
    "# a sq ft increase is associated with $280.86 in price"
   ]
  },
  {
   "cell_type": "code",
   "execution_count": 39,
   "metadata": {},
   "outputs": [
    {
     "data": {
      "image/png": "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\n",
>>>>>>> 1edd18eab448421b9c0914a4d023bc98d3165336
      "text/plain": [
       "<Figure size 432x288 with 1 Axes>"
      ]
     },
     "metadata": {
      "needs_background": "light"
     },
     "output_type": "display_data"
    }
   ],
   "source": [
<<<<<<< HEAD
    "price_test()"
=======
    "plt.scatter(df.price, df.sqft_living)\n",
    "plt.title(\"Price vs Sq Ft of Living Space\")\n",
    "plt.show()"
   ]
  },
  {
   "cell_type": "code",
   "execution_count": 204,
   "metadata": {},
   "outputs": [
    {
     "data": {
      "image/png": "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\n",
      "text/plain": [
       "<Figure size 1440x576 with 2 Axes>"
      ]
     },
     "metadata": {
      "needs_background": "light"
     },
     "output_type": "display_data"
    }
   ],
   "source": [
    "plt.figure(figsize=(20, 8))\n",
    "sns.heatmap(df.corr(), annot=True)\n",
    "\n",
    "plt.title('Correlation Matrix for Price')\n",
    "plt.show()"
   ]
  },
  {
   "cell_type": "code",
   "execution_count": null,
   "metadata": {},
   "outputs": [],
   "source": [
    "# Correlated variables:\n",
    "# - "
   ]
  },
  {
   "cell_type": "markdown",
   "metadata": {},
   "source": [
    "multi_formula = 'price ~ sqft_living + bathrooms + bedrooms'\n",
    "multi_model = ols(multi_formula, df).fit()\n",
    "multi_summary = multi_model.summary()\n",
    "multi_summary"
   ]
  },
  {
   "cell_type": "code",
   "execution_count": 65,
   "metadata": {},
   "outputs": [],
   "source": [
    "from sklearn.model_selection import train_test_split, cross_validate, ShuffleSplit\n",
    "splitter = ShuffleSplit(n_splits=2, test_size=.20, random_state=0)"
>>>>>>> 1edd18eab448421b9c0914a4d023bc98d3165336
   ]
  },
  {
   "cell_type": "code",
   "execution_count": null,
   "metadata": {},
   "outputs": [],
   "source": []
  }
 ],
 "metadata": {
  "kernelspec": {
   "display_name": "Python 3",
   "language": "python",
   "name": "python3"
  },
  "language_info": {
   "codemirror_mode": {
    "name": "ipython",
    "version": 3
   },
   "file_extension": ".py",
   "mimetype": "text/x-python",
   "name": "python",
   "nbconvert_exporter": "python",
   "pygments_lexer": "ipython3",
   "version": "3.8.5"
  }
 },
 "nbformat": 4,
 "nbformat_minor": 2
}
